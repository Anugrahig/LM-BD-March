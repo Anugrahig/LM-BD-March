{
 "cells": [
  {
   "cell_type": "markdown",
   "id": "8c91ed55",
   "metadata": {},
   "source": [
    "**Using python to implement setiment analysis**"
   ]
  },
  {
   "cell_type": "code",
   "execution_count": 9,
   "id": "c80bad1f",
   "metadata": {},
   "outputs": [],
   "source": [
    "postive_words=[\"nice\",\"good\",\"awesome\",\"wow\",\"beautiful\",\"best\",\"satisfy\",\"cheerful\",\"happiness\",\"friendly\",\"right\",\"honor\",\"respect\"]\n",
    "negative_words_u=[\"bad\",\"worst\",\"Abrasive\",\"Apathetic\",\"Controlling\",\"Dishonest\",\"Impatient\",\"Anxious\",\"Betrayed\",\"Disappointed\",\"Embarrassed\",\"Jealous\",\"Abysmal\",\"Callous\",\"Corrosive\",\"Damage\",\"Despicable\",\"Don’t\",\"Enraged\",\"Fail\",\"Gawky\",\"Haggard\",\"Hurt\",\"Icky\",\"Insane\",\"Jealous\",\"Lose\",\"Malicious\"]\n",
    "neutral_words=[\"company\",\"organization\",\"tcs\",\"luminar\",\"cognizant\",\"infoysis\",\"service\",\"firm\"]\n",
    "negative_words=[]\n",
    "for i in negative_words_u:\n",
    "    negative_words.append(i.lower())\n",
    "count\n",
    "    "
   ]
  },
  {
   "cell_type": "code",
   "execution_count": 11,
   "id": "ee222579",
   "metadata": {},
   "outputs": [
    {
     "data": {
      "text/plain": [
       "['bad',\n",
       " 'worst',\n",
       " 'abrasive',\n",
       " 'apathetic',\n",
       " 'controlling',\n",
       " 'dishonest',\n",
       " 'impatient',\n",
       " 'anxious',\n",
       " 'betrayed',\n",
       " 'disappointed',\n",
       " 'embarrassed',\n",
       " 'jealous',\n",
       " 'abysmal',\n",
       " 'callous',\n",
       " 'corrosive',\n",
       " 'damage',\n",
       " 'despicable',\n",
       " 'don’t',\n",
       " 'enraged',\n",
       " 'fail',\n",
       " 'gawky',\n",
       " 'haggard',\n",
       " 'hurt',\n",
       " 'icky',\n",
       " 'insane',\n",
       " 'jealous',\n",
       " 'lose',\n",
       " 'malicious']"
      ]
     },
     "execution_count": 11,
     "metadata": {},
     "output_type": "execute_result"
    }
   ],
   "source": [
    "negative_words"
   ]
  },
  {
   "cell_type": "code",
   "execution_count": 31,
   "id": "245afde0",
   "metadata": {},
   "outputs": [
    {
     "name": "stdout",
     "output_type": "stream",
     "text": [
      "Enter the input sentancebad worst\n",
      "bad\n",
      "worst\n",
      "command is negative\n"
     ]
    }
   ],
   "source": [
    "sentance=input(\"Enter the input sentance\")\n",
    "# sentance\n",
    "compare=[]\n",
    "for i in sentance.split(\" \"):\n",
    "    print(i)\n",
    "    if i in postive_words:\n",
    "        compare.append(1)\n",
    "    elif i in negative_words:\n",
    "        compare.append(-1)\n",
    "    else:\n",
    "        compare.append(0)\n",
    "    \n",
    "sum_compare=sum(compare)\n",
    "if sum_compare==0:\n",
    "    print(\"command is neutral\")\n",
    "elif sum_compare>=1:\n",
    "    print(\"command is postive\")\n",
    "else:\n",
    "    print(\"command is negative\")\n",
    "    \n",
    "    "
   ]
  },
  {
   "cell_type": "code",
   "execution_count": 29,
   "id": "614f3e70",
   "metadata": {},
   "outputs": [
    {
     "name": "stdout",
     "output_type": "stream",
     "text": [
      "[0]\n"
     ]
    }
   ],
   "source": [
    "print(compare)"
   ]
  },
  {
   "cell_type": "code",
   "execution_count": null,
   "id": "f38daea6",
   "metadata": {},
   "outputs": [],
   "source": []
  }
 ],
 "metadata": {
  "kernelspec": {
   "display_name": "Python 3 (ipykernel)",
   "language": "python",
   "name": "python3"
  },
  "language_info": {
   "codemirror_mode": {
    "name": "ipython",
    "version": 3
   },
   "file_extension": ".py",
   "mimetype": "text/x-python",
   "name": "python",
   "nbconvert_exporter": "python",
   "pygments_lexer": "ipython3",
   "version": "3.10.9"
  }
 },
 "nbformat": 4,
 "nbformat_minor": 5
}
