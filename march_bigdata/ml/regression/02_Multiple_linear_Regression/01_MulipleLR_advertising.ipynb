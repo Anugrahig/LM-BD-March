{
 "cells": [
  {
   "cell_type": "code",
   "execution_count": 66,
   "id": "6ed3d379",
   "metadata": {},
   "outputs": [],
   "source": [
    "import pandas as pd\n",
    "import numpy as np\n",
    "import seaborn as sns\n",
    "import matplotlib.pyplot as plt"
   ]
  },
  {
   "cell_type": "code",
   "execution_count": 67,
   "id": "5752e521",
   "metadata": {},
   "outputs": [
    {
     "data": {
      "text/html": [
       "<div>\n",
       "<style scoped>\n",
       "    .dataframe tbody tr th:only-of-type {\n",
       "        vertical-align: middle;\n",
       "    }\n",
       "\n",
       "    .dataframe tbody tr th {\n",
       "        vertical-align: top;\n",
       "    }\n",
       "\n",
       "    .dataframe thead th {\n",
       "        text-align: right;\n",
       "    }\n",
       "</style>\n",
       "<table border=\"1\" class=\"dataframe\">\n",
       "  <thead>\n",
       "    <tr style=\"text-align: right;\">\n",
       "      <th></th>\n",
       "      <th>TV</th>\n",
       "      <th>Radio</th>\n",
       "      <th>Newspaper</th>\n",
       "      <th>Sales</th>\n",
       "    </tr>\n",
       "  </thead>\n",
       "  <tbody>\n",
       "    <tr>\n",
       "      <th>0</th>\n",
       "      <td>230.1</td>\n",
       "      <td>37.8</td>\n",
       "      <td>69.2</td>\n",
       "      <td>22.1</td>\n",
       "    </tr>\n",
       "    <tr>\n",
       "      <th>1</th>\n",
       "      <td>44.5</td>\n",
       "      <td>39.3</td>\n",
       "      <td>45.1</td>\n",
       "      <td>10.4</td>\n",
       "    </tr>\n",
       "    <tr>\n",
       "      <th>2</th>\n",
       "      <td>17.2</td>\n",
       "      <td>45.9</td>\n",
       "      <td>69.3</td>\n",
       "      <td>12.0</td>\n",
       "    </tr>\n",
       "    <tr>\n",
       "      <th>3</th>\n",
       "      <td>151.5</td>\n",
       "      <td>41.3</td>\n",
       "      <td>58.5</td>\n",
       "      <td>16.5</td>\n",
       "    </tr>\n",
       "    <tr>\n",
       "      <th>4</th>\n",
       "      <td>180.8</td>\n",
       "      <td>10.8</td>\n",
       "      <td>58.4</td>\n",
       "      <td>17.9</td>\n",
       "    </tr>\n",
       "    <tr>\n",
       "      <th>...</th>\n",
       "      <td>...</td>\n",
       "      <td>...</td>\n",
       "      <td>...</td>\n",
       "      <td>...</td>\n",
       "    </tr>\n",
       "    <tr>\n",
       "      <th>195</th>\n",
       "      <td>38.2</td>\n",
       "      <td>3.7</td>\n",
       "      <td>13.8</td>\n",
       "      <td>7.6</td>\n",
       "    </tr>\n",
       "    <tr>\n",
       "      <th>196</th>\n",
       "      <td>94.2</td>\n",
       "      <td>4.9</td>\n",
       "      <td>8.1</td>\n",
       "      <td>14.0</td>\n",
       "    </tr>\n",
       "    <tr>\n",
       "      <th>197</th>\n",
       "      <td>177.0</td>\n",
       "      <td>9.3</td>\n",
       "      <td>6.4</td>\n",
       "      <td>14.8</td>\n",
       "    </tr>\n",
       "    <tr>\n",
       "      <th>198</th>\n",
       "      <td>283.6</td>\n",
       "      <td>42.0</td>\n",
       "      <td>66.2</td>\n",
       "      <td>25.5</td>\n",
       "    </tr>\n",
       "    <tr>\n",
       "      <th>199</th>\n",
       "      <td>232.1</td>\n",
       "      <td>8.6</td>\n",
       "      <td>8.7</td>\n",
       "      <td>18.4</td>\n",
       "    </tr>\n",
       "  </tbody>\n",
       "</table>\n",
       "<p>200 rows × 4 columns</p>\n",
       "</div>"
      ],
      "text/plain": [
       "        TV  Radio  Newspaper  Sales\n",
       "0    230.1   37.8       69.2   22.1\n",
       "1     44.5   39.3       45.1   10.4\n",
       "2     17.2   45.9       69.3   12.0\n",
       "3    151.5   41.3       58.5   16.5\n",
       "4    180.8   10.8       58.4   17.9\n",
       "..     ...    ...        ...    ...\n",
       "195   38.2    3.7       13.8    7.6\n",
       "196   94.2    4.9        8.1   14.0\n",
       "197  177.0    9.3        6.4   14.8\n",
       "198  283.6   42.0       66.2   25.5\n",
       "199  232.1    8.6        8.7   18.4\n",
       "\n",
       "[200 rows x 4 columns]"
      ]
     },
     "execution_count": 67,
     "metadata": {},
     "output_type": "execute_result"
    }
   ],
   "source": [
    "df=pd.read_csv(\"../../../Bigdata Files/Advertising.csv\")\n",
    "df"
   ]
  },
  {
   "cell_type": "code",
   "execution_count": 68,
   "id": "b281259a",
   "metadata": {},
   "outputs": [
    {
     "data": {
      "text/html": [
       "<div>\n",
       "<style scoped>\n",
       "    .dataframe tbody tr th:only-of-type {\n",
       "        vertical-align: middle;\n",
       "    }\n",
       "\n",
       "    .dataframe tbody tr th {\n",
       "        vertical-align: top;\n",
       "    }\n",
       "\n",
       "    .dataframe thead th {\n",
       "        text-align: right;\n",
       "    }\n",
       "</style>\n",
       "<table border=\"1\" class=\"dataframe\">\n",
       "  <thead>\n",
       "    <tr style=\"text-align: right;\">\n",
       "      <th></th>\n",
       "      <th>TV</th>\n",
       "      <th>Radio</th>\n",
       "      <th>Newspaper</th>\n",
       "      <th>Sales</th>\n",
       "    </tr>\n",
       "  </thead>\n",
       "  <tbody>\n",
       "    <tr>\n",
       "      <th>0</th>\n",
       "      <td>230.1</td>\n",
       "      <td>37.8</td>\n",
       "      <td>69.2</td>\n",
       "      <td>22.1</td>\n",
       "    </tr>\n",
       "    <tr>\n",
       "      <th>1</th>\n",
       "      <td>44.5</td>\n",
       "      <td>39.3</td>\n",
       "      <td>45.1</td>\n",
       "      <td>10.4</td>\n",
       "    </tr>\n",
       "    <tr>\n",
       "      <th>2</th>\n",
       "      <td>17.2</td>\n",
       "      <td>45.9</td>\n",
       "      <td>69.3</td>\n",
       "      <td>12.0</td>\n",
       "    </tr>\n",
       "    <tr>\n",
       "      <th>3</th>\n",
       "      <td>151.5</td>\n",
       "      <td>41.3</td>\n",
       "      <td>58.5</td>\n",
       "      <td>16.5</td>\n",
       "    </tr>\n",
       "    <tr>\n",
       "      <th>4</th>\n",
       "      <td>180.8</td>\n",
       "      <td>10.8</td>\n",
       "      <td>58.4</td>\n",
       "      <td>17.9</td>\n",
       "    </tr>\n",
       "  </tbody>\n",
       "</table>\n",
       "</div>"
      ],
      "text/plain": [
       "      TV  Radio  Newspaper  Sales\n",
       "0  230.1   37.8       69.2   22.1\n",
       "1   44.5   39.3       45.1   10.4\n",
       "2   17.2   45.9       69.3   12.0\n",
       "3  151.5   41.3       58.5   16.5\n",
       "4  180.8   10.8       58.4   17.9"
      ]
     },
     "execution_count": 68,
     "metadata": {},
     "output_type": "execute_result"
    }
   ],
   "source": [
    "df.head()"
   ]
  },
  {
   "cell_type": "code",
   "execution_count": 69,
   "id": "9cb5def8",
   "metadata": {},
   "outputs": [
    {
     "data": {
      "text/html": [
       "<div>\n",
       "<style scoped>\n",
       "    .dataframe tbody tr th:only-of-type {\n",
       "        vertical-align: middle;\n",
       "    }\n",
       "\n",
       "    .dataframe tbody tr th {\n",
       "        vertical-align: top;\n",
       "    }\n",
       "\n",
       "    .dataframe thead th {\n",
       "        text-align: right;\n",
       "    }\n",
       "</style>\n",
       "<table border=\"1\" class=\"dataframe\">\n",
       "  <thead>\n",
       "    <tr style=\"text-align: right;\">\n",
       "      <th></th>\n",
       "      <th>TV</th>\n",
       "      <th>Radio</th>\n",
       "      <th>Newspaper</th>\n",
       "      <th>Sales</th>\n",
       "    </tr>\n",
       "  </thead>\n",
       "  <tbody>\n",
       "    <tr>\n",
       "      <th>195</th>\n",
       "      <td>38.2</td>\n",
       "      <td>3.7</td>\n",
       "      <td>13.8</td>\n",
       "      <td>7.6</td>\n",
       "    </tr>\n",
       "    <tr>\n",
       "      <th>196</th>\n",
       "      <td>94.2</td>\n",
       "      <td>4.9</td>\n",
       "      <td>8.1</td>\n",
       "      <td>14.0</td>\n",
       "    </tr>\n",
       "    <tr>\n",
       "      <th>197</th>\n",
       "      <td>177.0</td>\n",
       "      <td>9.3</td>\n",
       "      <td>6.4</td>\n",
       "      <td>14.8</td>\n",
       "    </tr>\n",
       "    <tr>\n",
       "      <th>198</th>\n",
       "      <td>283.6</td>\n",
       "      <td>42.0</td>\n",
       "      <td>66.2</td>\n",
       "      <td>25.5</td>\n",
       "    </tr>\n",
       "    <tr>\n",
       "      <th>199</th>\n",
       "      <td>232.1</td>\n",
       "      <td>8.6</td>\n",
       "      <td>8.7</td>\n",
       "      <td>18.4</td>\n",
       "    </tr>\n",
       "  </tbody>\n",
       "</table>\n",
       "</div>"
      ],
      "text/plain": [
       "        TV  Radio  Newspaper  Sales\n",
       "195   38.2    3.7       13.8    7.6\n",
       "196   94.2    4.9        8.1   14.0\n",
       "197  177.0    9.3        6.4   14.8\n",
       "198  283.6   42.0       66.2   25.5\n",
       "199  232.1    8.6        8.7   18.4"
      ]
     },
     "execution_count": 69,
     "metadata": {},
     "output_type": "execute_result"
    }
   ],
   "source": [
    "df.tail()"
   ]
  },
  {
   "cell_type": "code",
   "execution_count": 70,
   "id": "b2428b71",
   "metadata": {},
   "outputs": [
    {
     "data": {
      "text/plain": [
       "TV           float64\n",
       "Radio        float64\n",
       "Newspaper    float64\n",
       "Sales        float64\n",
       "dtype: object"
      ]
     },
     "execution_count": 70,
     "metadata": {},
     "output_type": "execute_result"
    }
   ],
   "source": [
    "df.dtypes"
   ]
  },
  {
   "cell_type": "code",
   "execution_count": 71,
   "id": "1b569fc0",
   "metadata": {},
   "outputs": [
    {
     "data": {
      "text/plain": [
       "TV           0\n",
       "Radio        0\n",
       "Newspaper    0\n",
       "Sales        0\n",
       "dtype: int64"
      ]
     },
     "execution_count": 71,
     "metadata": {},
     "output_type": "execute_result"
    }
   ],
   "source": [
    "df.isna().sum()"
   ]
  },
  {
   "cell_type": "code",
   "execution_count": 72,
   "id": "35d148a9",
   "metadata": {},
   "outputs": [
    {
     "data": {
      "text/html": [
       "<div>\n",
       "<style scoped>\n",
       "    .dataframe tbody tr th:only-of-type {\n",
       "        vertical-align: middle;\n",
       "    }\n",
       "\n",
       "    .dataframe tbody tr th {\n",
       "        vertical-align: top;\n",
       "    }\n",
       "\n",
       "    .dataframe thead th {\n",
       "        text-align: right;\n",
       "    }\n",
       "</style>\n",
       "<table border=\"1\" class=\"dataframe\">\n",
       "  <thead>\n",
       "    <tr style=\"text-align: right;\">\n",
       "      <th></th>\n",
       "      <th>TV</th>\n",
       "      <th>Radio</th>\n",
       "      <th>Newspaper</th>\n",
       "      <th>Sales</th>\n",
       "    </tr>\n",
       "  </thead>\n",
       "  <tbody>\n",
       "    <tr>\n",
       "      <th>count</th>\n",
       "      <td>200.000000</td>\n",
       "      <td>200.000000</td>\n",
       "      <td>200.000000</td>\n",
       "      <td>200.000000</td>\n",
       "    </tr>\n",
       "    <tr>\n",
       "      <th>mean</th>\n",
       "      <td>147.042500</td>\n",
       "      <td>23.264000</td>\n",
       "      <td>30.554000</td>\n",
       "      <td>15.130500</td>\n",
       "    </tr>\n",
       "    <tr>\n",
       "      <th>std</th>\n",
       "      <td>85.854236</td>\n",
       "      <td>14.846809</td>\n",
       "      <td>21.778621</td>\n",
       "      <td>5.283892</td>\n",
       "    </tr>\n",
       "    <tr>\n",
       "      <th>min</th>\n",
       "      <td>0.700000</td>\n",
       "      <td>0.000000</td>\n",
       "      <td>0.300000</td>\n",
       "      <td>1.600000</td>\n",
       "    </tr>\n",
       "    <tr>\n",
       "      <th>25%</th>\n",
       "      <td>74.375000</td>\n",
       "      <td>9.975000</td>\n",
       "      <td>12.750000</td>\n",
       "      <td>11.000000</td>\n",
       "    </tr>\n",
       "    <tr>\n",
       "      <th>50%</th>\n",
       "      <td>149.750000</td>\n",
       "      <td>22.900000</td>\n",
       "      <td>25.750000</td>\n",
       "      <td>16.000000</td>\n",
       "    </tr>\n",
       "    <tr>\n",
       "      <th>75%</th>\n",
       "      <td>218.825000</td>\n",
       "      <td>36.525000</td>\n",
       "      <td>45.100000</td>\n",
       "      <td>19.050000</td>\n",
       "    </tr>\n",
       "    <tr>\n",
       "      <th>max</th>\n",
       "      <td>296.400000</td>\n",
       "      <td>49.600000</td>\n",
       "      <td>114.000000</td>\n",
       "      <td>27.000000</td>\n",
       "    </tr>\n",
       "  </tbody>\n",
       "</table>\n",
       "</div>"
      ],
      "text/plain": [
       "               TV       Radio   Newspaper       Sales\n",
       "count  200.000000  200.000000  200.000000  200.000000\n",
       "mean   147.042500   23.264000   30.554000   15.130500\n",
       "std     85.854236   14.846809   21.778621    5.283892\n",
       "min      0.700000    0.000000    0.300000    1.600000\n",
       "25%     74.375000    9.975000   12.750000   11.000000\n",
       "50%    149.750000   22.900000   25.750000   16.000000\n",
       "75%    218.825000   36.525000   45.100000   19.050000\n",
       "max    296.400000   49.600000  114.000000   27.000000"
      ]
     },
     "execution_count": 72,
     "metadata": {},
     "output_type": "execute_result"
    }
   ],
   "source": [
    "df.describe()"
   ]
  },
  {
   "cell_type": "code",
   "execution_count": 73,
   "id": "33130f1b",
   "metadata": {},
   "outputs": [
    {
     "name": "stdout",
     "output_type": "stream",
     "text": [
      "<class 'pandas.core.frame.DataFrame'>\n",
      "RangeIndex: 200 entries, 0 to 199\n",
      "Data columns (total 4 columns):\n",
      " #   Column     Non-Null Count  Dtype  \n",
      "---  ------     --------------  -----  \n",
      " 0   TV         200 non-null    float64\n",
      " 1   Radio      200 non-null    float64\n",
      " 2   Newspaper  200 non-null    float64\n",
      " 3   Sales      200 non-null    float64\n",
      "dtypes: float64(4)\n",
      "memory usage: 6.4 KB\n"
     ]
    }
   ],
   "source": [
    "df.info()"
   ]
  },
  {
   "cell_type": "code",
   "execution_count": 74,
   "id": "40f46e21",
   "metadata": {},
   "outputs": [
    {
     "data": {
      "text/plain": [
       "0"
      ]
     },
     "execution_count": 74,
     "metadata": {},
     "output_type": "execute_result"
    }
   ],
   "source": [
    "df.duplicated().sum()"
   ]
  },
  {
   "cell_type": "code",
   "execution_count": 75,
   "id": "ca179c0d",
   "metadata": {},
   "outputs": [
    {
     "data": {
      "text/plain": [
       "Index(['TV', 'Radio', 'Newspaper', 'Sales'], dtype='object')"
      ]
     },
     "execution_count": 75,
     "metadata": {},
     "output_type": "execute_result"
    }
   ],
   "source": [
    "df.columns"
   ]
  },
  {
   "cell_type": "code",
   "execution_count": 76,
   "id": "bf686408",
   "metadata": {},
   "outputs": [],
   "source": [
    "X=df.drop(\"Sales\",axis=1).values"
   ]
  },
  {
   "cell_type": "code",
   "execution_count": 77,
   "id": "d5b08aef",
   "metadata": {},
   "outputs": [
    {
     "data": {
      "text/plain": [
       "(200, 3)"
      ]
     },
     "execution_count": 77,
     "metadata": {},
     "output_type": "execute_result"
    }
   ],
   "source": [
    "X.shape"
   ]
  },
  {
   "cell_type": "code",
   "execution_count": 78,
   "id": "c74c5136",
   "metadata": {},
   "outputs": [],
   "source": [
    "y=df[\"Sales\"].values"
   ]
  },
  {
   "cell_type": "code",
   "execution_count": 79,
   "id": "32ca09d3",
   "metadata": {},
   "outputs": [
    {
     "data": {
      "text/plain": [
       "(200,)"
      ]
     },
     "execution_count": 79,
     "metadata": {},
     "output_type": "execute_result"
    }
   ],
   "source": [
    "y.shape"
   ]
  },
  {
   "cell_type": "code",
   "execution_count": 80,
   "id": "a24889fb",
   "metadata": {},
   "outputs": [],
   "source": [
    "# TV vs Sales"
   ]
  },
  {
   "cell_type": "code",
   "execution_count": 107,
   "id": "13176245",
   "metadata": {},
   "outputs": [
    {
     "data": {
      "text/plain": [
       "<Axes: >"
      ]
     },
     "execution_count": 107,
     "metadata": {},
     "output_type": "execute_result"
    },
    {
     "data": {
      "image/png": "[encoded data removed]",
      "text/plain": [
       "<Figure size 640x480 with 2 Axes>"
      ]
     },
     "metadata": {},
     "output_type": "display_data"
    }
   ],
   "source": [
    "sns.heatmap(df.corr(),annot=True)"
   ]
  },
  {
   "cell_type": "code",
   "execution_count": 81,
   "id": "69ef1f38",
   "metadata": {},
   "outputs": [
    {
     "data": {
      "text/plain": [
       "Text(0.5, 1.0, 'TV vs Sales')"
      ]
     },
     "execution_count": 81,
     "metadata": {},
     "output_type": "execute_result"
    },
    {
     "data": {
      "image/png": "[encoded data removed]",
      "text/plain": [
       "<Figure size 640x480 with 1 Axes>"
      ]
     },
     "metadata": {},
     "output_type": "display_data"
    }
   ],
   "source": [
    "sns.regplot(x=df.TV,y=df.Sales)\n",
    "plt.xlabel(\"TV\")\n",
    "plt.ylabel(\"Sales\")\n",
    "plt.title(\"TV vs Sales\")"
   ]
  },
  {
   "cell_type": "code",
   "execution_count": 82,
   "id": "01db3430",
   "metadata": {},
   "outputs": [
    {
     "data": {
      "text/plain": [
       "Text(0.5, 1.0, 'Radio vs Sales')"
      ]
     },
     "execution_count": 82,
     "metadata": {},
     "output_type": "execute_result"
    },
    {
     "data": {
      "image/png": "[encoded data removed]",
      "text/plain": [
       "<Figure size 640x480 with 1 Axes>"
      ]
     },
     "metadata": {},
     "output_type": "display_data"
    }
   ],
   "source": [
    "sns.regplot(x=df.Radio,y=df.Sales)\n",
    "plt.xlabel(\"Radio\")\n",
    "plt.ylabel(\"Sales\")\n",
    "plt.title(\"Radio vs Sales\")"
   ]
  },
  {
   "cell_type": "code",
   "execution_count": 83,
   "id": "df6269b0",
   "metadata": {},
   "outputs": [
    {
     "data": {
      "text/plain": [
       "Text(0.5, 1.0, 'Newspaper vs Sales')"
      ]
     },
     "execution_count": 83,
     "metadata": {},
     "output_type": "execute_result"
    },
    {
     "data": {
      "image/png": "[encoded data removed]",
      "text/plain": [
       "<Figure size 640x480 with 1 Axes>"
      ]
     },
     "metadata": {},
     "output_type": "display_data"
    }
   ],
   "source": [
    "sns.regplot(x=df.Newspaper,y=df.Sales)\n",
    "plt.xlabel(\"Newspaper\")\n",
    "plt.ylabel(\"Sales\")\n",
    "plt.title(\"Newspaper vs Sales\")"
   ]
  },
  {
   "cell_type": "markdown",
   "id": "cba6323a",
   "metadata": {},
   "source": [
    "###### alternative "
   ]
  },
  {
   "cell_type": "code",
   "execution_count": 84,
   "id": "d170799b",
   "metadata": {
    "scrolled": true
   },
   "outputs": [
    {
     "data": {
      "image/png": "[encoded data removed]",
      "text/plain": [
       "<Figure size 640x480 with 1 Axes>"
      ]
     },
     "metadata": {},
     "output_type": "display_data"
    }
   ],
   "source": [
    "sns.regplot(x=df.Newspaper,y=df.Sales).set(xlabel='Newspaper', ylabel='Sales', title='Newspapaer vs Sales');"
   ]
  },
  {
   "cell_type": "code",
   "execution_count": 85,
   "id": "0275e389",
   "metadata": {},
   "outputs": [],
   "source": [
    "# from these regression plot TV effecting more on Sales data"
   ]
  },
  {
   "cell_type": "code",
   "execution_count": 86,
   "id": "a5aafaa1",
   "metadata": {},
   "outputs": [],
   "source": [
    "from sklearn.model_selection import train_test_split"
   ]
  },
  {
   "cell_type": "code",
   "execution_count": 87,
   "id": "878cc565",
   "metadata": {},
   "outputs": [],
   "source": [
    "X_train, X_test, y_train, y_test = train_test_split(X, y, test_size=0.3, random_state=42)"
   ]
  },
  {
   "cell_type": "code",
   "execution_count": 88,
   "id": "a2f36753",
   "metadata": {},
   "outputs": [],
   "source": [
    "from sklearn.linear_model import LinearRegression"
   ]
  },
  {
   "cell_type": "code",
   "execution_count": 89,
   "id": "314e8020",
   "metadata": {},
   "outputs": [
    {
     "data": {
      "text/plain": [
       "array([17.15991908, 20.53369503, 23.68914396,  9.5191455 , 21.60736836,\n",
       "       12.78101318, 21.08636345,  8.76054246, 17.11499951, 16.68789636,\n",
       "        8.97584663,  8.57645026, 18.33212325,  8.17863567, 12.64605571,\n",
       "       14.94486946,  8.34939536, 17.83858948, 11.12172174, 20.37740648,\n",
       "       20.9483297 , 13.04035779, 11.01360656, 22.51142595,  9.40369784,\n",
       "        7.98591291, 20.86943368, 13.77882255, 10.83407064,  8.00419229,\n",
       "       15.88597618, 10.7027424 , 20.9521718 , 10.84679243, 21.50720813,\n",
       "       21.07347295, 12.22673775, 22.85273767, 12.57698182,  6.54597206,\n",
       "       11.93411853, 15.23490068, 10.07411153,  9.52159696, 17.11786382,\n",
       "        7.28032677, 10.49404864, 15.24356754, 11.20742176, 11.78392665,\n",
       "       14.01472163, 14.59884572, 10.82722434,  9.55839415,  9.03749681,\n",
       "       12.51183313, 10.52551021, 25.01900824,  7.99334943, 15.73916263])"
      ]
     },
     "execution_count": 89,
     "metadata": {},
     "output_type": "execute_result"
    }
   ],
   "source": [
    "model=LinearRegression()\n",
    "model.fit(X_train,y_train)\n",
    "y_pred=model.predict(X_test)\n",
    "y_pred"
   ]
  },
  {
   "cell_type": "code",
   "execution_count": 90,
   "id": "bef3daa6",
   "metadata": {},
   "outputs": [
    {
     "data": {
      "text/html": [
       "<div>\n",
       "<style scoped>\n",
       "    .dataframe tbody tr th:only-of-type {\n",
       "        vertical-align: middle;\n",
       "    }\n",
       "\n",
       "    .dataframe tbody tr th {\n",
       "        vertical-align: top;\n",
       "    }\n",
       "\n",
       "    .dataframe thead th {\n",
       "        text-align: right;\n",
       "    }\n",
       "</style>\n",
       "<table border=\"1\" class=\"dataframe\">\n",
       "  <thead>\n",
       "    <tr style=\"text-align: right;\">\n",
       "      <th></th>\n",
       "      <th>Actual_val</th>\n",
       "      <th>Predicted_val</th>\n",
       "      <th>Error</th>\n",
       "    </tr>\n",
       "  </thead>\n",
       "  <tbody>\n",
       "    <tr>\n",
       "      <th>0</th>\n",
       "      <td>16.9</td>\n",
       "      <td>17.159919</td>\n",
       "      <td>-0.259919</td>\n",
       "    </tr>\n",
       "    <tr>\n",
       "      <th>1</th>\n",
       "      <td>22.4</td>\n",
       "      <td>20.533695</td>\n",
       "      <td>1.866305</td>\n",
       "    </tr>\n",
       "    <tr>\n",
       "      <th>2</th>\n",
       "      <td>21.4</td>\n",
       "      <td>23.689144</td>\n",
       "      <td>-2.289144</td>\n",
       "    </tr>\n",
       "    <tr>\n",
       "      <th>3</th>\n",
       "      <td>7.3</td>\n",
       "      <td>9.519146</td>\n",
       "      <td>-2.219146</td>\n",
       "    </tr>\n",
       "    <tr>\n",
       "      <th>4</th>\n",
       "      <td>24.7</td>\n",
       "      <td>21.607368</td>\n",
       "      <td>3.092632</td>\n",
       "    </tr>\n",
       "    <tr>\n",
       "      <th>5</th>\n",
       "      <td>12.6</td>\n",
       "      <td>12.781013</td>\n",
       "      <td>-0.181013</td>\n",
       "    </tr>\n",
       "    <tr>\n",
       "      <th>6</th>\n",
       "      <td>22.3</td>\n",
       "      <td>21.086363</td>\n",
       "      <td>1.213637</td>\n",
       "    </tr>\n",
       "    <tr>\n",
       "      <th>7</th>\n",
       "      <td>8.4</td>\n",
       "      <td>8.760542</td>\n",
       "      <td>-0.360542</td>\n",
       "    </tr>\n",
       "    <tr>\n",
       "      <th>8</th>\n",
       "      <td>16.5</td>\n",
       "      <td>17.115000</td>\n",
       "      <td>-0.615000</td>\n",
       "    </tr>\n",
       "    <tr>\n",
       "      <th>9</th>\n",
       "      <td>16.1</td>\n",
       "      <td>16.687896</td>\n",
       "      <td>-0.587896</td>\n",
       "    </tr>\n",
       "    <tr>\n",
       "      <th>10</th>\n",
       "      <td>11.0</td>\n",
       "      <td>8.975847</td>\n",
       "      <td>2.024153</td>\n",
       "    </tr>\n",
       "    <tr>\n",
       "      <th>11</th>\n",
       "      <td>8.7</td>\n",
       "      <td>8.576450</td>\n",
       "      <td>0.123550</td>\n",
       "    </tr>\n",
       "    <tr>\n",
       "      <th>12</th>\n",
       "      <td>16.9</td>\n",
       "      <td>18.332123</td>\n",
       "      <td>-1.432123</td>\n",
       "    </tr>\n",
       "    <tr>\n",
       "      <th>13</th>\n",
       "      <td>5.3</td>\n",
       "      <td>8.178636</td>\n",
       "      <td>-2.878636</td>\n",
       "    </tr>\n",
       "    <tr>\n",
       "      <th>14</th>\n",
       "      <td>10.3</td>\n",
       "      <td>12.646056</td>\n",
       "      <td>-2.346056</td>\n",
       "    </tr>\n",
       "    <tr>\n",
       "      <th>15</th>\n",
       "      <td>16.7</td>\n",
       "      <td>14.944869</td>\n",
       "      <td>1.755131</td>\n",
       "    </tr>\n",
       "    <tr>\n",
       "      <th>16</th>\n",
       "      <td>5.5</td>\n",
       "      <td>8.349395</td>\n",
       "      <td>-2.849395</td>\n",
       "    </tr>\n",
       "    <tr>\n",
       "      <th>17</th>\n",
       "      <td>16.6</td>\n",
       "      <td>17.838589</td>\n",
       "      <td>-1.238589</td>\n",
       "    </tr>\n",
       "    <tr>\n",
       "      <th>18</th>\n",
       "      <td>11.3</td>\n",
       "      <td>11.121722</td>\n",
       "      <td>0.178278</td>\n",
       "    </tr>\n",
       "    <tr>\n",
       "      <th>19</th>\n",
       "      <td>18.9</td>\n",
       "      <td>20.377406</td>\n",
       "      <td>-1.477406</td>\n",
       "    </tr>\n",
       "    <tr>\n",
       "      <th>20</th>\n",
       "      <td>19.7</td>\n",
       "      <td>20.948330</td>\n",
       "      <td>-1.248330</td>\n",
       "    </tr>\n",
       "    <tr>\n",
       "      <th>21</th>\n",
       "      <td>12.5</td>\n",
       "      <td>13.040358</td>\n",
       "      <td>-0.540358</td>\n",
       "    </tr>\n",
       "    <tr>\n",
       "      <th>22</th>\n",
       "      <td>10.9</td>\n",
       "      <td>11.013607</td>\n",
       "      <td>-0.113607</td>\n",
       "    </tr>\n",
       "    <tr>\n",
       "      <th>23</th>\n",
       "      <td>22.2</td>\n",
       "      <td>22.511426</td>\n",
       "      <td>-0.311426</td>\n",
       "    </tr>\n",
       "    <tr>\n",
       "      <th>24</th>\n",
       "      <td>11.3</td>\n",
       "      <td>9.403698</td>\n",
       "      <td>1.896302</td>\n",
       "    </tr>\n",
       "    <tr>\n",
       "      <th>25</th>\n",
       "      <td>8.1</td>\n",
       "      <td>7.985913</td>\n",
       "      <td>0.114087</td>\n",
       "    </tr>\n",
       "    <tr>\n",
       "      <th>26</th>\n",
       "      <td>21.7</td>\n",
       "      <td>20.869434</td>\n",
       "      <td>0.830566</td>\n",
       "    </tr>\n",
       "    <tr>\n",
       "      <th>27</th>\n",
       "      <td>13.4</td>\n",
       "      <td>13.778823</td>\n",
       "      <td>-0.378823</td>\n",
       "    </tr>\n",
       "    <tr>\n",
       "      <th>28</th>\n",
       "      <td>10.6</td>\n",
       "      <td>10.834071</td>\n",
       "      <td>-0.234071</td>\n",
       "    </tr>\n",
       "    <tr>\n",
       "      <th>29</th>\n",
       "      <td>5.7</td>\n",
       "      <td>8.004192</td>\n",
       "      <td>-2.304192</td>\n",
       "    </tr>\n",
       "    <tr>\n",
       "      <th>30</th>\n",
       "      <td>15.6</td>\n",
       "      <td>15.885976</td>\n",
       "      <td>-0.285976</td>\n",
       "    </tr>\n",
       "    <tr>\n",
       "      <th>31</th>\n",
       "      <td>11.3</td>\n",
       "      <td>10.702742</td>\n",
       "      <td>0.597258</td>\n",
       "    </tr>\n",
       "    <tr>\n",
       "      <th>32</th>\n",
       "      <td>23.7</td>\n",
       "      <td>20.952172</td>\n",
       "      <td>2.747828</td>\n",
       "    </tr>\n",
       "    <tr>\n",
       "      <th>33</th>\n",
       "      <td>8.7</td>\n",
       "      <td>10.846792</td>\n",
       "      <td>-2.146792</td>\n",
       "    </tr>\n",
       "    <tr>\n",
       "      <th>34</th>\n",
       "      <td>16.1</td>\n",
       "      <td>21.507208</td>\n",
       "      <td>-5.407208</td>\n",
       "    </tr>\n",
       "    <tr>\n",
       "      <th>35</th>\n",
       "      <td>20.7</td>\n",
       "      <td>21.073473</td>\n",
       "      <td>-0.373473</td>\n",
       "    </tr>\n",
       "    <tr>\n",
       "      <th>36</th>\n",
       "      <td>11.6</td>\n",
       "      <td>12.226738</td>\n",
       "      <td>-0.626738</td>\n",
       "    </tr>\n",
       "    <tr>\n",
       "      <th>37</th>\n",
       "      <td>20.8</td>\n",
       "      <td>22.852738</td>\n",
       "      <td>-2.052738</td>\n",
       "    </tr>\n",
       "    <tr>\n",
       "      <th>38</th>\n",
       "      <td>11.9</td>\n",
       "      <td>12.576982</td>\n",
       "      <td>-0.676982</td>\n",
       "    </tr>\n",
       "    <tr>\n",
       "      <th>39</th>\n",
       "      <td>6.9</td>\n",
       "      <td>6.545972</td>\n",
       "      <td>0.354028</td>\n",
       "    </tr>\n",
       "    <tr>\n",
       "      <th>40</th>\n",
       "      <td>11.0</td>\n",
       "      <td>11.934119</td>\n",
       "      <td>-0.934119</td>\n",
       "    </tr>\n",
       "    <tr>\n",
       "      <th>41</th>\n",
       "      <td>14.8</td>\n",
       "      <td>15.234901</td>\n",
       "      <td>-0.434901</td>\n",
       "    </tr>\n",
       "    <tr>\n",
       "      <th>42</th>\n",
       "      <td>10.1</td>\n",
       "      <td>10.074112</td>\n",
       "      <td>0.025888</td>\n",
       "    </tr>\n",
       "    <tr>\n",
       "      <th>43</th>\n",
       "      <td>9.7</td>\n",
       "      <td>9.521597</td>\n",
       "      <td>0.178403</td>\n",
       "    </tr>\n",
       "    <tr>\n",
       "      <th>44</th>\n",
       "      <td>16.6</td>\n",
       "      <td>17.117864</td>\n",
       "      <td>-0.517864</td>\n",
       "    </tr>\n",
       "    <tr>\n",
       "      <th>45</th>\n",
       "      <td>7.6</td>\n",
       "      <td>7.280327</td>\n",
       "      <td>0.319673</td>\n",
       "    </tr>\n",
       "    <tr>\n",
       "      <th>46</th>\n",
       "      <td>10.5</td>\n",
       "      <td>10.494049</td>\n",
       "      <td>0.005951</td>\n",
       "    </tr>\n",
       "    <tr>\n",
       "      <th>47</th>\n",
       "      <td>14.6</td>\n",
       "      <td>15.243568</td>\n",
       "      <td>-0.643568</td>\n",
       "    </tr>\n",
       "    <tr>\n",
       "      <th>48</th>\n",
       "      <td>10.4</td>\n",
       "      <td>11.207422</td>\n",
       "      <td>-0.807422</td>\n",
       "    </tr>\n",
       "    <tr>\n",
       "      <th>49</th>\n",
       "      <td>12.0</td>\n",
       "      <td>11.783927</td>\n",
       "      <td>0.216073</td>\n",
       "    </tr>\n",
       "    <tr>\n",
       "      <th>50</th>\n",
       "      <td>14.6</td>\n",
       "      <td>14.014722</td>\n",
       "      <td>0.585278</td>\n",
       "    </tr>\n",
       "    <tr>\n",
       "      <th>51</th>\n",
       "      <td>16.7</td>\n",
       "      <td>14.598846</td>\n",
       "      <td>2.101154</td>\n",
       "    </tr>\n",
       "    <tr>\n",
       "      <th>52</th>\n",
       "      <td>7.2</td>\n",
       "      <td>10.827224</td>\n",
       "      <td>-3.627224</td>\n",
       "    </tr>\n",
       "    <tr>\n",
       "      <th>53</th>\n",
       "      <td>6.6</td>\n",
       "      <td>9.558394</td>\n",
       "      <td>-2.958394</td>\n",
       "    </tr>\n",
       "    <tr>\n",
       "      <th>54</th>\n",
       "      <td>9.4</td>\n",
       "      <td>9.037497</td>\n",
       "      <td>0.362503</td>\n",
       "    </tr>\n",
       "    <tr>\n",
       "      <th>55</th>\n",
       "      <td>11.0</td>\n",
       "      <td>12.511833</td>\n",
       "      <td>-1.511833</td>\n",
       "    </tr>\n",
       "    <tr>\n",
       "      <th>56</th>\n",
       "      <td>10.9</td>\n",
       "      <td>10.525510</td>\n",
       "      <td>0.374490</td>\n",
       "    </tr>\n",
       "    <tr>\n",
       "      <th>57</th>\n",
       "      <td>25.4</td>\n",
       "      <td>25.019008</td>\n",
       "      <td>0.380992</td>\n",
       "    </tr>\n",
       "    <tr>\n",
       "      <th>58</th>\n",
       "      <td>7.6</td>\n",
       "      <td>7.993349</td>\n",
       "      <td>-0.393349</td>\n",
       "    </tr>\n",
       "    <tr>\n",
       "      <th>59</th>\n",
       "      <td>16.7</td>\n",
       "      <td>15.739163</td>\n",
       "      <td>0.960837</td>\n",
       "    </tr>\n",
       "  </tbody>\n",
       "</table>\n",
       "</div>"
      ],
      "text/plain": [
       "    Actual_val  Predicted_val     Error\n",
       "0         16.9      17.159919 -0.259919\n",
       "1         22.4      20.533695  1.866305\n",
       "2         21.4      23.689144 -2.289144\n",
       "3          7.3       9.519146 -2.219146\n",
       "4         24.7      21.607368  3.092632\n",
       "5         12.6      12.781013 -0.181013\n",
       "6         22.3      21.086363  1.213637\n",
       "7          8.4       8.760542 -0.360542\n",
       "8         16.5      17.115000 -0.615000\n",
       "9         16.1      16.687896 -0.587896\n",
       "10        11.0       8.975847  2.024153\n",
       "11         8.7       8.576450  0.123550\n",
       "12        16.9      18.332123 -1.432123\n",
       "13         5.3       8.178636 -2.878636\n",
       "14        10.3      12.646056 -2.346056\n",
       "15        16.7      14.944869  1.755131\n",
       "16         5.5       8.349395 -2.849395\n",
       "17        16.6      17.838589 -1.238589\n",
       "18        11.3      11.121722  0.178278\n",
       "19        18.9      20.377406 -1.477406\n",
       "20        19.7      20.948330 -1.248330\n",
       "21        12.5      13.040358 -0.540358\n",
       "22        10.9      11.013607 -0.113607\n",
       "23        22.2      22.511426 -0.311426\n",
       "24        11.3       9.403698  1.896302\n",
       "25         8.1       7.985913  0.114087\n",
       "26        21.7      20.869434  0.830566\n",
       "27        13.4      13.778823 -0.378823\n",
       "28        10.6      10.834071 -0.234071\n",
       "29         5.7       8.004192 -2.304192\n",
       "30        15.6      15.885976 -0.285976\n",
       "31        11.3      10.702742  0.597258\n",
       "32        23.7      20.952172  2.747828\n",
       "33         8.7      10.846792 -2.146792\n",
       "34        16.1      21.507208 -5.407208\n",
       "35        20.7      21.073473 -0.373473\n",
       "36        11.6      12.226738 -0.626738\n",
       "37        20.8      22.852738 -2.052738\n",
       "38        11.9      12.576982 -0.676982\n",
       "39         6.9       6.545972  0.354028\n",
       "40        11.0      11.934119 -0.934119\n",
       "41        14.8      15.234901 -0.434901\n",
       "42        10.1      10.074112  0.025888\n",
       "43         9.7       9.521597  0.178403\n",
       "44        16.6      17.117864 -0.517864\n",
       "45         7.6       7.280327  0.319673\n",
       "46        10.5      10.494049  0.005951\n",
       "47        14.6      15.243568 -0.643568\n",
       "48        10.4      11.207422 -0.807422\n",
       "49        12.0      11.783927  0.216073\n",
       "50        14.6      14.014722  0.585278\n",
       "51        16.7      14.598846  2.101154\n",
       "52         7.2      10.827224 -3.627224\n",
       "53         6.6       9.558394 -2.958394\n",
       "54         9.4       9.037497  0.362503\n",
       "55        11.0      12.511833 -1.511833\n",
       "56        10.9      10.525510  0.374490\n",
       "57        25.4      25.019008  0.380992\n",
       "58         7.6       7.993349 -0.393349\n",
       "59        16.7      15.739163  0.960837"
      ]
     },
     "execution_count": 90,
     "metadata": {},
     "output_type": "execute_result"
    }
   ],
   "source": [
    "df_error=pd.DataFrame({\"Actual_val\":y_test,\"Predicted_val\":y_pred,\"Error\":y_test-y_pred})\n",
    "df_error"
   ]
  },
  {
   "cell_type": "code",
   "execution_count": 92,
   "id": "292136f3",
   "metadata": {},
   "outputs": [
    {
     "data": {
      "text/plain": [
       "((140, 3), (140,))"
      ]
     },
     "execution_count": 92,
     "metadata": {},
     "output_type": "execute_result"
    }
   ],
   "source": [
    "X_train.shape,y_train.shape"
   ]
  },
  {
   "cell_type": "code",
   "execution_count": 95,
   "id": "7015de59",
   "metadata": {},
   "outputs": [
    {
     "name": "stdout",
     "output_type": "stream",
     "text": [
      "Intercept is : 4.743766701589687\n",
      "Solpe is : [0.05358869 0.10270677 0.00793167]\n"
     ]
    }
   ],
   "source": [
    "print(\"Intercept is :\",model.intercept_)\n",
    "print(\"Solpe is :\",model.coef_)"
   ]
  },
  {
   "cell_type": "code",
   "execution_count": 97,
   "id": "22f28a61",
   "metadata": {},
   "outputs": [
    {
     "data": {
      "text/plain": [
       "[(array([230.1,  37.8,  69.2]), 0.05358869132706914),\n",
       " (array([44.5, 39.3, 45.1]), 0.10270676778771287),\n",
       " (array([17.2, 45.9, 69.3]), 0.007931667677316312)]"
      ]
     },
     "execution_count": 97,
     "metadata": {},
     "output_type": "execute_result"
    }
   ],
   "source": [
    "list(zip(X,model.coef_))"
   ]
  },
  {
   "cell_type": "code",
   "execution_count": 98,
   "id": "1acd65d0",
   "metadata": {},
   "outputs": [],
   "source": [
    "from sklearn.metrics import mean_absolute_error,mean_absolute_percentage_error,mean_squared_error"
   ]
  },
  {
   "cell_type": "code",
   "execution_count": 99,
   "id": "08453e4f",
   "metadata": {},
   "outputs": [
    {
     "name": "stdout",
     "output_type": "stream",
     "text": [
      "MAE 1.1594875061090588\n"
     ]
    }
   ],
   "source": [
    "print(\"MAE\",mean_absolute_error(y_test,y_pred))"
   ]
  },
  {
   "cell_type": "code",
   "execution_count": 100,
   "id": "7c2c2a26",
   "metadata": {},
   "outputs": [
    {
     "name": "stdout",
     "output_type": "stream",
     "text": [
      "MAPE 0.10536440823029314\n"
     ]
    }
   ],
   "source": [
    "print(\"MAPE\",mean_absolute_percentage_error(y_test,y_pred))"
   ]
  },
  {
   "cell_type": "code",
   "execution_count": 101,
   "id": "3e82b67b",
   "metadata": {},
   "outputs": [
    {
     "name": "stdout",
     "output_type": "stream",
     "text": [
      "MSE 2.54162403622915\n"
     ]
    }
   ],
   "source": [
    "print(\"MSE\",mean_squared_error(y_test,y_pred))"
   ]
  },
  {
   "cell_type": "code",
   "execution_count": 102,
   "id": "f7a22c34",
   "metadata": {},
   "outputs": [
    {
     "name": "stdout",
     "output_type": "stream",
     "text": [
      "RMSE 1.5942471691143598\n"
     ]
    }
   ],
   "source": [
    "print(\"RMSE\",np.sqrt(mean_squared_error(y_test,y_pred)))"
   ]
  },
  {
   "cell_type": "markdown",
   "id": "98844c67",
   "metadata": {},
   "source": [
    "#### r2_score"
   ]
  },
  {
   "cell_type": "code",
   "execution_count": 108,
   "id": "0896dda8",
   "metadata": {},
   "outputs": [],
   "source": [
    "from sklearn.metrics import r2_score"
   ]
  },
  {
   "cell_type": "code",
   "execution_count": 109,
   "id": "ade24920",
   "metadata": {},
   "outputs": [
    {
     "name": "stdout",
     "output_type": "stream",
     "text": [
      "R2 Score 0.9091484341849798\n"
     ]
    }
   ],
   "source": [
    "print(\"R2 Score\",r2_score(y_test,y_pred))"
   ]
  },
  {
   "cell_type": "code",
   "execution_count": 110,
   "id": "939f07d0",
   "metadata": {},
   "outputs": [],
   "source": [
    "# 90 % accurate"
   ]
  },
  {
   "cell_type": "code",
   "execution_count": null,
   "id": "0951a396",
   "metadata": {},
   "outputs": [],
   "source": []
  }
 ],
 "metadata": {
  "kernelspec": {
   "display_name": "Python 3 (ipykernel)",
   "language": "python",
   "name": "python3"
  },
  "language_info": {
   "codemirror_mode": {
    "name": "ipython",
    "version": 3
   },
   "file_extension": ".py",
   "mimetype": "text/x-python",
   "name": "python",
   "nbconvert_exporter": "python",
   "pygments_lexer": "ipython3",
   "version": "3.10.9"
  }
 },
 "nbformat": 4,
 "nbformat_minor": 5
}
