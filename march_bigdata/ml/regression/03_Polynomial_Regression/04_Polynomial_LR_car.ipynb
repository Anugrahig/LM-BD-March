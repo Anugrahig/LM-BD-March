{
 "cells": [
  {
   "cell_type": "code",
   "execution_count": 1,
   "id": "ef6ec7de",
   "metadata": {},
   "outputs": [],
   "source": [
    "import pandas as pd\n",
    "import numpy as np\n",
    "import seaborn as sns\n",
    "import matplotlib.pyplot as plt"
   ]
  },
  {
   "cell_type": "code",
   "execution_count": 2,
   "id": "1a7e90be",
   "metadata": {},
   "outputs": [
    {
     "data": {
      "text/html": [
       "<div>\n",
       "<style scoped>\n",
       "    .dataframe tbody tr th:only-of-type {\n",
       "        vertical-align: middle;\n",
       "    }\n",
       "\n",
       "    .dataframe tbody tr th {\n",
       "        vertical-align: top;\n",
       "    }\n",
       "\n",
       "    .dataframe thead th {\n",
       "        text-align: right;\n",
       "    }\n",
       "</style>\n",
       "<table border=\"1\" class=\"dataframe\">\n",
       "  <thead>\n",
       "    <tr style=\"text-align: right;\">\n",
       "      <th></th>\n",
       "      <th>Car Model</th>\n",
       "      <th>Mileage</th>\n",
       "      <th>Sell Price</th>\n",
       "      <th>Age</th>\n",
       "    </tr>\n",
       "  </thead>\n",
       "  <tbody>\n",
       "    <tr>\n",
       "      <th>0</th>\n",
       "      <td>Audi</td>\n",
       "      <td>87000</td>\n",
       "      <td>76543</td>\n",
       "      <td>2</td>\n",
       "    </tr>\n",
       "    <tr>\n",
       "      <th>1</th>\n",
       "      <td>Audi</td>\n",
       "      <td>67000</td>\n",
       "      <td>58760</td>\n",
       "      <td>3</td>\n",
       "    </tr>\n",
       "    <tr>\n",
       "      <th>2</th>\n",
       "      <td>Audi</td>\n",
       "      <td>45000</td>\n",
       "      <td>27650</td>\n",
       "      <td>4</td>\n",
       "    </tr>\n",
       "    <tr>\n",
       "      <th>3</th>\n",
       "      <td>BMW X5</td>\n",
       "      <td>78000</td>\n",
       "      <td>66540</td>\n",
       "      <td>7</td>\n",
       "    </tr>\n",
       "    <tr>\n",
       "      <th>4</th>\n",
       "      <td>BMW X5</td>\n",
       "      <td>67000</td>\n",
       "      <td>56450</td>\n",
       "      <td>1</td>\n",
       "    </tr>\n",
       "    <tr>\n",
       "      <th>5</th>\n",
       "      <td>Mardez Benz</td>\n",
       "      <td>87500</td>\n",
       "      <td>77560</td>\n",
       "      <td>9</td>\n",
       "    </tr>\n",
       "    <tr>\n",
       "      <th>6</th>\n",
       "      <td>BMW X5</td>\n",
       "      <td>87000</td>\n",
       "      <td>76500</td>\n",
       "      <td>5</td>\n",
       "    </tr>\n",
       "    <tr>\n",
       "      <th>7</th>\n",
       "      <td>BMW X5</td>\n",
       "      <td>47600</td>\n",
       "      <td>37550</td>\n",
       "      <td>3</td>\n",
       "    </tr>\n",
       "    <tr>\n",
       "      <th>8</th>\n",
       "      <td>BMW X5</td>\n",
       "      <td>87650</td>\n",
       "      <td>76000</td>\n",
       "      <td>5</td>\n",
       "    </tr>\n",
       "    <tr>\n",
       "      <th>9</th>\n",
       "      <td>Audi</td>\n",
       "      <td>78650</td>\n",
       "      <td>66570</td>\n",
       "      <td>7</td>\n",
       "    </tr>\n",
       "    <tr>\n",
       "      <th>10</th>\n",
       "      <td>Audi</td>\n",
       "      <td>89760</td>\n",
       "      <td>78409</td>\n",
       "      <td>2</td>\n",
       "    </tr>\n",
       "    <tr>\n",
       "      <th>11</th>\n",
       "      <td>Audi</td>\n",
       "      <td>23000</td>\n",
       "      <td>13650</td>\n",
       "      <td>9</td>\n",
       "    </tr>\n",
       "    <tr>\n",
       "      <th>12</th>\n",
       "      <td>Audi</td>\n",
       "      <td>43500</td>\n",
       "      <td>39820</td>\n",
       "      <td>6</td>\n",
       "    </tr>\n",
       "    <tr>\n",
       "      <th>13</th>\n",
       "      <td>Lamborghini</td>\n",
       "      <td>65900</td>\n",
       "      <td>54430</td>\n",
       "      <td>4</td>\n",
       "    </tr>\n",
       "    <tr>\n",
       "      <th>14</th>\n",
       "      <td>Lamborghini</td>\n",
       "      <td>76000</td>\n",
       "      <td>65876</td>\n",
       "      <td>3</td>\n",
       "    </tr>\n",
       "    <tr>\n",
       "      <th>15</th>\n",
       "      <td>Lamborghini</td>\n",
       "      <td>76500</td>\n",
       "      <td>65976</td>\n",
       "      <td>2</td>\n",
       "    </tr>\n",
       "    <tr>\n",
       "      <th>16</th>\n",
       "      <td>Lamborghini</td>\n",
       "      <td>76500</td>\n",
       "      <td>65760</td>\n",
       "      <td>4</td>\n",
       "    </tr>\n",
       "    <tr>\n",
       "      <th>17</th>\n",
       "      <td>Lamborghini</td>\n",
       "      <td>87650</td>\n",
       "      <td>76560</td>\n",
       "      <td>3</td>\n",
       "    </tr>\n",
       "    <tr>\n",
       "      <th>18</th>\n",
       "      <td>Mardez Benz</td>\n",
       "      <td>76230</td>\n",
       "      <td>65540</td>\n",
       "      <td>1</td>\n",
       "    </tr>\n",
       "    <tr>\n",
       "      <th>19</th>\n",
       "      <td>Mardez Benz</td>\n",
       "      <td>65470</td>\n",
       "      <td>54650</td>\n",
       "      <td>1</td>\n",
       "    </tr>\n",
       "    <tr>\n",
       "      <th>20</th>\n",
       "      <td>Mardez Benz</td>\n",
       "      <td>65430</td>\n",
       "      <td>54540</td>\n",
       "      <td>3</td>\n",
       "    </tr>\n",
       "    <tr>\n",
       "      <th>21</th>\n",
       "      <td>Mardez Benz</td>\n",
       "      <td>98600</td>\n",
       "      <td>87670</td>\n",
       "      <td>9</td>\n",
       "    </tr>\n",
       "  </tbody>\n",
       "</table>\n",
       "</div>"
      ],
      "text/plain": [
       "      Car Model  Mileage  Sell Price  Age\n",
       "0          Audi    87000       76543    2\n",
       "1          Audi    67000       58760    3\n",
       "2          Audi    45000       27650    4\n",
       "3        BMW X5    78000       66540    7\n",
       "4        BMW X5    67000       56450    1\n",
       "5   Mardez Benz    87500       77560    9\n",
       "6        BMW X5    87000       76500    5\n",
       "7        BMW X5    47600       37550    3\n",
       "8        BMW X5    87650       76000    5\n",
       "9          Audi    78650       66570    7\n",
       "10         Audi    89760       78409    2\n",
       "11         Audi    23000       13650    9\n",
       "12         Audi    43500       39820    6\n",
       "13  Lamborghini    65900       54430    4\n",
       "14  Lamborghini    76000       65876    3\n",
       "15  Lamborghini    76500       65976    2\n",
       "16  Lamborghini    76500       65760    4\n",
       "17  Lamborghini    87650       76560    3\n",
       "18  Mardez Benz    76230       65540    1\n",
       "19  Mardez Benz    65470       54650    1\n",
       "20  Mardez Benz    65430       54540    3\n",
       "21  Mardez Benz    98600       87670    9"
      ]
     },
     "execution_count": 2,
     "metadata": {},
     "output_type": "execute_result"
    }
   ],
   "source": [
    "df=pd.read_csv(\"../../../Bigdata Files/car.csv\")\n",
    "df"
   ]
  },
  {
   "cell_type": "code",
   "execution_count": 3,
   "id": "b280f559",
   "metadata": {},
   "outputs": [
    {
     "name": "stdout",
     "output_type": "stream",
     "text": [
      "<class 'pandas.core.frame.DataFrame'>\n",
      "RangeIndex: 22 entries, 0 to 21\n",
      "Data columns (total 4 columns):\n",
      " #   Column      Non-Null Count  Dtype \n",
      "---  ------      --------------  ----- \n",
      " 0   Car Model   22 non-null     object\n",
      " 1   Mileage     22 non-null     int64 \n",
      " 2   Sell Price  22 non-null     int64 \n",
      " 3   Age         22 non-null     int64 \n",
      "dtypes: int64(3), object(1)\n",
      "memory usage: 832.0+ bytes\n"
     ]
    }
   ],
   "source": [
    "df.info()"
   ]
  },
  {
   "cell_type": "code",
   "execution_count": 4,
   "id": "c9f5c799",
   "metadata": {},
   "outputs": [
    {
     "data": {
      "text/html": [
       "<div>\n",
       "<style scoped>\n",
       "    .dataframe tbody tr th:only-of-type {\n",
       "        vertical-align: middle;\n",
       "    }\n",
       "\n",
       "    .dataframe tbody tr th {\n",
       "        vertical-align: top;\n",
       "    }\n",
       "\n",
       "    .dataframe thead th {\n",
       "        text-align: right;\n",
       "    }\n",
       "</style>\n",
       "<table border=\"1\" class=\"dataframe\">\n",
       "  <thead>\n",
       "    <tr style=\"text-align: right;\">\n",
       "      <th></th>\n",
       "      <th>Mileage</th>\n",
       "      <th>Sell Price</th>\n",
       "      <th>Age</th>\n",
       "    </tr>\n",
       "  </thead>\n",
       "  <tbody>\n",
       "    <tr>\n",
       "      <th>count</th>\n",
       "      <td>22.000000</td>\n",
       "      <td>22.000000</td>\n",
       "      <td>22.000000</td>\n",
       "    </tr>\n",
       "    <tr>\n",
       "      <th>mean</th>\n",
       "      <td>71679.090909</td>\n",
       "      <td>61045.636364</td>\n",
       "      <td>4.227273</td>\n",
       "    </tr>\n",
       "    <tr>\n",
       "      <th>std</th>\n",
       "      <td>18343.349881</td>\n",
       "      <td>18119.575133</td>\n",
       "      <td>2.599117</td>\n",
       "    </tr>\n",
       "    <tr>\n",
       "      <th>min</th>\n",
       "      <td>23000.000000</td>\n",
       "      <td>13650.000000</td>\n",
       "      <td>1.000000</td>\n",
       "    </tr>\n",
       "    <tr>\n",
       "      <th>25%</th>\n",
       "      <td>65577.500000</td>\n",
       "      <td>54567.500000</td>\n",
       "      <td>2.250000</td>\n",
       "    </tr>\n",
       "    <tr>\n",
       "      <th>50%</th>\n",
       "      <td>76365.000000</td>\n",
       "      <td>65818.000000</td>\n",
       "      <td>3.500000</td>\n",
       "    </tr>\n",
       "    <tr>\n",
       "      <th>75%</th>\n",
       "      <td>87000.000000</td>\n",
       "      <td>76375.000000</td>\n",
       "      <td>5.750000</td>\n",
       "    </tr>\n",
       "    <tr>\n",
       "      <th>max</th>\n",
       "      <td>98600.000000</td>\n",
       "      <td>87670.000000</td>\n",
       "      <td>9.000000</td>\n",
       "    </tr>\n",
       "  </tbody>\n",
       "</table>\n",
       "</div>"
      ],
      "text/plain": [
       "            Mileage    Sell Price        Age\n",
       "count     22.000000     22.000000  22.000000\n",
       "mean   71679.090909  61045.636364   4.227273\n",
       "std    18343.349881  18119.575133   2.599117\n",
       "min    23000.000000  13650.000000   1.000000\n",
       "25%    65577.500000  54567.500000   2.250000\n",
       "50%    76365.000000  65818.000000   3.500000\n",
       "75%    87000.000000  76375.000000   5.750000\n",
       "max    98600.000000  87670.000000   9.000000"
      ]
     },
     "execution_count": 4,
     "metadata": {},
     "output_type": "execute_result"
    }
   ],
   "source": [
    "df.describe()"
   ]
  },
  {
   "cell_type": "code",
   "execution_count": 5,
   "id": "80a5ec91",
   "metadata": {},
   "outputs": [
    {
     "data": {
      "text/plain": [
       "Car Model     0\n",
       "Mileage       0\n",
       "Sell Price    0\n",
       "Age           0\n",
       "dtype: int64"
      ]
     },
     "execution_count": 5,
     "metadata": {},
     "output_type": "execute_result"
    }
   ],
   "source": [
    "df.isna().sum()"
   ]
  },
  {
   "cell_type": "code",
   "execution_count": 6,
   "id": "1a39cf67",
   "metadata": {},
   "outputs": [
    {
     "data": {
      "text/plain": [
       "<bound method IndexOpsMixin.value_counts of 0            Audi\n",
       "1            Audi\n",
       "2            Audi\n",
       "3          BMW X5\n",
       "4          BMW X5\n",
       "5     Mardez Benz\n",
       "6          BMW X5\n",
       "7          BMW X5\n",
       "8          BMW X5\n",
       "9            Audi\n",
       "10           Audi\n",
       "11           Audi\n",
       "12           Audi\n",
       "13    Lamborghini\n",
       "14    Lamborghini\n",
       "15    Lamborghini\n",
       "16    Lamborghini\n",
       "17    Lamborghini\n",
       "18    Mardez Benz\n",
       "19    Mardez Benz\n",
       "20    Mardez Benz\n",
       "21    Mardez Benz\n",
       "Name: Car Model, dtype: object>"
      ]
     },
     "execution_count": 6,
     "metadata": {},
     "output_type": "execute_result"
    }
   ],
   "source": [
    "df[\"Car Model\"].value_counts"
   ]
  },
  {
   "cell_type": "code",
   "execution_count": 7,
   "id": "dfc4f4d0",
   "metadata": {},
   "outputs": [
    {
     "data": {
      "text/plain": [
       "<seaborn.axisgrid.PairGrid at 0x7fcb9ab5fb50>"
      ]
     },
     "execution_count": 7,
     "metadata": {},
     "output_type": "execute_result"
    },
    {
     "data": {
      "image/png": "[encoded data removed]",
      "text/plain": [
       "<Figure size 750x750 with 12 Axes>"
      ]
     },
     "metadata": {},
     "output_type": "display_data"
    }
   ],
   "source": [
    "sns.pairplot(df)"
   ]
  },
  {
   "cell_type": "code",
   "execution_count": 8,
   "id": "6fbc87bf",
   "metadata": {},
   "outputs": [],
   "source": [
    "X=df.drop(\"Sell Price\",axis=1)\n",
    "y=df[\"Sell Price\"]"
   ]
  },
  {
   "cell_type": "code",
   "execution_count": 9,
   "id": "38812a81",
   "metadata": {},
   "outputs": [
    {
     "data": {
      "text/html": [
       "<div>\n",
       "<style scoped>\n",
       "    .dataframe tbody tr th:only-of-type {\n",
       "        vertical-align: middle;\n",
       "    }\n",
       "\n",
       "    .dataframe tbody tr th {\n",
       "        vertical-align: top;\n",
       "    }\n",
       "\n",
       "    .dataframe thead th {\n",
       "        text-align: right;\n",
       "    }\n",
       "</style>\n",
       "<table border=\"1\" class=\"dataframe\">\n",
       "  <thead>\n",
       "    <tr style=\"text-align: right;\">\n",
       "      <th></th>\n",
       "      <th>Car Model</th>\n",
       "      <th>Mileage</th>\n",
       "      <th>Age</th>\n",
       "    </tr>\n",
       "  </thead>\n",
       "  <tbody>\n",
       "    <tr>\n",
       "      <th>0</th>\n",
       "      <td>Audi</td>\n",
       "      <td>87000</td>\n",
       "      <td>2</td>\n",
       "    </tr>\n",
       "    <tr>\n",
       "      <th>1</th>\n",
       "      <td>Audi</td>\n",
       "      <td>67000</td>\n",
       "      <td>3</td>\n",
       "    </tr>\n",
       "    <tr>\n",
       "      <th>2</th>\n",
       "      <td>Audi</td>\n",
       "      <td>45000</td>\n",
       "      <td>4</td>\n",
       "    </tr>\n",
       "    <tr>\n",
       "      <th>3</th>\n",
       "      <td>BMW X5</td>\n",
       "      <td>78000</td>\n",
       "      <td>7</td>\n",
       "    </tr>\n",
       "    <tr>\n",
       "      <th>4</th>\n",
       "      <td>BMW X5</td>\n",
       "      <td>67000</td>\n",
       "      <td>1</td>\n",
       "    </tr>\n",
       "    <tr>\n",
       "      <th>5</th>\n",
       "      <td>Mardez Benz</td>\n",
       "      <td>87500</td>\n",
       "      <td>9</td>\n",
       "    </tr>\n",
       "    <tr>\n",
       "      <th>6</th>\n",
       "      <td>BMW X5</td>\n",
       "      <td>87000</td>\n",
       "      <td>5</td>\n",
       "    </tr>\n",
       "    <tr>\n",
       "      <th>7</th>\n",
       "      <td>BMW X5</td>\n",
       "      <td>47600</td>\n",
       "      <td>3</td>\n",
       "    </tr>\n",
       "    <tr>\n",
       "      <th>8</th>\n",
       "      <td>BMW X5</td>\n",
       "      <td>87650</td>\n",
       "      <td>5</td>\n",
       "    </tr>\n",
       "    <tr>\n",
       "      <th>9</th>\n",
       "      <td>Audi</td>\n",
       "      <td>78650</td>\n",
       "      <td>7</td>\n",
       "    </tr>\n",
       "    <tr>\n",
       "      <th>10</th>\n",
       "      <td>Audi</td>\n",
       "      <td>89760</td>\n",
       "      <td>2</td>\n",
       "    </tr>\n",
       "    <tr>\n",
       "      <th>11</th>\n",
       "      <td>Audi</td>\n",
       "      <td>23000</td>\n",
       "      <td>9</td>\n",
       "    </tr>\n",
       "    <tr>\n",
       "      <th>12</th>\n",
       "      <td>Audi</td>\n",
       "      <td>43500</td>\n",
       "      <td>6</td>\n",
       "    </tr>\n",
       "    <tr>\n",
       "      <th>13</th>\n",
       "      <td>Lamborghini</td>\n",
       "      <td>65900</td>\n",
       "      <td>4</td>\n",
       "    </tr>\n",
       "    <tr>\n",
       "      <th>14</th>\n",
       "      <td>Lamborghini</td>\n",
       "      <td>76000</td>\n",
       "      <td>3</td>\n",
       "    </tr>\n",
       "    <tr>\n",
       "      <th>15</th>\n",
       "      <td>Lamborghini</td>\n",
       "      <td>76500</td>\n",
       "      <td>2</td>\n",
       "    </tr>\n",
       "    <tr>\n",
       "      <th>16</th>\n",
       "      <td>Lamborghini</td>\n",
       "      <td>76500</td>\n",
       "      <td>4</td>\n",
       "    </tr>\n",
       "    <tr>\n",
       "      <th>17</th>\n",
       "      <td>Lamborghini</td>\n",
       "      <td>87650</td>\n",
       "      <td>3</td>\n",
       "    </tr>\n",
       "    <tr>\n",
       "      <th>18</th>\n",
       "      <td>Mardez Benz</td>\n",
       "      <td>76230</td>\n",
       "      <td>1</td>\n",
       "    </tr>\n",
       "    <tr>\n",
       "      <th>19</th>\n",
       "      <td>Mardez Benz</td>\n",
       "      <td>65470</td>\n",
       "      <td>1</td>\n",
       "    </tr>\n",
       "    <tr>\n",
       "      <th>20</th>\n",
       "      <td>Mardez Benz</td>\n",
       "      <td>65430</td>\n",
       "      <td>3</td>\n",
       "    </tr>\n",
       "    <tr>\n",
       "      <th>21</th>\n",
       "      <td>Mardez Benz</td>\n",
       "      <td>98600</td>\n",
       "      <td>9</td>\n",
       "    </tr>\n",
       "  </tbody>\n",
       "</table>\n",
       "</div>"
      ],
      "text/plain": [
       "      Car Model  Mileage  Age\n",
       "0          Audi    87000    2\n",
       "1          Audi    67000    3\n",
       "2          Audi    45000    4\n",
       "3        BMW X5    78000    7\n",
       "4        BMW X5    67000    1\n",
       "5   Mardez Benz    87500    9\n",
       "6        BMW X5    87000    5\n",
       "7        BMW X5    47600    3\n",
       "8        BMW X5    87650    5\n",
       "9          Audi    78650    7\n",
       "10         Audi    89760    2\n",
       "11         Audi    23000    9\n",
       "12         Audi    43500    6\n",
       "13  Lamborghini    65900    4\n",
       "14  Lamborghini    76000    3\n",
       "15  Lamborghini    76500    2\n",
       "16  Lamborghini    76500    4\n",
       "17  Lamborghini    87650    3\n",
       "18  Mardez Benz    76230    1\n",
       "19  Mardez Benz    65470    1\n",
       "20  Mardez Benz    65430    3\n",
       "21  Mardez Benz    98600    9"
      ]
     },
     "execution_count": 9,
     "metadata": {},
     "output_type": "execute_result"
    }
   ],
   "source": [
    "X"
   ]
  },
  {
   "cell_type": "code",
   "execution_count": 10,
   "id": "8ba10027",
   "metadata": {},
   "outputs": [
    {
     "data": {
      "text/plain": [
       "<Axes: xlabel='Mileage', ylabel='Sell Price'>"
      ]
     },
     "execution_count": 10,
     "metadata": {},
     "output_type": "execute_result"
    },
    {
     "data": {
      "image/png": "[encoded data removed]",
      "text/plain": [
       "<Figure size 640x480 with 1 Axes>"
      ]
     },
     "metadata": {},
     "output_type": "display_data"
    }
   ],
   "source": [
    "sns.regplot(x=X[\"Mileage\"],y=y)"
   ]
  },
  {
   "cell_type": "code",
   "execution_count": 11,
   "id": "3a600e6c",
   "metadata": {},
   "outputs": [
    {
     "data": {
      "text/plain": [
       "<Axes: xlabel='Age', ylabel='Sell Price'>"
      ]
     },
     "execution_count": 11,
     "metadata": {},
     "output_type": "execute_result"
    },
    {
     "data": {
      "image/png": "[encoded data removed]",
      "text/plain": [
       "<Figure size 640x480 with 1 Axes>"
      ]
     },
     "metadata": {},
     "output_type": "display_data"
    }
   ],
   "source": [
    "sns.regplot(x=X[\"Age\"],y=y)"
   ]
  },
  {
   "cell_type": "code",
   "execution_count": 12,
   "id": "8a4d59ce",
   "metadata": {},
   "outputs": [],
   "source": [
    "from sklearn.compose import make_column_transformer\n",
    "from sklearn.preprocessing import OneHotEncoder"
   ]
  },
  {
   "cell_type": "code",
   "execution_count": 13,
   "id": "fa99204d",
   "metadata": {},
   "outputs": [],
   "source": [
    "col_trans=make_column_transformer((OneHotEncoder(handle_unknown=\"ignore\"),[\"Car Model\"]),remainder=\"passthrough\")\n",
    "X=col_trans.fit_transform(X)"
   ]
  },
  {
   "cell_type": "code",
   "execution_count": 14,
   "id": "ecffda75",
   "metadata": {},
   "outputs": [
    {
     "data": {
      "text/plain": [
       "array([[1.000e+00, 0.000e+00, 0.000e+00, 0.000e+00, 8.700e+04, 2.000e+00],\n",
       "       [1.000e+00, 0.000e+00, 0.000e+00, 0.000e+00, 6.700e+04, 3.000e+00],\n",
       "       [1.000e+00, 0.000e+00, 0.000e+00, 0.000e+00, 4.500e+04, 4.000e+00],\n",
       "       [0.000e+00, 1.000e+00, 0.000e+00, 0.000e+00, 7.800e+04, 7.000e+00],\n",
       "       [0.000e+00, 1.000e+00, 0.000e+00, 0.000e+00, 6.700e+04, 1.000e+00],\n",
       "       [0.000e+00, 0.000e+00, 0.000e+00, 1.000e+00, 8.750e+04, 9.000e+00],\n",
       "       [0.000e+00, 1.000e+00, 0.000e+00, 0.000e+00, 8.700e+04, 5.000e+00],\n",
       "       [0.000e+00, 1.000e+00, 0.000e+00, 0.000e+00, 4.760e+04, 3.000e+00],\n",
       "       [0.000e+00, 1.000e+00, 0.000e+00, 0.000e+00, 8.765e+04, 5.000e+00],\n",
       "       [1.000e+00, 0.000e+00, 0.000e+00, 0.000e+00, 7.865e+04, 7.000e+00],\n",
       "       [1.000e+00, 0.000e+00, 0.000e+00, 0.000e+00, 8.976e+04, 2.000e+00],\n",
       "       [1.000e+00, 0.000e+00, 0.000e+00, 0.000e+00, 2.300e+04, 9.000e+00],\n",
       "       [1.000e+00, 0.000e+00, 0.000e+00, 0.000e+00, 4.350e+04, 6.000e+00],\n",
       "       [0.000e+00, 0.000e+00, 1.000e+00, 0.000e+00, 6.590e+04, 4.000e+00],\n",
       "       [0.000e+00, 0.000e+00, 1.000e+00, 0.000e+00, 7.600e+04, 3.000e+00],\n",
       "       [0.000e+00, 0.000e+00, 1.000e+00, 0.000e+00, 7.650e+04, 2.000e+00],\n",
       "       [0.000e+00, 0.000e+00, 1.000e+00, 0.000e+00, 7.650e+04, 4.000e+00],\n",
       "       [0.000e+00, 0.000e+00, 1.000e+00, 0.000e+00, 8.765e+04, 3.000e+00],\n",
       "       [0.000e+00, 0.000e+00, 0.000e+00, 1.000e+00, 7.623e+04, 1.000e+00],\n",
       "       [0.000e+00, 0.000e+00, 0.000e+00, 1.000e+00, 6.547e+04, 1.000e+00],\n",
       "       [0.000e+00, 0.000e+00, 0.000e+00, 1.000e+00, 6.543e+04, 3.000e+00],\n",
       "       [0.000e+00, 0.000e+00, 0.000e+00, 1.000e+00, 9.860e+04, 9.000e+00]])"
      ]
     },
     "execution_count": 14,
     "metadata": {},
     "output_type": "execute_result"
    }
   ],
   "source": [
    "X"
   ]
  },
  {
   "cell_type": "code",
   "execution_count": 15,
   "id": "a82c2f06",
   "metadata": {},
   "outputs": [],
   "source": [
    "from sklearn.model_selection import train_test_split"
   ]
  },
  {
   "cell_type": "code",
   "execution_count": 16,
   "id": "bb18b0f7",
   "metadata": {},
   "outputs": [],
   "source": [
    "X_train, X_test, y_train, y_test = train_test_split(X, y, test_size=0.3, random_state=42)"
   ]
  },
  {
   "cell_type": "code",
   "execution_count": 17,
   "id": "2ac3036a",
   "metadata": {},
   "outputs": [],
   "source": [
    "from sklearn.linear_model import LinearRegression"
   ]
  },
  {
   "cell_type": "code",
   "execution_count": 18,
   "id": "5a8eb530",
   "metadata": {},
   "outputs": [],
   "source": [
    "model=LinearRegression()\n",
    "model.fit(X_train,y_train)\n",
    "y_pred=model.predict(X_test)"
   ]
  },
  {
   "cell_type": "code",
   "execution_count": 19,
   "id": "f53861dc",
   "metadata": {},
   "outputs": [
    {
     "name": "stdout",
     "output_type": "stream",
     "text": [
      "Intercept  -9154.441320418351\n",
      "Coefficient [-768.51189869   50.8389459   466.26267864  251.41027414    0.96867783\n",
      "  163.25553922]\n"
     ]
    }
   ],
   "source": [
    "print(\"Intercept \",model.intercept_)\n",
    "print(\"Coefficient\",model.coef_)"
   ]
  },
  {
   "cell_type": "code",
   "execution_count": 20,
   "id": "5bc0f1a8",
   "metadata": {},
   "outputs": [],
   "source": [
    "from sklearn.metrics import mean_absolute_error,mean_absolute_percentage_error,mean_squared_error,r2_score"
   ]
  },
  {
   "cell_type": "code",
   "execution_count": 21,
   "id": "50850e5a",
   "metadata": {},
   "outputs": [
    {
     "name": "stdout",
     "output_type": "stream",
     "text": [
      "MAE 1148.5433315689713\n",
      "MAPE 0.018297971022889544\n",
      "MSE 2409163.015027732\n",
      "R2_Score 0.9745229892468135\n"
     ]
    }
   ],
   "source": [
    "print(\"MAE\",mean_absolute_error(y_test,y_pred))\n",
    "print(\"MAPE\",mean_absolute_percentage_error(y_test,y_pred))\n",
    "print(\"MSE\",mean_squared_error(y_test,y_pred))\n",
    "print(\"R2_Score\",r2_score(y_test,y_pred))"
   ]
  },
  {
   "cell_type": "code",
   "execution_count": 32,
   "id": "77051ac3",
   "metadata": {},
   "outputs": [],
   "source": [
    "# another way\n",
    "# x=df.iloc[:,[0,1,3]]\n",
    "# y=df.iloc[:,2:3]"
   ]
  },
  {
   "cell_type": "code",
   "execution_count": null,
   "id": "2224300c",
   "metadata": {},
   "outputs": [],
   "source": []
  }
 ],
 "metadata": {
  "kernelspec": {
   "display_name": "Python 3 (ipykernel)",
   "language": "python",
   "name": "python3"
  },
  "language_info": {
   "codemirror_mode": {
    "name": "ipython",
    "version": 3
   },
   "file_extension": ".py",
   "mimetype": "text/x-python",
   "name": "python",
   "nbconvert_exporter": "python",
   "pygments_lexer": "ipython3",
   "version": "3.10.9"
  }
 },
 "nbformat": 4,
 "nbformat_minor": 5
}
