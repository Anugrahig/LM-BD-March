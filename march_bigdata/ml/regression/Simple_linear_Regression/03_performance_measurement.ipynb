{
 "cells": [
  {
   "cell_type": "markdown",
   "id": "da5962e1",
   "metadata": {},
   "source": [
    "## How to evaluate performance measurement "
   ]
  },
  {
   "cell_type": "markdown",
   "id": "7e557513",
   "metadata": {},
   "source": [
    "**MAE<br>\n",
    "MSE<br>\n",
    "RMSE<br>\n",
    "R2_SCORE<br>\n",
    "MAPE**"
   ]
  },
  {
   "cell_type": "markdown",
   "id": "dd7a1651",
   "metadata": {},
   "source": [
    "**MAE** Mean Absolute Error"
   ]
  },
  {
   "cell_type": "markdown",
   "id": "709c6586",
   "metadata": {},
   "source": [
    "**MSE** Mean Squared Error"
   ]
  },
  {
   "cell_type": "markdown",
   "id": "66acf625",
   "metadata": {},
   "source": [
    "**RMSE** Root Mean Squared Error"
   ]
  },
  {
   "cell_type": "markdown",
   "id": "b0b4ddaf",
   "metadata": {},
   "source": [
    "**MAPE** Mean Absolute Percentage Error (MAPE) - **Imp**"
   ]
  }
 ],
 "metadata": {
  "kernelspec": {
   "display_name": "Python 3 (ipykernel)",
   "language": "python",
   "name": "python3"
  },
  "language_info": {
   "codemirror_mode": {
    "name": "ipython",
    "version": 3
   },
   "file_extension": ".py",
   "mimetype": "text/x-python",
   "name": "python",
   "nbconvert_exporter": "python",
   "pygments_lexer": "ipython3",
   "version": "3.10.9"
  }
 },
 "nbformat": 4,
 "nbformat_minor": 5
}
