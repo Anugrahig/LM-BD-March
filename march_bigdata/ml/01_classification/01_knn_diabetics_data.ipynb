{
 "cells": [
  {
   "cell_type": "markdown",
   "id": "e3d2d975",
   "metadata": {},
   "source": [
    "### Importing the Libraries & Dataset"
   ]
  },
  {
   "cell_type": "code",
   "execution_count": 1,
   "id": "0ff7bed3",
   "metadata": {},
   "outputs": [],
   "source": [
    "import numpy as np\n",
    "import pandas as pd"
   ]
  },
  {
   "cell_type": "code",
   "execution_count": 2,
   "id": "de4519bf",
   "metadata": {
    "scrolled": true
   },
   "outputs": [],
   "source": [
    "df=pd.read_csv(\"../../Bigdata Files/diabetes.csv\")"
   ]
  },
  {
   "cell_type": "code",
   "execution_count": 3,
   "id": "5ea3bb5e",
   "metadata": {},
   "outputs": [
    {
     "data": {
      "text/html": [
       "<style type=\"text/css\">\n",
       "#T_65964_row0_col0, #T_65964_row2_col2 {\n",
       "  background-color: #3a9c3a;\n",
       "  color: #f1f1f1;\n",
       "}\n",
       "#T_65964_row0_col1 {\n",
       "  background-color: #54a954;\n",
       "  color: #f1f1f1;\n",
       "}\n",
       "#T_65964_row0_col2, #T_65964_row0_col3, #T_65964_row0_col7, #T_65964_row0_col8, #T_65964_row2_col0, #T_65964_row2_col1, #T_65964_row2_col8, #T_65964_row4_col3, #T_65964_row4_col4, #T_65964_row4_col5, #T_65964_row4_col6, #T_65964_row4_col8 {\n",
       "  background-color: #008000;\n",
       "  color: #f1f1f1;\n",
       "}\n",
       "#T_65964_row0_col4, #T_65964_row1_col1, #T_65964_row1_col4, #T_65964_row1_col8, #T_65964_row2_col3, #T_65964_row2_col4, #T_65964_row2_col5, #T_65964_row3_col6, #T_65964_row3_col7, #T_65964_row3_col8, #T_65964_row4_col0, #T_65964_row4_col2 {\n",
       "  background-color: #ebf3eb;\n",
       "  color: #000000;\n",
       "}\n",
       "#T_65964_row0_col5 {\n",
       "  background-color: #70b770;\n",
       "  color: #f1f1f1;\n",
       "}\n",
       "#T_65964_row0_col6 {\n",
       "  background-color: #b8dab8;\n",
       "  color: #000000;\n",
       "}\n",
       "#T_65964_row1_col0, #T_65964_row3_col0 {\n",
       "  background-color: #cde5cd;\n",
       "  color: #000000;\n",
       "}\n",
       "#T_65964_row1_col2, #T_65964_row3_col2 {\n",
       "  background-color: #2b952b;\n",
       "  color: #f1f1f1;\n",
       "}\n",
       "#T_65964_row1_col3 {\n",
       "  background-color: #289328;\n",
       "  color: #f1f1f1;\n",
       "}\n",
       "#T_65964_row1_col5 {\n",
       "  background-color: #c4e0c4;\n",
       "  color: #000000;\n",
       "}\n",
       "#T_65964_row1_col6 {\n",
       "  background-color: #d6e9d6;\n",
       "  color: #000000;\n",
       "}\n",
       "#T_65964_row1_col7 {\n",
       "  background-color: #9acb9a;\n",
       "  color: #000000;\n",
       "}\n",
       "#T_65964_row2_col6 {\n",
       "  background-color: #b3d8b3;\n",
       "  color: #000000;\n",
       "}\n",
       "#T_65964_row2_col7 {\n",
       "  background-color: #91c791;\n",
       "  color: #000000;\n",
       "}\n",
       "#T_65964_row3_col1 {\n",
       "  background-color: #e1eee1;\n",
       "  color: #000000;\n",
       "}\n",
       "#T_65964_row3_col3 {\n",
       "  background-color: #50a750;\n",
       "  color: #f1f1f1;\n",
       "}\n",
       "#T_65964_row3_col4 {\n",
       "  background-color: #67b267;\n",
       "  color: #f1f1f1;\n",
       "}\n",
       "#T_65964_row3_col5 {\n",
       "  background-color: #b2d7b1;\n",
       "  color: #000000;\n",
       "}\n",
       "#T_65964_row4_col1 {\n",
       "  background-color: #6eb66e;\n",
       "  color: #f1f1f1;\n",
       "}\n",
       "#T_65964_row4_col7 {\n",
       "  background-color: #8ac48a;\n",
       "  color: #000000;\n",
       "}\n",
       "</style>\n",
       "<table id=\"T_65964\">\n",
       "  <thead>\n",
       "    <tr>\n",
       "      <th class=\"blank level0\" >&nbsp;</th>\n",
       "      <th id=\"T_65964_level0_col0\" class=\"col_heading level0 col0\" >Pregnancies</th>\n",
       "      <th id=\"T_65964_level0_col1\" class=\"col_heading level0 col1\" >Glucose</th>\n",
       "      <th id=\"T_65964_level0_col2\" class=\"col_heading level0 col2\" >BloodPressure</th>\n",
       "      <th id=\"T_65964_level0_col3\" class=\"col_heading level0 col3\" >SkinThickness</th>\n",
       "      <th id=\"T_65964_level0_col4\" class=\"col_heading level0 col4\" >Insulin</th>\n",
       "      <th id=\"T_65964_level0_col5\" class=\"col_heading level0 col5\" >BMI</th>\n",
       "      <th id=\"T_65964_level0_col6\" class=\"col_heading level0 col6\" >DiabetesPedigreeFunction</th>\n",
       "      <th id=\"T_65964_level0_col7\" class=\"col_heading level0 col7\" >Age</th>\n",
       "      <th id=\"T_65964_level0_col8\" class=\"col_heading level0 col8\" >Outcome</th>\n",
       "    </tr>\n",
       "  </thead>\n",
       "  <tbody>\n",
       "    <tr>\n",
       "      <th id=\"T_65964_level0_row0\" class=\"row_heading level0 row0\" >0</th>\n",
       "      <td id=\"T_65964_row0_col0\" class=\"data row0 col0\" >6</td>\n",
       "      <td id=\"T_65964_row0_col1\" class=\"data row0 col1\" >148</td>\n",
       "      <td id=\"T_65964_row0_col2\" class=\"data row0 col2\" >72</td>\n",
       "      <td id=\"T_65964_row0_col3\" class=\"data row0 col3\" >35</td>\n",
       "      <td id=\"T_65964_row0_col4\" class=\"data row0 col4\" >0</td>\n",
       "      <td id=\"T_65964_row0_col5\" class=\"data row0 col5\" >33.600000</td>\n",
       "      <td id=\"T_65964_row0_col6\" class=\"data row0 col6\" >0.627000</td>\n",
       "      <td id=\"T_65964_row0_col7\" class=\"data row0 col7\" >50</td>\n",
       "      <td id=\"T_65964_row0_col8\" class=\"data row0 col8\" >1</td>\n",
       "    </tr>\n",
       "    <tr>\n",
       "      <th id=\"T_65964_level0_row1\" class=\"row_heading level0 row1\" >1</th>\n",
       "      <td id=\"T_65964_row1_col0\" class=\"data row1 col0\" >1</td>\n",
       "      <td id=\"T_65964_row1_col1\" class=\"data row1 col1\" >85</td>\n",
       "      <td id=\"T_65964_row1_col2\" class=\"data row1 col2\" >66</td>\n",
       "      <td id=\"T_65964_row1_col3\" class=\"data row1 col3\" >29</td>\n",
       "      <td id=\"T_65964_row1_col4\" class=\"data row1 col4\" >0</td>\n",
       "      <td id=\"T_65964_row1_col5\" class=\"data row1 col5\" >26.600000</td>\n",
       "      <td id=\"T_65964_row1_col6\" class=\"data row1 col6\" >0.351000</td>\n",
       "      <td id=\"T_65964_row1_col7\" class=\"data row1 col7\" >31</td>\n",
       "      <td id=\"T_65964_row1_col8\" class=\"data row1 col8\" >0</td>\n",
       "    </tr>\n",
       "    <tr>\n",
       "      <th id=\"T_65964_level0_row2\" class=\"row_heading level0 row2\" >2</th>\n",
       "      <td id=\"T_65964_row2_col0\" class=\"data row2 col0\" >8</td>\n",
       "      <td id=\"T_65964_row2_col1\" class=\"data row2 col1\" >183</td>\n",
       "      <td id=\"T_65964_row2_col2\" class=\"data row2 col2\" >64</td>\n",
       "      <td id=\"T_65964_row2_col3\" class=\"data row2 col3\" >0</td>\n",
       "      <td id=\"T_65964_row2_col4\" class=\"data row2 col4\" >0</td>\n",
       "      <td id=\"T_65964_row2_col5\" class=\"data row2 col5\" >23.300000</td>\n",
       "      <td id=\"T_65964_row2_col6\" class=\"data row2 col6\" >0.672000</td>\n",
       "      <td id=\"T_65964_row2_col7\" class=\"data row2 col7\" >32</td>\n",
       "      <td id=\"T_65964_row2_col8\" class=\"data row2 col8\" >1</td>\n",
       "    </tr>\n",
       "    <tr>\n",
       "      <th id=\"T_65964_level0_row3\" class=\"row_heading level0 row3\" >3</th>\n",
       "      <td id=\"T_65964_row3_col0\" class=\"data row3 col0\" >1</td>\n",
       "      <td id=\"T_65964_row3_col1\" class=\"data row3 col1\" >89</td>\n",
       "      <td id=\"T_65964_row3_col2\" class=\"data row3 col2\" >66</td>\n",
       "      <td id=\"T_65964_row3_col3\" class=\"data row3 col3\" >23</td>\n",
       "      <td id=\"T_65964_row3_col4\" class=\"data row3 col4\" >94</td>\n",
       "      <td id=\"T_65964_row3_col5\" class=\"data row3 col5\" >28.100000</td>\n",
       "      <td id=\"T_65964_row3_col6\" class=\"data row3 col6\" >0.167000</td>\n",
       "      <td id=\"T_65964_row3_col7\" class=\"data row3 col7\" >21</td>\n",
       "      <td id=\"T_65964_row3_col8\" class=\"data row3 col8\" >0</td>\n",
       "    </tr>\n",
       "    <tr>\n",
       "      <th id=\"T_65964_level0_row4\" class=\"row_heading level0 row4\" >4</th>\n",
       "      <td id=\"T_65964_row4_col0\" class=\"data row4 col0\" >0</td>\n",
       "      <td id=\"T_65964_row4_col1\" class=\"data row4 col1\" >137</td>\n",
       "      <td id=\"T_65964_row4_col2\" class=\"data row4 col2\" >40</td>\n",
       "      <td id=\"T_65964_row4_col3\" class=\"data row4 col3\" >35</td>\n",
       "      <td id=\"T_65964_row4_col4\" class=\"data row4 col4\" >168</td>\n",
       "      <td id=\"T_65964_row4_col5\" class=\"data row4 col5\" >43.100000</td>\n",
       "      <td id=\"T_65964_row4_col6\" class=\"data row4 col6\" >2.288000</td>\n",
       "      <td id=\"T_65964_row4_col7\" class=\"data row4 col7\" >33</td>\n",
       "      <td id=\"T_65964_row4_col8\" class=\"data row4 col8\" >1</td>\n",
       "    </tr>\n",
       "  </tbody>\n",
       "</table>\n"
      ],
      "text/plain": [
       "<pandas.io.formats.style.Styler at 0x7fec0a5b03d0>"
      ]
     },
     "execution_count": 3,
     "metadata": {},
     "output_type": "execute_result"
    }
   ],
   "source": [
    "df.head()"
   ]
  },
  {
   "cell_type": "code",
   "execution_count": 4,
   "id": "b07618b8",
   "metadata": {},
   "outputs": [
    {
     "data": {
      "text/html": [
       "<style type=\"text/css\">\n",
       "#T_0b22f_row0_col0, #T_0b22f_row0_col2, #T_0b22f_row0_col3, #T_0b22f_row0_col4, #T_0b22f_row0_col7, #T_0b22f_row1_col5, #T_0b22f_row3_col1, #T_0b22f_row3_col6, #T_0b22f_row3_col8 {\n",
       "  background-color: #008000;\n",
       "  color: #f1f1f1;\n",
       "}\n",
       "#T_0b22f_row0_col1 {\n",
       "  background-color: #b2d7b1;\n",
       "  color: #000000;\n",
       "}\n",
       "#T_0b22f_row0_col5 {\n",
       "  background-color: #56aa56;\n",
       "  color: #f1f1f1;\n",
       "}\n",
       "#T_0b22f_row0_col6, #T_0b22f_row0_col8, #T_0b22f_row1_col4, #T_0b22f_row1_col8, #T_0b22f_row2_col5, #T_0b22f_row2_col8, #T_0b22f_row3_col0, #T_0b22f_row3_col2, #T_0b22f_row3_col3, #T_0b22f_row3_col4, #T_0b22f_row4_col0, #T_0b22f_row4_col1, #T_0b22f_row4_col4, #T_0b22f_row4_col7, #T_0b22f_row4_col8 {\n",
       "  background-color: #ebf3eb;\n",
       "  color: #000000;\n",
       "}\n",
       "#T_0b22f_row1_col0 {\n",
       "  background-color: #d1e6d1;\n",
       "  color: #000000;\n",
       "}\n",
       "#T_0b22f_row1_col1 {\n",
       "  background-color: #1d8e1d;\n",
       "  color: #f1f1f1;\n",
       "}\n",
       "#T_0b22f_row1_col2, #T_0b22f_row4_col2 {\n",
       "  background-color: #57ab57;\n",
       "  color: #f1f1f1;\n",
       "}\n",
       "#T_0b22f_row1_col3 {\n",
       "  background-color: #66b266;\n",
       "  color: #f1f1f1;\n",
       "}\n",
       "#T_0b22f_row1_col6 {\n",
       "  background-color: #0b850b;\n",
       "  color: #f1f1f1;\n",
       "}\n",
       "#T_0b22f_row1_col7 {\n",
       "  background-color: #d4e8d4;\n",
       "  color: #000000;\n",
       "}\n",
       "#T_0b22f_row2_col0 {\n",
       "  background-color: #83c083;\n",
       "  color: #000000;\n",
       "}\n",
       "#T_0b22f_row2_col1 {\n",
       "  background-color: #239123;\n",
       "  color: #f1f1f1;\n",
       "}\n",
       "#T_0b22f_row2_col2 {\n",
       "  background-color: #3a9c3a;\n",
       "  color: #f1f1f1;\n",
       "}\n",
       "#T_0b22f_row2_col3 {\n",
       "  background-color: #7abc7a;\n",
       "  color: #000000;\n",
       "}\n",
       "#T_0b22f_row2_col4 {\n",
       "  background-color: #58ab58;\n",
       "  color: #f1f1f1;\n",
       "}\n",
       "#T_0b22f_row2_col6 {\n",
       "  background-color: #89c389;\n",
       "  color: #000000;\n",
       "}\n",
       "#T_0b22f_row2_col7 {\n",
       "  background-color: #c2dfc2;\n",
       "  color: #000000;\n",
       "}\n",
       "#T_0b22f_row3_col5 {\n",
       "  background-color: #94c994;\n",
       "  color: #000000;\n",
       "}\n",
       "#T_0b22f_row3_col7 {\n",
       "  background-color: #5eae5e;\n",
       "  color: #f1f1f1;\n",
       "}\n",
       "#T_0b22f_row4_col3 {\n",
       "  background-color: #53a953;\n",
       "  color: #f1f1f1;\n",
       "}\n",
       "#T_0b22f_row4_col5 {\n",
       "  background-color: #8ec58e;\n",
       "  color: #000000;\n",
       "}\n",
       "#T_0b22f_row4_col6 {\n",
       "  background-color: #2c962c;\n",
       "  color: #f1f1f1;\n",
       "}\n",
       "</style>\n",
       "<table id=\"T_0b22f\">\n",
       "  <thead>\n",
       "    <tr>\n",
       "      <th class=\"blank level0\" >&nbsp;</th>\n",
       "      <th id=\"T_0b22f_level0_col0\" class=\"col_heading level0 col0\" >Pregnancies</th>\n",
       "      <th id=\"T_0b22f_level0_col1\" class=\"col_heading level0 col1\" >Glucose</th>\n",
       "      <th id=\"T_0b22f_level0_col2\" class=\"col_heading level0 col2\" >BloodPressure</th>\n",
       "      <th id=\"T_0b22f_level0_col3\" class=\"col_heading level0 col3\" >SkinThickness</th>\n",
       "      <th id=\"T_0b22f_level0_col4\" class=\"col_heading level0 col4\" >Insulin</th>\n",
       "      <th id=\"T_0b22f_level0_col5\" class=\"col_heading level0 col5\" >BMI</th>\n",
       "      <th id=\"T_0b22f_level0_col6\" class=\"col_heading level0 col6\" >DiabetesPedigreeFunction</th>\n",
       "      <th id=\"T_0b22f_level0_col7\" class=\"col_heading level0 col7\" >Age</th>\n",
       "      <th id=\"T_0b22f_level0_col8\" class=\"col_heading level0 col8\" >Outcome</th>\n",
       "    </tr>\n",
       "  </thead>\n",
       "  <tbody>\n",
       "    <tr>\n",
       "      <th id=\"T_0b22f_level0_row0\" class=\"row_heading level0 row0\" >763</th>\n",
       "      <td id=\"T_0b22f_row0_col0\" class=\"data row0 col0\" >10</td>\n",
       "      <td id=\"T_0b22f_row0_col1\" class=\"data row0 col1\" >101</td>\n",
       "      <td id=\"T_0b22f_row0_col2\" class=\"data row0 col2\" >76</td>\n",
       "      <td id=\"T_0b22f_row0_col3\" class=\"data row0 col3\" >48</td>\n",
       "      <td id=\"T_0b22f_row0_col4\" class=\"data row0 col4\" >180</td>\n",
       "      <td id=\"T_0b22f_row0_col5\" class=\"data row0 col5\" >32.900000</td>\n",
       "      <td id=\"T_0b22f_row0_col6\" class=\"data row0 col6\" >0.171000</td>\n",
       "      <td id=\"T_0b22f_row0_col7\" class=\"data row0 col7\" >63</td>\n",
       "      <td id=\"T_0b22f_row0_col8\" class=\"data row0 col8\" >0</td>\n",
       "    </tr>\n",
       "    <tr>\n",
       "      <th id=\"T_0b22f_level0_row1\" class=\"row_heading level0 row1\" >764</th>\n",
       "      <td id=\"T_0b22f_row1_col0\" class=\"data row1 col0\" >2</td>\n",
       "      <td id=\"T_0b22f_row1_col1\" class=\"data row1 col1\" >122</td>\n",
       "      <td id=\"T_0b22f_row1_col2\" class=\"data row1 col2\" >70</td>\n",
       "      <td id=\"T_0b22f_row1_col3\" class=\"data row1 col3\" >27</td>\n",
       "      <td id=\"T_0b22f_row1_col4\" class=\"data row1 col4\" >0</td>\n",
       "      <td id=\"T_0b22f_row1_col5\" class=\"data row1 col5\" >36.800000</td>\n",
       "      <td id=\"T_0b22f_row1_col6\" class=\"data row1 col6\" >0.340000</td>\n",
       "      <td id=\"T_0b22f_row1_col7\" class=\"data row1 col7\" >27</td>\n",
       "      <td id=\"T_0b22f_row1_col8\" class=\"data row1 col8\" >0</td>\n",
       "    </tr>\n",
       "    <tr>\n",
       "      <th id=\"T_0b22f_level0_row2\" class=\"row_heading level0 row2\" >765</th>\n",
       "      <td id=\"T_0b22f_row2_col0\" class=\"data row2 col0\" >5</td>\n",
       "      <td id=\"T_0b22f_row2_col1\" class=\"data row2 col1\" >121</td>\n",
       "      <td id=\"T_0b22f_row2_col2\" class=\"data row2 col2\" >72</td>\n",
       "      <td id=\"T_0b22f_row2_col3\" class=\"data row2 col3\" >23</td>\n",
       "      <td id=\"T_0b22f_row2_col4\" class=\"data row2 col4\" >112</td>\n",
       "      <td id=\"T_0b22f_row2_col5\" class=\"data row2 col5\" >26.200000</td>\n",
       "      <td id=\"T_0b22f_row2_col6\" class=\"data row2 col6\" >0.245000</td>\n",
       "      <td id=\"T_0b22f_row2_col7\" class=\"data row2 col7\" >30</td>\n",
       "      <td id=\"T_0b22f_row2_col8\" class=\"data row2 col8\" >0</td>\n",
       "    </tr>\n",
       "    <tr>\n",
       "      <th id=\"T_0b22f_level0_row3\" class=\"row_heading level0 row3\" >766</th>\n",
       "      <td id=\"T_0b22f_row3_col0\" class=\"data row3 col0\" >1</td>\n",
       "      <td id=\"T_0b22f_row3_col1\" class=\"data row3 col1\" >126</td>\n",
       "      <td id=\"T_0b22f_row3_col2\" class=\"data row3 col2\" >60</td>\n",
       "      <td id=\"T_0b22f_row3_col3\" class=\"data row3 col3\" >0</td>\n",
       "      <td id=\"T_0b22f_row3_col4\" class=\"data row3 col4\" >0</td>\n",
       "      <td id=\"T_0b22f_row3_col5\" class=\"data row3 col5\" >30.100000</td>\n",
       "      <td id=\"T_0b22f_row3_col6\" class=\"data row3 col6\" >0.349000</td>\n",
       "      <td id=\"T_0b22f_row3_col7\" class=\"data row3 col7\" >47</td>\n",
       "      <td id=\"T_0b22f_row3_col8\" class=\"data row3 col8\" >1</td>\n",
       "    </tr>\n",
       "    <tr>\n",
       "      <th id=\"T_0b22f_level0_row4\" class=\"row_heading level0 row4\" >767</th>\n",
       "      <td id=\"T_0b22f_row4_col0\" class=\"data row4 col0\" >1</td>\n",
       "      <td id=\"T_0b22f_row4_col1\" class=\"data row4 col1\" >93</td>\n",
       "      <td id=\"T_0b22f_row4_col2\" class=\"data row4 col2\" >70</td>\n",
       "      <td id=\"T_0b22f_row4_col3\" class=\"data row4 col3\" >31</td>\n",
       "      <td id=\"T_0b22f_row4_col4\" class=\"data row4 col4\" >0</td>\n",
       "      <td id=\"T_0b22f_row4_col5\" class=\"data row4 col5\" >30.400000</td>\n",
       "      <td id=\"T_0b22f_row4_col6\" class=\"data row4 col6\" >0.315000</td>\n",
       "      <td id=\"T_0b22f_row4_col7\" class=\"data row4 col7\" >23</td>\n",
       "      <td id=\"T_0b22f_row4_col8\" class=\"data row4 col8\" >0</td>\n",
       "    </tr>\n",
       "  </tbody>\n",
       "</table>\n"
      ],
      "text/plain": [
       "<pandas.io.formats.style.Styler at 0x7fec4bb741c0>"
      ]
     },
     "execution_count": 4,
     "metadata": {},
     "output_type": "execute_result"
    }
   ],
   "source": [
    "df.tail()"
   ]
  },
  {
   "cell_type": "markdown",
   "id": "7272c357",
   "metadata": {},
   "source": [
    "# Data Preprocessing"
   ]
  },
  {
   "cell_type": "code",
   "execution_count": 5,
   "id": "55a41c5f",
   "metadata": {},
   "outputs": [
    {
     "data": {
      "text/plain": [
       "(768, 9)"
      ]
     },
     "execution_count": 5,
     "metadata": {},
     "output_type": "execute_result"
    }
   ],
   "source": [
    "df.shape"
   ]
  },
  {
   "cell_type": "code",
   "execution_count": 6,
   "id": "63d59488",
   "metadata": {},
   "outputs": [
    {
     "data": {
      "text/html": [
       "<style type=\"text/css\">\n",
       "#T_b294d_row0_col0, #T_b294d_row0_col1, #T_b294d_row0_col2, #T_b294d_row0_col3, #T_b294d_row0_col5, #T_b294d_row0_col6, #T_b294d_row0_col7, #T_b294d_row0_col8, #T_b294d_row7_col4 {\n",
       "  background-color: #008000;\n",
       "  color: #f1f1f1;\n",
       "}\n",
       "#T_b294d_row0_col4 {\n",
       "  background-color: #158a15;\n",
       "  color: #f1f1f1;\n",
       "}\n",
       "#T_b294d_row1_col0, #T_b294d_row2_col0, #T_b294d_row5_col0 {\n",
       "  background-color: #eaf2ea;\n",
       "  color: #000000;\n",
       "}\n",
       "#T_b294d_row1_col1, #T_b294d_row7_col2 {\n",
       "  background-color: #c6e1c6;\n",
       "  color: #000000;\n",
       "}\n",
       "#T_b294d_row1_col2, #T_b294d_row7_col7 {\n",
       "  background-color: #d5e9d5;\n",
       "  color: #000000;\n",
       "}\n",
       "#T_b294d_row1_col3, #T_b294d_row2_col2 {\n",
       "  background-color: #e5f0e5;\n",
       "  color: #000000;\n",
       "}\n",
       "#T_b294d_row1_col4, #T_b294d_row5_col2 {\n",
       "  background-color: #d4e8d4;\n",
       "  color: #000000;\n",
       "}\n",
       "#T_b294d_row1_col5, #T_b294d_row2_col1, #T_b294d_row5_col5, #T_b294d_row6_col3 {\n",
       "  background-color: #e1eee1;\n",
       "  color: #000000;\n",
       "}\n",
       "#T_b294d_row1_col6, #T_b294d_row1_col8, #T_b294d_row2_col6, #T_b294d_row2_col7, #T_b294d_row2_col8, #T_b294d_row3_col0, #T_b294d_row3_col1, #T_b294d_row3_col2, #T_b294d_row3_col3, #T_b294d_row3_col4, #T_b294d_row3_col5, #T_b294d_row3_col6, #T_b294d_row3_col8, #T_b294d_row4_col0, #T_b294d_row4_col3, #T_b294d_row4_col4, #T_b294d_row4_col6, #T_b294d_row4_col8, #T_b294d_row5_col6, #T_b294d_row5_col8, #T_b294d_row6_col6, #T_b294d_row6_col8, #T_b294d_row7_col6, #T_b294d_row7_col8 {\n",
       "  background-color: #ebf3eb;\n",
       "  color: #000000;\n",
       "}\n",
       "#T_b294d_row1_col7, #T_b294d_row5_col3 {\n",
       "  background-color: #e4f0e4;\n",
       "  color: #000000;\n",
       "}\n",
       "#T_b294d_row2_col3, #T_b294d_row5_col7, #T_b294d_row7_col0 {\n",
       "  background-color: #e6f1e6;\n",
       "  color: #000000;\n",
       "}\n",
       "#T_b294d_row2_col4 {\n",
       "  background-color: #cbe4cb;\n",
       "  color: #000000;\n",
       "}\n",
       "#T_b294d_row2_col5, #T_b294d_row6_col0 {\n",
       "  background-color: #e9f2e9;\n",
       "  color: #000000;\n",
       "}\n",
       "#T_b294d_row3_col7 {\n",
       "  background-color: #e8f2e8;\n",
       "  color: #000000;\n",
       "}\n",
       "#T_b294d_row4_col1, #T_b294d_row7_col3 {\n",
       "  background-color: #cce4cc;\n",
       "  color: #000000;\n",
       "}\n",
       "#T_b294d_row4_col2 {\n",
       "  background-color: #d8ead8;\n",
       "  color: #000000;\n",
       "}\n",
       "#T_b294d_row4_col5, #T_b294d_row5_col4, #T_b294d_row6_col7 {\n",
       "  background-color: #e2efe2;\n",
       "  color: #000000;\n",
       "}\n",
       "#T_b294d_row4_col7 {\n",
       "  background-color: #e7f1e7;\n",
       "  color: #000000;\n",
       "}\n",
       "#T_b294d_row5_col1 {\n",
       "  background-color: #c7e1c7;\n",
       "  color: #000000;\n",
       "}\n",
       "#T_b294d_row6_col1 {\n",
       "  background-color: #c0dec0;\n",
       "  color: #000000;\n",
       "}\n",
       "#T_b294d_row6_col2 {\n",
       "  background-color: #d3e7d3;\n",
       "  color: #000000;\n",
       "}\n",
       "#T_b294d_row6_col4 {\n",
       "  background-color: #c8e2c8;\n",
       "  color: #000000;\n",
       "}\n",
       "#T_b294d_row6_col5 {\n",
       "  background-color: #e0eedf;\n",
       "  color: #000000;\n",
       "}\n",
       "#T_b294d_row7_col1 {\n",
       "  background-color: #aed5ae;\n",
       "  color: #000000;\n",
       "}\n",
       "#T_b294d_row7_col5 {\n",
       "  background-color: #d6e9d6;\n",
       "  color: #000000;\n",
       "}\n",
       "</style>\n",
       "<table id=\"T_b294d\">\n",
       "  <thead>\n",
       "    <tr>\n",
       "      <th class=\"blank level0\" >&nbsp;</th>\n",
       "      <th id=\"T_b294d_level0_col0\" class=\"col_heading level0 col0\" >Pregnancies</th>\n",
       "      <th id=\"T_b294d_level0_col1\" class=\"col_heading level0 col1\" >Glucose</th>\n",
       "      <th id=\"T_b294d_level0_col2\" class=\"col_heading level0 col2\" >BloodPressure</th>\n",
       "      <th id=\"T_b294d_level0_col3\" class=\"col_heading level0 col3\" >SkinThickness</th>\n",
       "      <th id=\"T_b294d_level0_col4\" class=\"col_heading level0 col4\" >Insulin</th>\n",
       "      <th id=\"T_b294d_level0_col5\" class=\"col_heading level0 col5\" >BMI</th>\n",
       "      <th id=\"T_b294d_level0_col6\" class=\"col_heading level0 col6\" >DiabetesPedigreeFunction</th>\n",
       "      <th id=\"T_b294d_level0_col7\" class=\"col_heading level0 col7\" >Age</th>\n",
       "      <th id=\"T_b294d_level0_col8\" class=\"col_heading level0 col8\" >Outcome</th>\n",
       "    </tr>\n",
       "  </thead>\n",
       "  <tbody>\n",
       "    <tr>\n",
       "      <th id=\"T_b294d_level0_row0\" class=\"row_heading level0 row0\" >count</th>\n",
       "      <td id=\"T_b294d_row0_col0\" class=\"data row0 col0\" >768.000000</td>\n",
       "      <td id=\"T_b294d_row0_col1\" class=\"data row0 col1\" >768.000000</td>\n",
       "      <td id=\"T_b294d_row0_col2\" class=\"data row0 col2\" >768.000000</td>\n",
       "      <td id=\"T_b294d_row0_col3\" class=\"data row0 col3\" >768.000000</td>\n",
       "      <td id=\"T_b294d_row0_col4\" class=\"data row0 col4\" >768.000000</td>\n",
       "      <td id=\"T_b294d_row0_col5\" class=\"data row0 col5\" >768.000000</td>\n",
       "      <td id=\"T_b294d_row0_col6\" class=\"data row0 col6\" >768.000000</td>\n",
       "      <td id=\"T_b294d_row0_col7\" class=\"data row0 col7\" >768.000000</td>\n",
       "      <td id=\"T_b294d_row0_col8\" class=\"data row0 col8\" >768.000000</td>\n",
       "    </tr>\n",
       "    <tr>\n",
       "      <th id=\"T_b294d_level0_row1\" class=\"row_heading level0 row1\" >mean</th>\n",
       "      <td id=\"T_b294d_row1_col0\" class=\"data row1 col0\" >3.845052</td>\n",
       "      <td id=\"T_b294d_row1_col1\" class=\"data row1 col1\" >120.894531</td>\n",
       "      <td id=\"T_b294d_row1_col2\" class=\"data row1 col2\" >69.105469</td>\n",
       "      <td id=\"T_b294d_row1_col3\" class=\"data row1 col3\" >20.536458</td>\n",
       "      <td id=\"T_b294d_row1_col4\" class=\"data row1 col4\" >79.799479</td>\n",
       "      <td id=\"T_b294d_row1_col5\" class=\"data row1 col5\" >31.992578</td>\n",
       "      <td id=\"T_b294d_row1_col6\" class=\"data row1 col6\" >0.471876</td>\n",
       "      <td id=\"T_b294d_row1_col7\" class=\"data row1 col7\" >33.240885</td>\n",
       "      <td id=\"T_b294d_row1_col8\" class=\"data row1 col8\" >0.348958</td>\n",
       "    </tr>\n",
       "    <tr>\n",
       "      <th id=\"T_b294d_level0_row2\" class=\"row_heading level0 row2\" >std</th>\n",
       "      <td id=\"T_b294d_row2_col0\" class=\"data row2 col0\" >3.369578</td>\n",
       "      <td id=\"T_b294d_row2_col1\" class=\"data row2 col1\" >31.972618</td>\n",
       "      <td id=\"T_b294d_row2_col2\" class=\"data row2 col2\" >19.355807</td>\n",
       "      <td id=\"T_b294d_row2_col3\" class=\"data row2 col3\" >15.952218</td>\n",
       "      <td id=\"T_b294d_row2_col4\" class=\"data row2 col4\" >115.244002</td>\n",
       "      <td id=\"T_b294d_row2_col5\" class=\"data row2 col5\" >7.884160</td>\n",
       "      <td id=\"T_b294d_row2_col6\" class=\"data row2 col6\" >0.331329</td>\n",
       "      <td id=\"T_b294d_row2_col7\" class=\"data row2 col7\" >11.760232</td>\n",
       "      <td id=\"T_b294d_row2_col8\" class=\"data row2 col8\" >0.476951</td>\n",
       "    </tr>\n",
       "    <tr>\n",
       "      <th id=\"T_b294d_level0_row3\" class=\"row_heading level0 row3\" >min</th>\n",
       "      <td id=\"T_b294d_row3_col0\" class=\"data row3 col0\" >0.000000</td>\n",
       "      <td id=\"T_b294d_row3_col1\" class=\"data row3 col1\" >0.000000</td>\n",
       "      <td id=\"T_b294d_row3_col2\" class=\"data row3 col2\" >0.000000</td>\n",
       "      <td id=\"T_b294d_row3_col3\" class=\"data row3 col3\" >0.000000</td>\n",
       "      <td id=\"T_b294d_row3_col4\" class=\"data row3 col4\" >0.000000</td>\n",
       "      <td id=\"T_b294d_row3_col5\" class=\"data row3 col5\" >0.000000</td>\n",
       "      <td id=\"T_b294d_row3_col6\" class=\"data row3 col6\" >0.078000</td>\n",
       "      <td id=\"T_b294d_row3_col7\" class=\"data row3 col7\" >21.000000</td>\n",
       "      <td id=\"T_b294d_row3_col8\" class=\"data row3 col8\" >0.000000</td>\n",
       "    </tr>\n",
       "    <tr>\n",
       "      <th id=\"T_b294d_level0_row4\" class=\"row_heading level0 row4\" >25%</th>\n",
       "      <td id=\"T_b294d_row4_col0\" class=\"data row4 col0\" >1.000000</td>\n",
       "      <td id=\"T_b294d_row4_col1\" class=\"data row4 col1\" >99.000000</td>\n",
       "      <td id=\"T_b294d_row4_col2\" class=\"data row4 col2\" >62.000000</td>\n",
       "      <td id=\"T_b294d_row4_col3\" class=\"data row4 col3\" >0.000000</td>\n",
       "      <td id=\"T_b294d_row4_col4\" class=\"data row4 col4\" >0.000000</td>\n",
       "      <td id=\"T_b294d_row4_col5\" class=\"data row4 col5\" >27.300000</td>\n",
       "      <td id=\"T_b294d_row4_col6\" class=\"data row4 col6\" >0.243750</td>\n",
       "      <td id=\"T_b294d_row4_col7\" class=\"data row4 col7\" >24.000000</td>\n",
       "      <td id=\"T_b294d_row4_col8\" class=\"data row4 col8\" >0.000000</td>\n",
       "    </tr>\n",
       "    <tr>\n",
       "      <th id=\"T_b294d_level0_row5\" class=\"row_heading level0 row5\" >50%</th>\n",
       "      <td id=\"T_b294d_row5_col0\" class=\"data row5 col0\" >3.000000</td>\n",
       "      <td id=\"T_b294d_row5_col1\" class=\"data row5 col1\" >117.000000</td>\n",
       "      <td id=\"T_b294d_row5_col2\" class=\"data row5 col2\" >72.000000</td>\n",
       "      <td id=\"T_b294d_row5_col3\" class=\"data row5 col3\" >23.000000</td>\n",
       "      <td id=\"T_b294d_row5_col4\" class=\"data row5 col4\" >30.500000</td>\n",
       "      <td id=\"T_b294d_row5_col5\" class=\"data row5 col5\" >32.000000</td>\n",
       "      <td id=\"T_b294d_row5_col6\" class=\"data row5 col6\" >0.372500</td>\n",
       "      <td id=\"T_b294d_row5_col7\" class=\"data row5 col7\" >29.000000</td>\n",
       "      <td id=\"T_b294d_row5_col8\" class=\"data row5 col8\" >0.000000</td>\n",
       "    </tr>\n",
       "    <tr>\n",
       "      <th id=\"T_b294d_level0_row6\" class=\"row_heading level0 row6\" >75%</th>\n",
       "      <td id=\"T_b294d_row6_col0\" class=\"data row6 col0\" >6.000000</td>\n",
       "      <td id=\"T_b294d_row6_col1\" class=\"data row6 col1\" >140.250000</td>\n",
       "      <td id=\"T_b294d_row6_col2\" class=\"data row6 col2\" >80.000000</td>\n",
       "      <td id=\"T_b294d_row6_col3\" class=\"data row6 col3\" >32.000000</td>\n",
       "      <td id=\"T_b294d_row6_col4\" class=\"data row6 col4\" >127.250000</td>\n",
       "      <td id=\"T_b294d_row6_col5\" class=\"data row6 col5\" >36.600000</td>\n",
       "      <td id=\"T_b294d_row6_col6\" class=\"data row6 col6\" >0.626250</td>\n",
       "      <td id=\"T_b294d_row6_col7\" class=\"data row6 col7\" >41.000000</td>\n",
       "      <td id=\"T_b294d_row6_col8\" class=\"data row6 col8\" >1.000000</td>\n",
       "    </tr>\n",
       "    <tr>\n",
       "      <th id=\"T_b294d_level0_row7\" class=\"row_heading level0 row7\" >max</th>\n",
       "      <td id=\"T_b294d_row7_col0\" class=\"data row7 col0\" >17.000000</td>\n",
       "      <td id=\"T_b294d_row7_col1\" class=\"data row7 col1\" >199.000000</td>\n",
       "      <td id=\"T_b294d_row7_col2\" class=\"data row7 col2\" >122.000000</td>\n",
       "      <td id=\"T_b294d_row7_col3\" class=\"data row7 col3\" >99.000000</td>\n",
       "      <td id=\"T_b294d_row7_col4\" class=\"data row7 col4\" >846.000000</td>\n",
       "      <td id=\"T_b294d_row7_col5\" class=\"data row7 col5\" >67.100000</td>\n",
       "      <td id=\"T_b294d_row7_col6\" class=\"data row7 col6\" >2.420000</td>\n",
       "      <td id=\"T_b294d_row7_col7\" class=\"data row7 col7\" >81.000000</td>\n",
       "      <td id=\"T_b294d_row7_col8\" class=\"data row7 col8\" >1.000000</td>\n",
       "    </tr>\n",
       "  </tbody>\n",
       "</table>\n"
      ],
      "text/plain": [
       "<pandas.io.formats.style.Styler at 0x7fec0a0b1ed0>"
      ]
     },
     "execution_count": 6,
     "metadata": {},
     "output_type": "execute_result"
    }
   ],
   "source": [
    "df.describe()"
   ]
  },
  {
   "cell_type": "code",
   "execution_count": 7,
   "id": "4178ffd2",
   "metadata": {},
   "outputs": [
    {
     "data": {
      "text/plain": [
       "Pregnancies                 0\n",
       "Glucose                     0\n",
       "BloodPressure               0\n",
       "SkinThickness               0\n",
       "Insulin                     0\n",
       "BMI                         0\n",
       "DiabetesPedigreeFunction    0\n",
       "Age                         0\n",
       "Outcome                     0\n",
       "dtype: int64"
      ]
     },
     "execution_count": 7,
     "metadata": {},
     "output_type": "execute_result"
    }
   ],
   "source": [
    "df.isna().sum()"
   ]
  },
  {
   "cell_type": "code",
   "execution_count": 8,
   "id": "530814ee",
   "metadata": {},
   "outputs": [
    {
     "data": {
      "text/plain": [
       "Pregnancies                   int64\n",
       "Glucose                       int64\n",
       "BloodPressure                 int64\n",
       "SkinThickness                 int64\n",
       "Insulin                       int64\n",
       "BMI                         float64\n",
       "DiabetesPedigreeFunction    float64\n",
       "Age                           int64\n",
       "Outcome                       int64\n",
       "dtype: object"
      ]
     },
     "execution_count": 8,
     "metadata": {},
     "output_type": "execute_result"
    }
   ],
   "source": [
    "df.dtypes"
   ]
  },
  {
   "cell_type": "code",
   "execution_count": 9,
   "id": "3404d2bc",
   "metadata": {},
   "outputs": [
    {
     "data": {
      "text/plain": [
       "Index(['Pregnancies', 'Glucose', 'BloodPressure', 'SkinThickness', 'Insulin',\n",
       "       'BMI', 'DiabetesPedigreeFunction', 'Age', 'Outcome'],\n",
       "      dtype='object')"
      ]
     },
     "execution_count": 9,
     "metadata": {},
     "output_type": "execute_result"
    }
   ],
   "source": [
    "df.columns"
   ]
  },
  {
   "cell_type": "code",
   "execution_count": 10,
   "id": "71155784",
   "metadata": {},
   "outputs": [
    {
     "name": "stdout",
     "output_type": "stream",
     "text": [
      "<class 'pandas.core.frame.DataFrame'>\n",
      "RangeIndex: 768 entries, 0 to 767\n",
      "Data columns (total 9 columns):\n",
      " #   Column                    Non-Null Count  Dtype  \n",
      "---  ------                    --------------  -----  \n",
      " 0   Pregnancies               768 non-null    int64  \n",
      " 1   Glucose                   768 non-null    int64  \n",
      " 2   BloodPressure             768 non-null    int64  \n",
      " 3   SkinThickness             768 non-null    int64  \n",
      " 4   Insulin                   768 non-null    int64  \n",
      " 5   BMI                       768 non-null    float64\n",
      " 6   DiabetesPedigreeFunction  768 non-null    float64\n",
      " 7   Age                       768 non-null    int64  \n",
      " 8   Outcome                   768 non-null    int64  \n",
      "dtypes: float64(2), int64(7)\n",
      "memory usage: 54.1 KB\n"
     ]
    }
   ],
   "source": [
    "df.info()"
   ]
  },
  {
   "cell_type": "code",
   "execution_count": 11,
   "id": "d2f8aa94",
   "metadata": {
    "scrolled": true
   },
   "outputs": [
    {
     "data": {
      "text/plain": [
       "0    500\n",
       "1    268\n",
       "Name: Outcome, dtype: int64"
      ]
     },
     "execution_count": 11,
     "metadata": {},
     "output_type": "execute_result"
    }
   ],
   "source": [
    "df[\"Outcome\"].value_counts()"
   ]
  },
  {
   "cell_type": "markdown",
   "id": "e705c529",
   "metadata": {},
   "source": [
    "### Separate  X & y"
   ]
  },
  {
   "cell_type": "code",
   "execution_count": 12,
   "id": "a07594c4",
   "metadata": {},
   "outputs": [],
   "source": [
    "X=df.drop(\"Outcome\",axis=1).values"
   ]
  },
  {
   "cell_type": "code",
   "execution_count": 13,
   "id": "04a65741",
   "metadata": {},
   "outputs": [
    {
     "name": "stdout",
     "output_type": "stream",
     "text": [
      "[[  6.    148.     72.    ...  33.6     0.627  50.   ]\n",
      " [  1.     85.     66.    ...  26.6     0.351  31.   ]\n",
      " [  8.    183.     64.    ...  23.3     0.672  32.   ]\n",
      " ...\n",
      " [  5.    121.     72.    ...  26.2     0.245  30.   ]\n",
      " [  1.    126.     60.    ...  30.1     0.349  47.   ]\n",
      " [  1.     93.     70.    ...  30.4     0.315  23.   ]]\n"
     ]
    }
   ],
   "source": [
    "print(X)"
   ]
  },
  {
   "cell_type": "code",
   "execution_count": 14,
   "id": "81f083cf",
   "metadata": {},
   "outputs": [],
   "source": [
    "y=df[\"Outcome\"].values"
   ]
  },
  {
   "cell_type": "markdown",
   "id": "d1f2b187",
   "metadata": {},
   "source": [
    "# Converting data into train & test split"
   ]
  },
  {
   "cell_type": "code",
   "execution_count": 15,
   "id": "46f43c8c",
   "metadata": {},
   "outputs": [],
   "source": [
    "from sklearn.model_selection import train_test_split\n",
    "X_train, X_test, y_train, y_test = train_test_split(X, y, test_size=0.30,random_state=42)"
   ]
  },
  {
   "cell_type": "markdown",
   "id": "0d73c430",
   "metadata": {},
   "source": [
    "# Normalize data "
   ]
  },
  {
   "cell_type": "markdown",
   "id": "577bcfaf",
   "metadata": {},
   "source": [
    "**StandardScaler** used for normalize values"
   ]
  },
  {
   "cell_type": "code",
   "execution_count": 16,
   "id": "b06184c2",
   "metadata": {},
   "outputs": [],
   "source": [
    "from sklearn.preprocessing import StandardScaler\n",
    "scaler=StandardScaler()\n",
    "scaler.fit(X_train)\n",
    "X_train=scaler.transform(X_train)\n",
    "X_test=scaler.transform(X_test)"
   ]
  },
  {
   "cell_type": "code",
   "execution_count": 17,
   "id": "14e5d3fe",
   "metadata": {},
   "outputs": [
    {
     "name": "stdout",
     "output_type": "stream",
     "text": [
      "[[ 0.69748316 -0.70719864 -0.64639893 ...  0.26575953 -0.11680393\n",
      "   0.85019217]\n",
      " [-0.52953881 -0.27388818  0.29399563 ...  0.488933   -0.94192338\n",
      "  -1.03426754]\n",
      " [-0.52953881 -0.39769117 -0.31449497 ... -0.1543317  -0.91266382\n",
      "  -1.03426754]\n",
      " ...\n",
      " [-1.14304979  0.19037303  0.57058226 ...  0.56770011  0.97750343\n",
      "  -0.86295302]\n",
      " [ 0.69748316 -0.49054341  0.01740899 ... -0.1543317  -1.01799822\n",
      "   0.33624861]\n",
      " [ 0.39072767 -1.35716433  0.68121692 ...  0.50206085 -0.91851573\n",
      "   0.16493409]]\n"
     ]
    }
   ],
   "source": [
    "print(X_test)"
   ]
  },
  {
   "cell_type": "code",
   "execution_count": 18,
   "id": "3e9bdc8b",
   "metadata": {},
   "outputs": [
    {
     "name": "stdout",
     "output_type": "stream",
     "text": [
      "[[-0.8362943  -0.80005088 -0.53576428 ... -1.06015343 -0.61421636\n",
      "  -0.94861028]\n",
      " [ 0.39072767 -0.49054341  0.12804365 ...  0.64646721 -0.90973787\n",
      "  -0.43466673]\n",
      " [-1.14304979  0.43797901 -0.09322566 ...  1.35537117 -0.30699103\n",
      "  -0.77729576]\n",
      " ...\n",
      " [ 1.92450513 -0.6143464   0.90248622 ...  1.78859026  1.94892066\n",
      "   0.42190587]\n",
      " [-1.14304979  0.62368349 -3.8548039  ...  1.36849903 -0.77514391\n",
      "  -0.34900947]\n",
      " [-1.14304979  0.12847154  1.45565949 ... -1.24394334 -0.60836445\n",
      "  -1.03426754]]\n"
     ]
    }
   ],
   "source": [
    "print(X_train)"
   ]
  },
  {
   "cell_type": "markdown",
   "id": "f3f39bf2",
   "metadata": {},
   "source": [
    "# Model Creation & Prediction"
   ]
  },
  {
   "cell_type": "code",
   "execution_count": 19,
   "id": "5e6c133d",
   "metadata": {},
   "outputs": [
    {
     "name": "stdout",
     "output_type": "stream",
     "text": [
      "[0 0 0 0 1 0 0 1 1 0 0 1 0 0 0 0 0 0 1 0 1 0 0 0 0 1 0 0 0 0 1 1 1 1 1 1 1\n",
      " 0 0 1 0 1 1 0 0 0 1 0 0 1 0 1 1 0 0 0 0 0 0 1 0 0 1 0 0 0 0 1 0 1 1 0 0 0\n",
      " 0 0 1 0 0 0 1 0 0 0 0 1 1 0 0 0 0 0 0 0 1 1 1 0 0 0 1 0 0 0 1 0 0 1 0 1 0\n",
      " 0 0 1 0 0 0 0 0 0 0 0 0 0 0 0 0 1 1 1 1 1 0 0 0 0 0 1 0 0 0 0 0 1 0 0 0 0\n",
      " 0 1 0 0 0 1 0 1 0 0 0 0 0 1 0 0 0 1 0 1 1 1 1 0 1 1 1 0 0 1 0 0 0 0 1 1 0\n",
      " 0 0 0 1 1 0 0 0 0 0 0 0 0 0 1 0 0 0 0 1 0 0 0 1 0 0 0 0 0 1 0 0 1 0 1 1 0\n",
      " 0 0 0 1 0 0 0 0 0]\n"
     ]
    }
   ],
   "source": [
    "from sklearn.neighbors import KNeighborsClassifier\n",
    "knn=KNeighborsClassifier(n_neighbors=7)\n",
    "knn.fit(X_train,y_train)\n",
    "y_pred=knn.predict(X_test)\n",
    "print(y_pred)"
   ]
  },
  {
   "cell_type": "code",
   "execution_count": 20,
   "id": "aac76ae3",
   "metadata": {},
   "outputs": [
    {
     "data": {
      "text/plain": [
       "<Axes: >"
      ]
     },
     "execution_count": 20,
     "metadata": {},
     "output_type": "execute_result"
    },
    {
     "data": {
      "image/png": "[encoded data removed]",
      "text/plain": [
       "<Figure size 640x480 with 2 Axes>"
      ]
     },
     "metadata": {},
     "output_type": "display_data"
    }
   ],
   "source": [
    "from sklearn.metrics import confusion_matrix,classification_report\n",
    "result = confusion_matrix(y_test,y_pred)\n",
    "print(result)"
   ]
  },
  {
   "cell_type": "code",
   "execution_count": 21,
   "id": "e7dd8488",
   "metadata": {},
   "outputs": [
    {
     "name": "stdout",
     "output_type": "stream",
     "text": [
      "              precision    recall  f1-score   support\n",
      "\n",
      "           0       0.75      0.80      0.78       151\n",
      "           1       0.57      0.50      0.53        80\n",
      "\n",
      "    accuracy                           0.70       231\n",
      "   macro avg       0.66      0.65      0.65       231\n",
      "weighted avg       0.69      0.70      0.69       231\n",
      "\n"
     ]
    }
   ],
   "source": [
    "print(classification_report(y_test,y_pred))"
   ]
  }
 ],
 "metadata": {
  "kernelspec": {
   "display_name": "Python 3 (ipykernel)",
   "language": "python",
   "name": "python3"
  },
  "language_info": {
   "codemirror_mode": {
    "name": "ipython",
    "version": 3
   },
   "file_extension": ".py",
   "mimetype": "text/x-python",
   "name": "python",
   "nbconvert_exporter": "python",
   "pygments_lexer": "ipython3",
   "version": "3.10.9"
  }
 },
 "nbformat": 4,
 "nbformat_minor": 5
}
