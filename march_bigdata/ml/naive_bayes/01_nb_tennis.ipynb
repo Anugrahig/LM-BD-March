{
 "cells": [
  {
   "cell_type": "code",
   "execution_count": 1,
   "id": "f606628f",
   "metadata": {},
   "outputs": [],
   "source": [
    "outlook=['sunny','sunny','overcast','rainy','rainy','rainy',\n",
    "         'overcast','sunny','sunny','rainy','sunny',\n",
    "         'overcast','overcast','rainy']\n",
    "temperature=['hot','hot','hot','mild','cool','cool','cool','mild',\n",
    "             'cool','mild','mild','mild','hot','mild']\n",
    "humidity=['high','high','high','high','normal','normal',\n",
    "          'normal','high','normal','normal','normal','high','normal','high']\n",
    "\n",
    "wind=['weak','strong','weak','weak','weak','strong','strong','weak',\n",
    "      'weak','weak','strong','strong','weak','strong']\n",
    "\n",
    "play=['no','no','yes','yes','yes','no','yes','no','yes','yes',\n",
    "      'yes','yes','yes','no']"
   ]
  },
  {
   "cell_type": "code",
   "execution_count": 2,
   "id": "bdcb34d0",
   "metadata": {},
   "outputs": [],
   "source": [
    "from sklearn.preprocessing import LabelEncoder"
   ]
  },
  {
   "cell_type": "code",
   "execution_count": 5,
   "id": "c2250840",
   "metadata": {},
   "outputs": [],
   "source": [
    "encoder=LabelEncoder()\n",
    "outlook_encoder=encoder.fit_transform(outlook)\n",
    "temperature_encoder=encoder.fit_transform(temperature)\n",
    "humidity_encoder=encoder.fit_transform(humidity)\n",
    "wind_encoder=encoder.fit_transform(wind)\n"
   ]
  },
  {
   "cell_type": "code",
   "execution_count": 6,
   "id": "e0f3b865",
   "metadata": {},
   "outputs": [
    {
     "name": "stdout",
     "output_type": "stream",
     "text": [
      "[2 2 0 1 1 1 0 2 2 1 2 0 0 1] [1 1 1 2 0 0 0 2 0 2 2 2 1 2] [0 0 0 0 1 1 1 0 1 1 1 0 1 0] [1 0 1 1 1 0 0 1 1 1 0 0 1 0]\n"
     ]
    }
   ],
   "source": [
    "print(outlook_encoder,temperature_encoder,humidity_encoder,wind_encoder)"
   ]
  },
  {
   "cell_type": "code",
   "execution_count": 7,
   "id": "3bf7aa50",
   "metadata": {},
   "outputs": [
    {
     "data": {
      "text/plain": [
       "[(2, 1, 0, 1),\n",
       " (2, 1, 0, 0),\n",
       " (0, 1, 0, 1),\n",
       " (1, 2, 0, 1),\n",
       " (1, 0, 1, 1),\n",
       " (1, 0, 1, 0),\n",
       " (0, 0, 1, 0),\n",
       " (2, 2, 0, 1),\n",
       " (2, 0, 1, 1),\n",
       " (1, 2, 1, 1),\n",
       " (2, 2, 1, 0),\n",
       " (0, 2, 0, 0),\n",
       " (0, 1, 1, 1),\n",
       " (1, 2, 0, 0)]"
      ]
     },
     "execution_count": 7,
     "metadata": {},
     "output_type": "execute_result"
    }
   ],
   "source": [
    "input_data=list(zip(outlook_encoder,temperature_encoder,humidity_encoder,wind_encoder))\n",
    "input_data"
   ]
  },
  {
   "cell_type": "markdown",
   "id": "d87e43f0",
   "metadata": {},
   "source": [
    "# Model Creation \n",
    "**Naive Bayes**\n",
    "- 3 types of classifer \n",
    "**Gaussian** \n",
    "**Multinomial**\n",
    "**Bernoulli**\n"
   ]
  },
  {
   "cell_type": "code",
   "execution_count": 8,
   "id": "a9f793ac",
   "metadata": {},
   "outputs": [],
   "source": [
    "from sklearn.naive_bayes import MultinomialNB"
   ]
  },
  {
   "cell_type": "code",
   "execution_count": 9,
   "id": "2600981d",
   "metadata": {},
   "outputs": [
    {
     "name": "stdout",
     "output_type": "stream",
     "text": [
      "['no']\n"
     ]
    }
   ],
   "source": [
    "mb=MultinomialNB()\n",
    "mb.fit(input_data,play)\n",
    "print(mb.predict([[2,0,0,0]]))"
   ]
  }
 ],
 "metadata": {
  "kernelspec": {
   "display_name": "Python 3 (ipykernel)",
   "language": "python",
   "name": "python3"
  },
  "language_info": {
   "codemirror_mode": {
    "name": "ipython",
    "version": 3
   },
   "file_extension": ".py",
   "mimetype": "text/x-python",
   "name": "python",
   "nbconvert_exporter": "python",
   "pygments_lexer": "ipython3",
   "version": "3.10.9"
  }
 },
 "nbformat": 4,
 "nbformat_minor": 5
}
