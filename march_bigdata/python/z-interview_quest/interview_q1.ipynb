{
 "cells": [
  {
   "cell_type": "code",
   "execution_count": 1,
   "id": "d2b43e28",
   "metadata": {},
   "outputs": [
    {
     "data": {
      "text/plain": [
       "\" Accept 2 String of different length and after that find the longest string and the increse the shortest string\\nto the size of longest by adding '0' to the shortest string\""
      ]
     },
     "execution_count": 1,
     "metadata": {},
     "output_type": "execute_result"
    }
   ],
   "source": [
    "\"\"\" Accept 2 String of different length and after that find the longest string and the increse the shortest string\n",
    "to the size of longest by adding '0' to the shortest string\"\"\""
   ]
  },
  {
   "cell_type": "code",
   "execution_count": 6,
   "id": "2b1e9582",
   "metadata": {},
   "outputs": [
    {
     "name": "stdout",
     "output_type": "stream",
     "text": [
      "Enter the String1:hai how are you\n",
      "Enter the String2:hai\n",
      "hai000000000000\n"
     ]
    }
   ],
   "source": [
    "str1=input(\"Enter the String1:\")\n",
    "str2=input(\"Enter the String2:\")\n",
    "len1=len(str1)\n",
    "len2=len(str2)\n",
    "last_string=\"\"\n",
    "space=0\n",
    "if len1<len2:\n",
    "    space=len2-len1\n",
    "elif len1>len2:\n",
    "    space=len1-len2\n",
    "else:\n",
    "    print(\"Both String are Equal Length\")\n",
    "add_string=\"0\"*space\n",
    "if len1<len2:\n",
    "    last_string=str1+add_string\n",
    "else:\n",
    "    last_string=str2+add_string\n",
    "print(last_string)\n",
    "    \n",
    "\n",
    "    "
   ]
  },
  {
   "cell_type": "code",
   "execution_count": 8,
   "id": "71e46444",
   "metadata": {},
   "outputs": [
    {
     "name": "stdout",
     "output_type": "stream",
     "text": [
      "haihaihaihaihaihaihaihaihaihai\n"
     ]
    }
   ],
   "source": [
    "print(\"hai\"*10)"
   ]
  },
  {
   "cell_type": "code",
   "execution_count": null,
   "id": "311016c0",
   "metadata": {},
   "outputs": [],
   "source": []
  }
 ],
 "metadata": {
  "kernelspec": {
   "display_name": "Python 3 (ipykernel)",
   "language": "python",
   "name": "python3"
  },
  "language_info": {
   "codemirror_mode": {
    "name": "ipython",
    "version": 3
   },
   "file_extension": ".py",
   "mimetype": "text/x-python",
   "name": "python",
   "nbconvert_exporter": "python",
   "pygments_lexer": "ipython3",
   "version": "3.10.9"
  }
 },
 "nbformat": 4,
 "nbformat_minor": 5
}
