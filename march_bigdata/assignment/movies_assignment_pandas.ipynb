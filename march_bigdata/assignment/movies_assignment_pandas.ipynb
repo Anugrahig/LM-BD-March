{
 "cells": [
  {
   "cell_type": "code",
   "execution_count": 1,
   "id": "6f955928",
   "metadata": {},
   "outputs": [],
   "source": [
    "import pandas as pd"
   ]
  },
  {
   "cell_type": "code",
   "execution_count": 31,
   "id": "e082a165",
   "metadata": {},
   "outputs": [
    {
     "data": {
      "text/html": [
       "<div>\n",
       "<style scoped>\n",
       "    .dataframe tbody tr th:only-of-type {\n",
       "        vertical-align: middle;\n",
       "    }\n",
       "\n",
       "    .dataframe tbody tr th {\n",
       "        vertical-align: top;\n",
       "    }\n",
       "\n",
       "    .dataframe thead th {\n",
       "        text-align: right;\n",
       "    }\n",
       "</style>\n",
       "<table border=\"1\" class=\"dataframe\">\n",
       "  <thead>\n",
       "    <tr style=\"text-align: right;\">\n",
       "      <th></th>\n",
       "      <th>id</th>\n",
       "      <th>name</th>\n",
       "      <th>year</th>\n",
       "      <th>rating</th>\n",
       "      <th>duration</th>\n",
       "    </tr>\n",
       "  </thead>\n",
       "  <tbody>\n",
       "    <tr>\n",
       "      <th>0</th>\n",
       "      <td>2</td>\n",
       "      <td>The Mummy</td>\n",
       "      <td>1932</td>\n",
       "      <td>3.5</td>\n",
       "      <td>4388.0</td>\n",
       "    </tr>\n",
       "    <tr>\n",
       "      <th>1</th>\n",
       "      <td>3</td>\n",
       "      <td>Orphans of the Storm</td>\n",
       "      <td>1921</td>\n",
       "      <td>3.2</td>\n",
       "      <td>9062.0</td>\n",
       "    </tr>\n",
       "    <tr>\n",
       "      <th>2</th>\n",
       "      <td>4</td>\n",
       "      <td>The Object of Beauty</td>\n",
       "      <td>1991</td>\n",
       "      <td>2.8</td>\n",
       "      <td>6150.0</td>\n",
       "    </tr>\n",
       "    <tr>\n",
       "      <th>3</th>\n",
       "      <td>5</td>\n",
       "      <td>Night Tide</td>\n",
       "      <td>1963</td>\n",
       "      <td>2.8</td>\n",
       "      <td>5126.0</td>\n",
       "    </tr>\n",
       "    <tr>\n",
       "      <th>4</th>\n",
       "      <td>6</td>\n",
       "      <td>One Magic Christmas</td>\n",
       "      <td>1985</td>\n",
       "      <td>3.8</td>\n",
       "      <td>5333.0</td>\n",
       "    </tr>\n",
       "  </tbody>\n",
       "</table>\n",
       "</div>"
      ],
      "text/plain": [
       "   id                  name  year  rating  duration\n",
       "0   2             The Mummy  1932     3.5    4388.0\n",
       "1   3  Orphans of the Storm  1921     3.2    9062.0\n",
       "2   4  The Object of Beauty  1991     2.8    6150.0\n",
       "3   5            Night Tide  1963     2.8    5126.0\n",
       "4   6   One Magic Christmas  1985     3.8    5333.0"
      ]
     },
     "execution_count": 31,
     "metadata": {},
     "output_type": "execute_result"
    }
   ],
   "source": [
    "df=pd.read_csv(\"../adv_python/pandas/Files/movies_cleaned_pandas.csv\",names=[\"id\",\"name\",\"year\",\"rating\",\"duration\"])\n",
    "df.head(5)"
   ]
  },
  {
   "cell_type": "markdown",
   "id": "bcebbdef",
   "metadata": {},
   "source": [
    "### 1. Find row count"
   ]
  },
  {
   "cell_type": "code",
   "execution_count": 3,
   "id": "44b2f66f",
   "metadata": {},
   "outputs": [
    {
     "data": {
      "text/plain": [
       "id          49589\n",
       "name        49589\n",
       "year        49589\n",
       "rating      49589\n",
       "duration    49589\n",
       "dtype: int64"
      ]
     },
     "execution_count": 3,
     "metadata": {},
     "output_type": "execute_result"
    }
   ],
   "source": [
    "df.count()"
   ]
  },
  {
   "cell_type": "markdown",
   "id": "419a0538",
   "metadata": {},
   "source": [
    "### 2. Remove duplicates and find row count"
   ]
  },
  {
   "cell_type": "code",
   "execution_count": 4,
   "id": "6f910293",
   "metadata": {},
   "outputs": [
    {
     "data": {
      "text/plain": [
       "(49589, 5)"
      ]
     },
     "execution_count": 4,
     "metadata": {},
     "output_type": "execute_result"
    }
   ],
   "source": [
    "df1=df.drop_duplicates()\n",
    "df1.shape"
   ]
  },
  {
   "cell_type": "markdown",
   "id": "9330d2ca",
   "metadata": {},
   "source": [
    "### 3. Sort data set by release year in des order"
   ]
  },
  {
   "cell_type": "code",
   "execution_count": 5,
   "id": "ba6d610d",
   "metadata": {},
   "outputs": [
    {
     "data": {
      "text/plain": [
       "49559    2014\n",
       "43333    2013\n",
       "45388    2013\n",
       "45386    2013\n",
       "45385    2013\n",
       "         ... \n",
       "608      1914\n",
       "20056    1914\n",
       "14326    1913\n",
       "42663    1913\n",
       "42669    1913\n",
       "Name: year, Length: 49589, dtype: int64"
      ]
     },
     "execution_count": 5,
     "metadata": {},
     "output_type": "execute_result"
    }
   ],
   "source": [
    "df1=df.sort_values(\"year\",ascending=False)[\"year\"]\n",
    "df1"
   ]
  },
  {
   "cell_type": "markdown",
   "id": "fcad52f8",
   "metadata": {},
   "source": [
    "### 4. Find rating mxm 5 movies name,year,rating"
   ]
  },
  {
   "cell_type": "code",
   "execution_count": 33,
   "id": "d54093f1",
   "metadata": {},
   "outputs": [
    {
     "data": {
      "text/html": [
       "<div>\n",
       "<style scoped>\n",
       "    .dataframe tbody tr th:only-of-type {\n",
       "        vertical-align: middle;\n",
       "    }\n",
       "\n",
       "    .dataframe tbody tr th {\n",
       "        vertical-align: top;\n",
       "    }\n",
       "\n",
       "    .dataframe thead th {\n",
       "        text-align: right;\n",
       "    }\n",
       "</style>\n",
       "<table border=\"1\" class=\"dataframe\">\n",
       "  <thead>\n",
       "    <tr style=\"text-align: right;\">\n",
       "      <th></th>\n",
       "      <th>name</th>\n",
       "      <th>year</th>\n",
       "      <th>rating</th>\n",
       "    </tr>\n",
       "  </thead>\n",
       "  <tbody>\n",
       "    <tr>\n",
       "      <th>19398</th>\n",
       "      <td>The Walking Dead: Season 2</td>\n",
       "      <td>2011</td>\n",
       "      <td>4.5</td>\n",
       "    </tr>\n",
       "    <tr>\n",
       "      <th>33521</th>\n",
       "      <td>Sherlock: Series 2</td>\n",
       "      <td>2012</td>\n",
       "      <td>4.5</td>\n",
       "    </tr>\n",
       "    <tr>\n",
       "      <th>13313</th>\n",
       "      <td>Breaking Bad</td>\n",
       "      <td>2008</td>\n",
       "      <td>4.5</td>\n",
       "    </tr>\n",
       "    <tr>\n",
       "      <th>44096</th>\n",
       "      <td>Arrested Development (Trailer)</td>\n",
       "      <td>2013</td>\n",
       "      <td>4.5</td>\n",
       "    </tr>\n",
       "    <tr>\n",
       "      <th>36257</th>\n",
       "      <td>Breaking Bad: Season 5</td>\n",
       "      <td>2012</td>\n",
       "      <td>4.5</td>\n",
       "    </tr>\n",
       "  </tbody>\n",
       "</table>\n",
       "</div>"
      ],
      "text/plain": [
       "                                 name  year  rating\n",
       "19398      The Walking Dead: Season 2  2011     4.5\n",
       "33521              Sherlock: Series 2  2012     4.5\n",
       "13313                    Breaking Bad  2008     4.5\n",
       "44096  Arrested Development (Trailer)  2013     4.5\n",
       "36257          Breaking Bad: Season 5  2012     4.5"
      ]
     },
     "execution_count": 33,
     "metadata": {},
     "output_type": "execute_result"
    }
   ],
   "source": [
    "df1=df.sort_values(by=\"rating\",ascending=False)[[\"name\",\"year\",\"rating\"]].head(5)\n",
    "df1"
   ]
  },
  {
   "cell_type": "markdown",
   "id": "f7160478",
   "metadata": {},
   "source": [
    "### 5. Find rating minimum 3 movies name,year,rtaing"
   ]
  },
  {
   "cell_type": "code",
   "execution_count": 34,
   "id": "92897149",
   "metadata": {},
   "outputs": [
    {
     "data": {
      "text/html": [
       "<div>\n",
       "<style scoped>\n",
       "    .dataframe tbody tr th:only-of-type {\n",
       "        vertical-align: middle;\n",
       "    }\n",
       "\n",
       "    .dataframe tbody tr th {\n",
       "        vertical-align: top;\n",
       "    }\n",
       "\n",
       "    .dataframe thead th {\n",
       "        text-align: right;\n",
       "    }\n",
       "</style>\n",
       "<table border=\"1\" class=\"dataframe\">\n",
       "  <thead>\n",
       "    <tr style=\"text-align: right;\">\n",
       "      <th></th>\n",
       "      <th>name</th>\n",
       "      <th>year</th>\n",
       "      <th>rating</th>\n",
       "    </tr>\n",
       "  </thead>\n",
       "  <tbody>\n",
       "    <tr>\n",
       "      <th>42159</th>\n",
       "      <td>Sun Yaar Chill Maar</td>\n",
       "      <td>2007</td>\n",
       "      <td>1.4</td>\n",
       "    </tr>\n",
       "    <tr>\n",
       "      <th>40933</th>\n",
       "      <td>Lagegi</td>\n",
       "      <td>2007</td>\n",
       "      <td>1.4</td>\n",
       "    </tr>\n",
       "    <tr>\n",
       "      <th>40825</th>\n",
       "      <td>Lagegi</td>\n",
       "      <td>2007</td>\n",
       "      <td>1.4</td>\n",
       "    </tr>\n",
       "  </tbody>\n",
       "</table>\n",
       "</div>"
      ],
      "text/plain": [
       "                      name  year  rating\n",
       "42159  Sun Yaar Chill Maar  2007     1.4\n",
       "40933               Lagegi  2007     1.4\n",
       "40825               Lagegi  2007     1.4"
      ]
     },
     "execution_count": 34,
     "metadata": {},
     "output_type": "execute_result"
    }
   ],
   "source": [
    "df1=df.sort_values(by=\"rating\")[[\"name\",\"year\",\"rating\"]].head(3)\n",
    "\n",
    "df1"
   ]
  },
  {
   "cell_type": "markdown",
   "id": "b6931da4",
   "metadata": {},
   "source": [
    "### 6. Find Each year release movie count [count desc order]"
   ]
  },
  {
   "cell_type": "code",
   "execution_count": 8,
   "id": "8b195a0f",
   "metadata": {},
   "outputs": [
    {
     "data": {
      "text/plain": [
       "year\n",
       "2011    5511\n",
       "2010    5107\n",
       "2009    4451\n",
       "2012    4339\n",
       "2008    3358\n",
       "        ... \n",
       "1921       2\n",
       "1918       1\n",
       "1916       1\n",
       "1915       1\n",
       "2014       1\n",
       "Name: year, Length: 101, dtype: int64"
      ]
     },
     "execution_count": 8,
     "metadata": {},
     "output_type": "execute_result"
    }
   ],
   "source": [
    "df1=df.groupby(\"year\")[\"year\"].count().sort_values(ascending=False)\n",
    "df1"
   ]
  },
  {
   "cell_type": "markdown",
   "id": "e90b4562",
   "metadata": {},
   "source": [
    "### 7. Each rating count [count desc order]"
   ]
  },
  {
   "cell_type": "code",
   "execution_count": 35,
   "id": "01c8c839",
   "metadata": {},
   "outputs": [
    {
     "data": {
      "text/plain": [
       "rating\n",
       "3.451207    38776\n",
       "3.700000     1058\n",
       "3.600000      967\n",
       "3.800000      962\n",
       "3.900000      859\n",
       "Name: rating, dtype: int64"
      ]
     },
     "execution_count": 35,
     "metadata": {},
     "output_type": "execute_result"
    }
   ],
   "source": [
    "df1=df.groupby(\"rating\")[\"rating\"].count().sort_values(ascending=False)\n",
    "df1.head()"
   ]
  },
  {
   "cell_type": "markdown",
   "id": "1decaf06",
   "metadata": {},
   "source": [
    "### 8. 2008 and rating above 3 [collect]"
   ]
  },
  {
   "cell_type": "code",
   "execution_count": 10,
   "id": "684526cb",
   "metadata": {},
   "outputs": [
    {
     "data": {
      "text/html": [
       "<div>\n",
       "<style scoped>\n",
       "    .dataframe tbody tr th:only-of-type {\n",
       "        vertical-align: middle;\n",
       "    }\n",
       "\n",
       "    .dataframe tbody tr th {\n",
       "        vertical-align: top;\n",
       "    }\n",
       "\n",
       "    .dataframe thead th {\n",
       "        text-align: right;\n",
       "    }\n",
       "</style>\n",
       "<table border=\"1\" class=\"dataframe\">\n",
       "  <thead>\n",
       "    <tr style=\"text-align: right;\">\n",
       "      <th></th>\n",
       "      <th>id</th>\n",
       "      <th>name</th>\n",
       "      <th>year</th>\n",
       "      <th>rating</th>\n",
       "      <th>duration</th>\n",
       "    </tr>\n",
       "  </thead>\n",
       "  <tbody>\n",
       "    <tr>\n",
       "      <th>3187</th>\n",
       "      <td>3189</td>\n",
       "      <td>Elegy</td>\n",
       "      <td>2008</td>\n",
       "      <td>3.3</td>\n",
       "      <td>6727.0</td>\n",
       "    </tr>\n",
       "    <tr>\n",
       "      <th>3400</th>\n",
       "      <td>3402</td>\n",
       "      <td>Lipstick Jungle: Season 1</td>\n",
       "      <td>2008</td>\n",
       "      <td>3.1</td>\n",
       "      <td>2563.0</td>\n",
       "    </tr>\n",
       "    <tr>\n",
       "      <th>4000</th>\n",
       "      <td>4002</td>\n",
       "      <td>The Business of Being Born</td>\n",
       "      <td>2008</td>\n",
       "      <td>3.9</td>\n",
       "      <td>5089.0</td>\n",
       "    </tr>\n",
       "    <tr>\n",
       "      <th>4007</th>\n",
       "      <td>4009</td>\n",
       "      <td>Pirates Who Don't Do Anything: A VeggieTales M...</td>\n",
       "      <td>2008</td>\n",
       "      <td>3.7</td>\n",
       "      <td>5123.0</td>\n",
       "    </tr>\n",
       "    <tr>\n",
       "      <th>4015</th>\n",
       "      <td>4017</td>\n",
       "      <td>The Tale of Despereaux</td>\n",
       "      <td>2008</td>\n",
       "      <td>3.5</td>\n",
       "      <td>5607.0</td>\n",
       "    </tr>\n",
       "  </tbody>\n",
       "</table>\n",
       "</div>"
      ],
      "text/plain": [
       "        id                                               name  year  rating  \\\n",
       "3187  3189                                              Elegy  2008     3.3   \n",
       "3400  3402                          Lipstick Jungle: Season 1  2008     3.1   \n",
       "4000  4002                         The Business of Being Born  2008     3.9   \n",
       "4007  4009  Pirates Who Don't Do Anything: A VeggieTales M...  2008     3.7   \n",
       "4015  4017                             The Tale of Despereaux  2008     3.5   \n",
       "\n",
       "      duration  \n",
       "3187    6727.0  \n",
       "3400    2563.0  \n",
       "4000    5089.0  \n",
       "4007    5123.0  \n",
       "4015    5607.0  "
      ]
     },
     "execution_count": 10,
     "metadata": {},
     "output_type": "execute_result"
    }
   ],
   "source": [
    "df1=df.loc[(df[\"rating\"]>3)&(df[\"year\"]==2008)]\n",
    "df1.head(5)"
   ]
  },
  {
   "cell_type": "markdown",
   "id": "3123131b",
   "metadata": {},
   "source": [
    "###### A. row count"
   ]
  },
  {
   "cell_type": "code",
   "execution_count": 11,
   "id": "9abab58f",
   "metadata": {},
   "outputs": [
    {
     "data": {
      "text/plain": [
       "id          3254\n",
       "name        3254\n",
       "year        3254\n",
       "rating      3254\n",
       "duration    3254\n",
       "dtype: int64"
      ]
     },
     "execution_count": 11,
     "metadata": {},
     "output_type": "execute_result"
    }
   ],
   "source": [
    "df1.count()"
   ]
  },
  {
   "cell_type": "markdown",
   "id": "9fa78a8e",
   "metadata": {},
   "source": [
    "### 9. Find duration mxm 1 movies name,year,rating,duration"
   ]
  },
  {
   "cell_type": "code",
   "execution_count": 36,
   "id": "73293bc4",
   "metadata": {},
   "outputs": [
    {
     "data": {
      "text/html": [
       "<div>\n",
       "<style scoped>\n",
       "    .dataframe tbody tr th:only-of-type {\n",
       "        vertical-align: middle;\n",
       "    }\n",
       "\n",
       "    .dataframe tbody tr th {\n",
       "        vertical-align: top;\n",
       "    }\n",
       "\n",
       "    .dataframe thead th {\n",
       "        text-align: right;\n",
       "    }\n",
       "</style>\n",
       "<table border=\"1\" class=\"dataframe\">\n",
       "  <thead>\n",
       "    <tr style=\"text-align: right;\">\n",
       "      <th></th>\n",
       "      <th>name</th>\n",
       "      <th>year</th>\n",
       "      <th>rating</th>\n",
       "      <th>duration</th>\n",
       "    </tr>\n",
       "  </thead>\n",
       "  <tbody>\n",
       "    <tr>\n",
       "      <th>22215</th>\n",
       "      <td>Example 8 Hour 23.976 Remote Content</td>\n",
       "      <td>2010</td>\n",
       "      <td>3.0</td>\n",
       "      <td>28813.0</td>\n",
       "    </tr>\n",
       "  </tbody>\n",
       "</table>\n",
       "</div>"
      ],
      "text/plain": [
       "                                       name  year  rating  duration\n",
       "22215  Example 8 Hour 23.976 Remote Content  2010     3.0   28813.0"
      ]
     },
     "execution_count": 36,
     "metadata": {},
     "output_type": "execute_result"
    }
   ],
   "source": [
    "df1=df.sort_values(by=\"duration\",ascending=False)[[\"name\",\"year\",\"rating\",\"duration\"]].head(1)\n",
    "df1"
   ]
  },
  {
   "cell_type": "markdown",
   "id": "6c24bc7f",
   "metadata": {},
   "source": [
    "### 10. Find rating mnm 1 movies name,year,rating,duration"
   ]
  },
  {
   "cell_type": "code",
   "execution_count": 37,
   "id": "54b2f782",
   "metadata": {},
   "outputs": [
    {
     "data": {
      "text/html": [
       "<div>\n",
       "<style scoped>\n",
       "    .dataframe tbody tr th:only-of-type {\n",
       "        vertical-align: middle;\n",
       "    }\n",
       "\n",
       "    .dataframe tbody tr th {\n",
       "        vertical-align: top;\n",
       "    }\n",
       "\n",
       "    .dataframe thead th {\n",
       "        text-align: right;\n",
       "    }\n",
       "</style>\n",
       "<table border=\"1\" class=\"dataframe\">\n",
       "  <thead>\n",
       "    <tr style=\"text-align: right;\">\n",
       "      <th></th>\n",
       "      <th>name</th>\n",
       "      <th>year</th>\n",
       "      <th>rating</th>\n",
       "      <th>duration</th>\n",
       "    </tr>\n",
       "  </thead>\n",
       "  <tbody>\n",
       "    <tr>\n",
       "      <th>42159</th>\n",
       "      <td>Sun Yaar Chill Maar</td>\n",
       "      <td>2007</td>\n",
       "      <td>1.4</td>\n",
       "      <td>2563.0</td>\n",
       "    </tr>\n",
       "  </tbody>\n",
       "</table>\n",
       "</div>"
      ],
      "text/plain": [
       "                      name  year  rating  duration\n",
       "42159  Sun Yaar Chill Maar  2007     1.4    2563.0"
      ]
     },
     "execution_count": 37,
     "metadata": {},
     "output_type": "execute_result"
    }
   ],
   "source": [
    "df1=df.sort_values(by=\"rating\")[[\"name\",\"year\",\"rating\",\"duration\"]].head(1)\n",
    "df1"
   ]
  },
  {
   "cell_type": "markdown",
   "id": "2e2e2391",
   "metadata": {},
   "source": [
    "### 11. Rating above 4 and relase year above 2005"
   ]
  },
  {
   "cell_type": "code",
   "execution_count": 44,
   "id": "5b0775f4",
   "metadata": {},
   "outputs": [
    {
     "data": {
      "text/html": [
       "<div>\n",
       "<style scoped>\n",
       "    .dataframe tbody tr th:only-of-type {\n",
       "        vertical-align: middle;\n",
       "    }\n",
       "\n",
       "    .dataframe tbody tr th {\n",
       "        vertical-align: top;\n",
       "    }\n",
       "\n",
       "    .dataframe thead th {\n",
       "        text-align: right;\n",
       "    }\n",
       "</style>\n",
       "<table border=\"1\" class=\"dataframe\">\n",
       "  <thead>\n",
       "    <tr style=\"text-align: right;\">\n",
       "      <th></th>\n",
       "      <th>id</th>\n",
       "      <th>name</th>\n",
       "      <th>year</th>\n",
       "      <th>rating</th>\n",
       "      <th>duration</th>\n",
       "    </tr>\n",
       "  </thead>\n",
       "  <tbody>\n",
       "    <tr>\n",
       "      <th>2503</th>\n",
       "      <td>2505</td>\n",
       "      <td>Rang De Basanti</td>\n",
       "      <td>2006</td>\n",
       "      <td>4.1</td>\n",
       "      <td>9999.0</td>\n",
       "    </tr>\n",
       "    <tr>\n",
       "      <th>2605</th>\n",
       "      <td>2607</td>\n",
       "      <td>Freedom Writers</td>\n",
       "      <td>2007</td>\n",
       "      <td>4.1</td>\n",
       "      <td>7375.0</td>\n",
       "    </tr>\n",
       "    <tr>\n",
       "      <th>2656</th>\n",
       "      <td>2658</td>\n",
       "      <td>How I Met Your Mother: Season 2</td>\n",
       "      <td>2006</td>\n",
       "      <td>4.2</td>\n",
       "      <td>2563.0</td>\n",
       "    </tr>\n",
       "    <tr>\n",
       "      <th>2660</th>\n",
       "      <td>2662</td>\n",
       "      <td>Prison Break: Season 2</td>\n",
       "      <td>2006</td>\n",
       "      <td>4.2</td>\n",
       "      <td>2563.0</td>\n",
       "    </tr>\n",
       "    <tr>\n",
       "      <th>2661</th>\n",
       "      <td>2663</td>\n",
       "      <td>Bones: Season 2</td>\n",
       "      <td>2006</td>\n",
       "      <td>4.1</td>\n",
       "      <td>2563.0</td>\n",
       "    </tr>\n",
       "    <tr>\n",
       "      <th>...</th>\n",
       "      <td>...</td>\n",
       "      <td>...</td>\n",
       "      <td>...</td>\n",
       "      <td>...</td>\n",
       "      <td>...</td>\n",
       "    </tr>\n",
       "    <tr>\n",
       "      <th>49547</th>\n",
       "      <td>49549</td>\n",
       "      <td>Life With Boys: Season 1</td>\n",
       "      <td>2011</td>\n",
       "      <td>4.1</td>\n",
       "      <td>2563.0</td>\n",
       "    </tr>\n",
       "    <tr>\n",
       "      <th>49552</th>\n",
       "      <td>49554</td>\n",
       "      <td>Max Steel</td>\n",
       "      <td>2013</td>\n",
       "      <td>4.1</td>\n",
       "      <td>2563.0</td>\n",
       "    </tr>\n",
       "    <tr>\n",
       "      <th>49554</th>\n",
       "      <td>49556</td>\n",
       "      <td>Lilyhammer: Season 1 (Recap)</td>\n",
       "      <td>2013</td>\n",
       "      <td>4.2</td>\n",
       "      <td>194.0</td>\n",
       "    </tr>\n",
       "    <tr>\n",
       "      <th>49569</th>\n",
       "      <td>49571</td>\n",
       "      <td>The Short Game (Trailer)</td>\n",
       "      <td>2013</td>\n",
       "      <td>4.1</td>\n",
       "      <td>156.0</td>\n",
       "    </tr>\n",
       "    <tr>\n",
       "      <th>49577</th>\n",
       "      <td>49579</td>\n",
       "      <td>Transformers Prime Beast Hunters: Predacons Ri...</td>\n",
       "      <td>2013</td>\n",
       "      <td>4.2</td>\n",
       "      <td>3950.0</td>\n",
       "    </tr>\n",
       "  </tbody>\n",
       "</table>\n",
       "<p>732 rows × 5 columns</p>\n",
       "</div>"
      ],
      "text/plain": [
       "          id                                               name  year  rating  \\\n",
       "2503    2505                                    Rang De Basanti  2006     4.1   \n",
       "2605    2607                                    Freedom Writers  2007     4.1   \n",
       "2656    2658                    How I Met Your Mother: Season 2  2006     4.2   \n",
       "2660    2662                             Prison Break: Season 2  2006     4.2   \n",
       "2661    2663                                    Bones: Season 2  2006     4.1   \n",
       "...      ...                                                ...   ...     ...   \n",
       "49547  49549                           Life With Boys: Season 1  2011     4.1   \n",
       "49552  49554                                          Max Steel  2013     4.1   \n",
       "49554  49556                       Lilyhammer: Season 1 (Recap)  2013     4.2   \n",
       "49569  49571                           The Short Game (Trailer)  2013     4.1   \n",
       "49577  49579  Transformers Prime Beast Hunters: Predacons Ri...  2013     4.2   \n",
       "\n",
       "       duration  \n",
       "2503     9999.0  \n",
       "2605     7375.0  \n",
       "2656     2563.0  \n",
       "2660     2563.0  \n",
       "2661     2563.0  \n",
       "...         ...  \n",
       "49547    2563.0  \n",
       "49552    2563.0  \n",
       "49554     194.0  \n",
       "49569     156.0  \n",
       "49577    3950.0  \n",
       "\n",
       "[732 rows x 5 columns]"
      ]
     },
     "execution_count": 44,
     "metadata": {},
     "output_type": "execute_result"
    }
   ],
   "source": [
    "df1=df.loc[(df[\"rating\"]>4)&(df[\"year\"]>2005)]\n",
    "df1"
   ]
  },
  {
   "cell_type": "markdown",
   "id": "fa38bc05",
   "metadata": {},
   "source": [
    "###### A. Rating mxm movies full data"
   ]
  },
  {
   "cell_type": "code",
   "execution_count": 45,
   "id": "0ed771ce",
   "metadata": {},
   "outputs": [
    {
     "data": {
      "text/html": [
       "<div>\n",
       "<style scoped>\n",
       "    .dataframe tbody tr th:only-of-type {\n",
       "        vertical-align: middle;\n",
       "    }\n",
       "\n",
       "    .dataframe tbody tr th {\n",
       "        vertical-align: top;\n",
       "    }\n",
       "\n",
       "    .dataframe thead th {\n",
       "        text-align: right;\n",
       "    }\n",
       "</style>\n",
       "<table border=\"1\" class=\"dataframe\">\n",
       "  <thead>\n",
       "    <tr style=\"text-align: right;\">\n",
       "      <th></th>\n",
       "      <th>id</th>\n",
       "      <th>name</th>\n",
       "      <th>year</th>\n",
       "      <th>rating</th>\n",
       "      <th>duration</th>\n",
       "    </tr>\n",
       "  </thead>\n",
       "  <tbody>\n",
       "    <tr>\n",
       "      <th>14953</th>\n",
       "      <td>14955</td>\n",
       "      <td>Breaking Bad: Season 4</td>\n",
       "      <td>2011</td>\n",
       "      <td>4.5</td>\n",
       "      <td>2563.0</td>\n",
       "    </tr>\n",
       "  </tbody>\n",
       "</table>\n",
       "</div>"
      ],
      "text/plain": [
       "          id                    name  year  rating  duration\n",
       "14953  14955  Breaking Bad: Season 4  2011     4.5    2563.0"
      ]
     },
     "execution_count": 45,
     "metadata": {},
     "output_type": "execute_result"
    }
   ],
   "source": [
    "df2=df1.sort_values(by=\"rating\",ascending=False).head(1)\n",
    "df2"
   ]
  },
  {
   "cell_type": "markdown",
   "id": "846a3e58",
   "metadata": {},
   "source": [
    "###### B. Rating mnm movies full data`"
   ]
  },
  {
   "cell_type": "code",
   "execution_count": 46,
   "id": "24076c55",
   "metadata": {},
   "outputs": [
    {
     "data": {
      "text/html": [
       "<div>\n",
       "<style scoped>\n",
       "    .dataframe tbody tr th:only-of-type {\n",
       "        vertical-align: middle;\n",
       "    }\n",
       "\n",
       "    .dataframe tbody tr th {\n",
       "        vertical-align: top;\n",
       "    }\n",
       "\n",
       "    .dataframe thead th {\n",
       "        text-align: right;\n",
       "    }\n",
       "</style>\n",
       "<table border=\"1\" class=\"dataframe\">\n",
       "  <thead>\n",
       "    <tr style=\"text-align: right;\">\n",
       "      <th></th>\n",
       "      <th>id</th>\n",
       "      <th>name</th>\n",
       "      <th>year</th>\n",
       "      <th>rating</th>\n",
       "      <th>duration</th>\n",
       "    </tr>\n",
       "  </thead>\n",
       "  <tbody>\n",
       "    <tr>\n",
       "      <th>2503</th>\n",
       "      <td>2505</td>\n",
       "      <td>Rang De Basanti</td>\n",
       "      <td>2006</td>\n",
       "      <td>4.1</td>\n",
       "      <td>9999.0</td>\n",
       "    </tr>\n",
       "  </tbody>\n",
       "</table>\n",
       "</div>"
      ],
      "text/plain": [
       "        id             name  year  rating  duration\n",
       "2503  2505  Rang De Basanti  2006     4.1    9999.0"
      ]
     },
     "execution_count": 46,
     "metadata": {},
     "output_type": "execute_result"
    }
   ],
   "source": [
    "df2=df1.sort_values(by=\"rating\").head(1)\n",
    "df2"
   ]
  },
  {
   "cell_type": "markdown",
   "id": "5a499395",
   "metadata": {},
   "source": [
    "### 12. 2008 movies count"
   ]
  },
  {
   "cell_type": "code",
   "execution_count": 22,
   "id": "d09110bf",
   "metadata": {},
   "outputs": [
    {
     "data": {
      "text/plain": [
       "id          3358\n",
       "name        3358\n",
       "year        3358\n",
       "rating      3358\n",
       "duration    3358\n",
       "dtype: int64"
      ]
     },
     "execution_count": 22,
     "metadata": {},
     "output_type": "execute_result"
    }
   ],
   "source": [
    "df1=df.loc[df[\"year\"]==2008]\n",
    "df1.count()"
   ]
  },
  {
   "cell_type": "markdown",
   "id": "9eb0f993",
   "metadata": {},
   "source": [
    "### 13. 1975-2000 movies collect"
   ]
  },
  {
   "cell_type": "code",
   "execution_count": 24,
   "id": "cc57fa32",
   "metadata": {},
   "outputs": [
    {
     "data": {
      "text/html": [
       "<div>\n",
       "<style scoped>\n",
       "    .dataframe tbody tr th:only-of-type {\n",
       "        vertical-align: middle;\n",
       "    }\n",
       "\n",
       "    .dataframe tbody tr th {\n",
       "        vertical-align: top;\n",
       "    }\n",
       "\n",
       "    .dataframe thead th {\n",
       "        text-align: right;\n",
       "    }\n",
       "</style>\n",
       "<table border=\"1\" class=\"dataframe\">\n",
       "  <thead>\n",
       "    <tr style=\"text-align: right;\">\n",
       "      <th></th>\n",
       "      <th>id</th>\n",
       "      <th>name</th>\n",
       "      <th>year</th>\n",
       "      <th>rating</th>\n",
       "      <th>duration</th>\n",
       "    </tr>\n",
       "  </thead>\n",
       "  <tbody>\n",
       "    <tr>\n",
       "      <th>2</th>\n",
       "      <td>4</td>\n",
       "      <td>The Object of Beauty</td>\n",
       "      <td>1991</td>\n",
       "      <td>2.800000</td>\n",
       "      <td>6150.0</td>\n",
       "    </tr>\n",
       "    <tr>\n",
       "      <th>4</th>\n",
       "      <td>6</td>\n",
       "      <td>One Magic Christmas</td>\n",
       "      <td>1985</td>\n",
       "      <td>3.800000</td>\n",
       "      <td>5333.0</td>\n",
       "    </tr>\n",
       "    <tr>\n",
       "      <th>5</th>\n",
       "      <td>7</td>\n",
       "      <td>Muriel's Wedding</td>\n",
       "      <td>1994</td>\n",
       "      <td>3.500000</td>\n",
       "      <td>6323.0</td>\n",
       "    </tr>\n",
       "    <tr>\n",
       "      <th>6</th>\n",
       "      <td>8</td>\n",
       "      <td>Mother's Boys</td>\n",
       "      <td>1994</td>\n",
       "      <td>3.400000</td>\n",
       "      <td>5733.0</td>\n",
       "    </tr>\n",
       "    <tr>\n",
       "      <th>8</th>\n",
       "      <td>10</td>\n",
       "      <td>Nick of Time</td>\n",
       "      <td>1995</td>\n",
       "      <td>3.400000</td>\n",
       "      <td>5333.0</td>\n",
       "    </tr>\n",
       "    <tr>\n",
       "      <th>...</th>\n",
       "      <td>...</td>\n",
       "      <td>...</td>\n",
       "      <td>...</td>\n",
       "      <td>...</td>\n",
       "      <td>...</td>\n",
       "    </tr>\n",
       "    <tr>\n",
       "      <th>47458</th>\n",
       "      <td>47460</td>\n",
       "      <td>Goosebumps: Specials: The Haunted Mask II - Pa...</td>\n",
       "      <td>1997</td>\n",
       "      <td>3.451207</td>\n",
       "      <td>1496.0</td>\n",
       "    </tr>\n",
       "    <tr>\n",
       "      <th>47460</th>\n",
       "      <td>47462</td>\n",
       "      <td>Goosebumps: Specials: The Night of the Living ...</td>\n",
       "      <td>1997</td>\n",
       "      <td>3.451207</td>\n",
       "      <td>1461.0</td>\n",
       "    </tr>\n",
       "    <tr>\n",
       "      <th>47463</th>\n",
       "      <td>47465</td>\n",
       "      <td>Goosebumps: Specials: The Haunted Mask II - Pa...</td>\n",
       "      <td>1997</td>\n",
       "      <td>3.451207</td>\n",
       "      <td>1379.0</td>\n",
       "    </tr>\n",
       "    <tr>\n",
       "      <th>48866</th>\n",
       "      <td>48868</td>\n",
       "      <td>The Phoenix and the Magic Carpet</td>\n",
       "      <td>1995</td>\n",
       "      <td>2.500000</td>\n",
       "      <td>5337.0</td>\n",
       "    </tr>\n",
       "    <tr>\n",
       "      <th>49580</th>\n",
       "      <td>49582</td>\n",
       "      <td>Mumfie's White Christmas</td>\n",
       "      <td>1996</td>\n",
       "      <td>2.400000</td>\n",
       "      <td>1350.0</td>\n",
       "    </tr>\n",
       "  </tbody>\n",
       "</table>\n",
       "<p>10747 rows × 5 columns</p>\n",
       "</div>"
      ],
      "text/plain": [
       "          id                                               name  year  \\\n",
       "2          4                               The Object of Beauty  1991   \n",
       "4          6                                One Magic Christmas  1985   \n",
       "5          7                                   Muriel's Wedding  1994   \n",
       "6          8                                      Mother's Boys  1994   \n",
       "8         10                                       Nick of Time  1995   \n",
       "...      ...                                                ...   ...   \n",
       "47458  47460  Goosebumps: Specials: The Haunted Mask II - Pa...  1997   \n",
       "47460  47462  Goosebumps: Specials: The Night of the Living ...  1997   \n",
       "47463  47465  Goosebumps: Specials: The Haunted Mask II - Pa...  1997   \n",
       "48866  48868                   The Phoenix and the Magic Carpet  1995   \n",
       "49580  49582                           Mumfie's White Christmas  1996   \n",
       "\n",
       "         rating  duration  \n",
       "2      2.800000    6150.0  \n",
       "4      3.800000    5333.0  \n",
       "5      3.500000    6323.0  \n",
       "6      3.400000    5733.0  \n",
       "8      3.400000    5333.0  \n",
       "...         ...       ...  \n",
       "47458  3.451207    1496.0  \n",
       "47460  3.451207    1461.0  \n",
       "47463  3.451207    1379.0  \n",
       "48866  2.500000    5337.0  \n",
       "49580  2.400000    1350.0  \n",
       "\n",
       "[10747 rows x 5 columns]"
      ]
     },
     "execution_count": 24,
     "metadata": {},
     "output_type": "execute_result"
    }
   ],
   "source": [
    "df1=df.loc[(df[\"year\"]>=1975)&(df[\"year\"]<=2000)]\n",
    "df1"
   ]
  },
  {
   "cell_type": "markdown",
   "id": "dbbd6c94",
   "metadata": {},
   "source": [
    "###### A. Row count"
   ]
  },
  {
   "cell_type": "code",
   "execution_count": 25,
   "id": "09566b0e",
   "metadata": {},
   "outputs": [
    {
     "data": {
      "text/plain": [
       "id          10747\n",
       "name        10747\n",
       "year        10747\n",
       "rating      10747\n",
       "duration    10747\n",
       "dtype: int64"
      ]
     },
     "execution_count": 25,
     "metadata": {},
     "output_type": "execute_result"
    }
   ],
   "source": [
    "df1.count()"
   ]
  },
  {
   "cell_type": "markdown",
   "id": "c1ec1e85",
   "metadata": {},
   "source": [
    "### 14. 1975-2000 and rating above 3.5 total row count"
   ]
  },
  {
   "cell_type": "code",
   "execution_count": 28,
   "id": "6cc0a0e1",
   "metadata": {},
   "outputs": [
    {
     "data": {
      "text/html": [
       "<div>\n",
       "<style scoped>\n",
       "    .dataframe tbody tr th:only-of-type {\n",
       "        vertical-align: middle;\n",
       "    }\n",
       "\n",
       "    .dataframe tbody tr th {\n",
       "        vertical-align: top;\n",
       "    }\n",
       "\n",
       "    .dataframe thead th {\n",
       "        text-align: right;\n",
       "    }\n",
       "</style>\n",
       "<table border=\"1\" class=\"dataframe\">\n",
       "  <thead>\n",
       "    <tr style=\"text-align: right;\">\n",
       "      <th></th>\n",
       "      <th>id</th>\n",
       "      <th>name</th>\n",
       "      <th>year</th>\n",
       "      <th>rating</th>\n",
       "      <th>duration</th>\n",
       "    </tr>\n",
       "  </thead>\n",
       "  <tbody>\n",
       "    <tr>\n",
       "      <th>4</th>\n",
       "      <td>6</td>\n",
       "      <td>One Magic Christmas</td>\n",
       "      <td>1985</td>\n",
       "      <td>3.8</td>\n",
       "      <td>5333.0</td>\n",
       "    </tr>\n",
       "    <tr>\n",
       "      <th>10</th>\n",
       "      <td>12</td>\n",
       "      <td>Big Night</td>\n",
       "      <td>1996</td>\n",
       "      <td>3.6</td>\n",
       "      <td>6561.0</td>\n",
       "    </tr>\n",
       "    <tr>\n",
       "      <th>12</th>\n",
       "      <td>14</td>\n",
       "      <td>The Boys from Brazil</td>\n",
       "      <td>1978</td>\n",
       "      <td>3.6</td>\n",
       "      <td>7417.0</td>\n",
       "    </tr>\n",
       "    <tr>\n",
       "      <th>14</th>\n",
       "      <td>16</td>\n",
       "      <td>The Breakfast Club</td>\n",
       "      <td>1985</td>\n",
       "      <td>4.0</td>\n",
       "      <td>5823.0</td>\n",
       "    </tr>\n",
       "    <tr>\n",
       "      <th>17</th>\n",
       "      <td>19</td>\n",
       "      <td>Bustin' Loose</td>\n",
       "      <td>1981</td>\n",
       "      <td>3.7</td>\n",
       "      <td>5598.0</td>\n",
       "    </tr>\n",
       "    <tr>\n",
       "      <th>...</th>\n",
       "      <td>...</td>\n",
       "      <td>...</td>\n",
       "      <td>...</td>\n",
       "      <td>...</td>\n",
       "      <td>...</td>\n",
       "    </tr>\n",
       "    <tr>\n",
       "      <th>47286</th>\n",
       "      <td>47288</td>\n",
       "      <td>Goosebumps: Specials</td>\n",
       "      <td>1997</td>\n",
       "      <td>3.8</td>\n",
       "      <td>2563.0</td>\n",
       "    </tr>\n",
       "    <tr>\n",
       "      <th>47291</th>\n",
       "      <td>47293</td>\n",
       "      <td>Goosebumps: Season 4</td>\n",
       "      <td>1998</td>\n",
       "      <td>3.8</td>\n",
       "      <td>2563.0</td>\n",
       "    </tr>\n",
       "    <tr>\n",
       "      <th>47414</th>\n",
       "      <td>47416</td>\n",
       "      <td>The Magic School Bus: Season 4</td>\n",
       "      <td>1997</td>\n",
       "      <td>3.9</td>\n",
       "      <td>2563.0</td>\n",
       "    </tr>\n",
       "    <tr>\n",
       "      <th>47428</th>\n",
       "      <td>47430</td>\n",
       "      <td>The Magic School Bus: Season 3</td>\n",
       "      <td>1996</td>\n",
       "      <td>3.9</td>\n",
       "      <td>2563.0</td>\n",
       "    </tr>\n",
       "    <tr>\n",
       "      <th>47455</th>\n",
       "      <td>47457</td>\n",
       "      <td>The Magic School Bus: Season 2</td>\n",
       "      <td>1995</td>\n",
       "      <td>3.9</td>\n",
       "      <td>2563.0</td>\n",
       "    </tr>\n",
       "  </tbody>\n",
       "</table>\n",
       "<p>937 rows × 5 columns</p>\n",
       "</div>"
      ],
      "text/plain": [
       "          id                            name  year  rating  duration\n",
       "4          6             One Magic Christmas  1985     3.8    5333.0\n",
       "10        12                       Big Night  1996     3.6    6561.0\n",
       "12        14            The Boys from Brazil  1978     3.6    7417.0\n",
       "14        16              The Breakfast Club  1985     4.0    5823.0\n",
       "17        19                   Bustin' Loose  1981     3.7    5598.0\n",
       "...      ...                             ...   ...     ...       ...\n",
       "47286  47288            Goosebumps: Specials  1997     3.8    2563.0\n",
       "47291  47293            Goosebumps: Season 4  1998     3.8    2563.0\n",
       "47414  47416  The Magic School Bus: Season 4  1997     3.9    2563.0\n",
       "47428  47430  The Magic School Bus: Season 3  1996     3.9    2563.0\n",
       "47455  47457  The Magic School Bus: Season 2  1995     3.9    2563.0\n",
       "\n",
       "[937 rows x 5 columns]"
      ]
     },
     "execution_count": 28,
     "metadata": {},
     "output_type": "execute_result"
    }
   ],
   "source": [
    "df1=df.loc[(df[\"year\"]>=1975)&(df[\"year\"]<=2000)&(df[\"rating\"]>3.5)]\n",
    "df1"
   ]
  }
 ],
 "metadata": {
  "kernelspec": {
   "display_name": "Python 3 (ipykernel)",
   "language": "python",
   "name": "python3"
  },
  "language_info": {
   "codemirror_mode": {
    "name": "ipython",
    "version": 3
   },
   "file_extension": ".py",
   "mimetype": "text/x-python",
   "name": "python",
   "nbconvert_exporter": "python",
   "pygments_lexer": "ipython3",
   "version": "3.10.9"
  }
 },
 "nbformat": 4,
 "nbformat_minor": 5
}
