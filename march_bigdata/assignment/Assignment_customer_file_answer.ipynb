{
 "cells": [
  {
   "cell_type": "code",
   "execution_count": 1,
   "id": "70824af5",
   "metadata": {},
   "outputs": [],
   "source": [
    "import pandas as pd"
   ]
  },
  {
   "cell_type": "code",
   "execution_count": 2,
   "id": "ceeb35d6",
   "metadata": {
    "scrolled": true
   },
   "outputs": [
    {
     "data": {
      "text/html": [
       "<div>\n",
       "<style scoped>\n",
       "    .dataframe tbody tr th:only-of-type {\n",
       "        vertical-align: middle;\n",
       "    }\n",
       "\n",
       "    .dataframe tbody tr th {\n",
       "        vertical-align: top;\n",
       "    }\n",
       "\n",
       "    .dataframe thead th {\n",
       "        text-align: right;\n",
       "    }\n",
       "</style>\n",
       "<table border=\"1\" class=\"dataframe\">\n",
       "  <thead>\n",
       "    <tr style=\"text-align: right;\">\n",
       "      <th></th>\n",
       "      <th>id</th>\n",
       "      <th>fname</th>\n",
       "      <th>lname</th>\n",
       "      <th>age</th>\n",
       "      <th>prof</th>\n",
       "      <th>loc</th>\n",
       "    </tr>\n",
       "  </thead>\n",
       "  <tbody>\n",
       "    <tr>\n",
       "      <th>0</th>\n",
       "      <td>4000001</td>\n",
       "      <td>Kristina</td>\n",
       "      <td>Chung</td>\n",
       "      <td>55</td>\n",
       "      <td>Pilot</td>\n",
       "      <td>india</td>\n",
       "    </tr>\n",
       "    <tr>\n",
       "      <th>1</th>\n",
       "      <td>4000002</td>\n",
       "      <td>Paige</td>\n",
       "      <td>Chen</td>\n",
       "      <td>74</td>\n",
       "      <td>Teacher</td>\n",
       "      <td>uk</td>\n",
       "    </tr>\n",
       "    <tr>\n",
       "      <th>2</th>\n",
       "      <td>4000003</td>\n",
       "      <td>Sherri</td>\n",
       "      <td>Melton</td>\n",
       "      <td>34</td>\n",
       "      <td>Firefighter</td>\n",
       "      <td>us</td>\n",
       "    </tr>\n",
       "    <tr>\n",
       "      <th>3</th>\n",
       "      <td>4000004</td>\n",
       "      <td>Gretchen</td>\n",
       "      <td>Hill</td>\n",
       "      <td>66</td>\n",
       "      <td>Computer hardware engineer</td>\n",
       "      <td>china</td>\n",
       "    </tr>\n",
       "    <tr>\n",
       "      <th>4</th>\n",
       "      <td>4000005</td>\n",
       "      <td>Karen</td>\n",
       "      <td>Puckett</td>\n",
       "      <td>74</td>\n",
       "      <td>Lawyer</td>\n",
       "      <td>africa</td>\n",
       "    </tr>\n",
       "  </tbody>\n",
       "</table>\n",
       "</div>"
      ],
      "text/plain": [
       "        id     fname    lname  age                        prof     loc\n",
       "0  4000001  Kristina    Chung   55                       Pilot   india\n",
       "1  4000002     Paige     Chen   74                     Teacher      uk\n",
       "2  4000003    Sherri   Melton   34                 Firefighter      us\n",
       "3  4000004  Gretchen     Hill   66  Computer hardware engineer   china\n",
       "4  4000005     Karen  Puckett   74                      Lawyer  africa"
      ]
     },
     "execution_count": 2,
     "metadata": {},
     "output_type": "execute_result"
    }
   ],
   "source": [
    "df=pd.read_csv(\"../adv_python/pandas/Files/customer.csv\",names=[\"id\",\"fname\",\"lname\",\"age\",\"prof\",\"loc\"])\n",
    "df.head()"
   ]
  },
  {
   "cell_type": "markdown",
   "id": "f73550fe",
   "metadata": {},
   "source": [
    "### 1. Find Row count"
   ]
  },
  {
   "cell_type": "code",
   "execution_count": 3,
   "id": "9d31d81f",
   "metadata": {},
   "outputs": [
    {
     "data": {
      "text/plain": [
       "id       463\n",
       "fname    463\n",
       "lname    463\n",
       "age      463\n",
       "prof     463\n",
       "loc      462\n",
       "dtype: int64"
      ]
     },
     "execution_count": 3,
     "metadata": {},
     "output_type": "execute_result"
    }
   ],
   "source": [
    "df.count()"
   ]
  },
  {
   "cell_type": "markdown",
   "id": "f476f2b9",
   "metadata": {},
   "source": [
    "### 2. Remove duplicates rows and find total row count"
   ]
  },
  {
   "cell_type": "code",
   "execution_count": 4,
   "id": "b792bf1f",
   "metadata": {},
   "outputs": [
    {
     "data": {
      "text/plain": [
       "(463, 6)"
      ]
     },
     "execution_count": 4,
     "metadata": {},
     "output_type": "execute_result"
    }
   ],
   "source": [
    "df1=df.drop_duplicates()\n",
    "df1.shape"
   ]
  },
  {
   "cell_type": "markdown",
   "id": "dfb41743",
   "metadata": {},
   "source": [
    "### 3. Age maximum 10 fname,lname,prof,loc"
   ]
  },
  {
   "cell_type": "code",
   "execution_count": 5,
   "id": "939cbaa8",
   "metadata": {},
   "outputs": [
    {
     "data": {
      "text/html": [
       "<div>\n",
       "<style scoped>\n",
       "    .dataframe tbody tr th:only-of-type {\n",
       "        vertical-align: middle;\n",
       "    }\n",
       "\n",
       "    .dataframe tbody tr th {\n",
       "        vertical-align: top;\n",
       "    }\n",
       "\n",
       "    .dataframe thead th {\n",
       "        text-align: right;\n",
       "    }\n",
       "</style>\n",
       "<table border=\"1\" class=\"dataframe\">\n",
       "  <thead>\n",
       "    <tr style=\"text-align: right;\">\n",
       "      <th></th>\n",
       "      <th>fname</th>\n",
       "      <th>lname</th>\n",
       "      <th>prof</th>\n",
       "      <th>loc</th>\n",
       "    </tr>\n",
       "  </thead>\n",
       "  <tbody>\n",
       "    <tr>\n",
       "      <th>88</th>\n",
       "      <td>Sherri</td>\n",
       "      <td>Sutton</td>\n",
       "      <td>Social worker</td>\n",
       "      <td>us</td>\n",
       "    </tr>\n",
       "    <tr>\n",
       "      <th>324</th>\n",
       "      <td>Ruth</td>\n",
       "      <td>Harmon</td>\n",
       "      <td>Artist</td>\n",
       "      <td>australia</td>\n",
       "    </tr>\n",
       "    <tr>\n",
       "      <th>391</th>\n",
       "      <td>Emma</td>\n",
       "      <td>Olson</td>\n",
       "      <td>Pilot</td>\n",
       "      <td>ireland</td>\n",
       "    </tr>\n",
       "    <tr>\n",
       "      <th>258</th>\n",
       "      <td>Margaret</td>\n",
       "      <td>Burgess</td>\n",
       "      <td>Social worker</td>\n",
       "      <td>africa</td>\n",
       "    </tr>\n",
       "    <tr>\n",
       "      <th>306</th>\n",
       "      <td>Karen</td>\n",
       "      <td>Clements</td>\n",
       "      <td>Farmer</td>\n",
       "      <td>australia</td>\n",
       "    </tr>\n",
       "    <tr>\n",
       "      <th>241</th>\n",
       "      <td>Edna</td>\n",
       "      <td>Hoyle</td>\n",
       "      <td>Electrical engineer</td>\n",
       "      <td>africa</td>\n",
       "    </tr>\n",
       "    <tr>\n",
       "      <th>1</th>\n",
       "      <td>Paige</td>\n",
       "      <td>Chen</td>\n",
       "      <td>Teacher</td>\n",
       "      <td>uk</td>\n",
       "    </tr>\n",
       "    <tr>\n",
       "      <th>219</th>\n",
       "      <td>Rebecca</td>\n",
       "      <td>Heath</td>\n",
       "      <td>Environmental scientist</td>\n",
       "      <td>africa</td>\n",
       "    </tr>\n",
       "    <tr>\n",
       "      <th>361</th>\n",
       "      <td>Holly</td>\n",
       "      <td>Fox</td>\n",
       "      <td>Physicist</td>\n",
       "      <td>australia</td>\n",
       "    </tr>\n",
       "    <tr>\n",
       "      <th>274</th>\n",
       "      <td>Lawrence</td>\n",
       "      <td>Miles</td>\n",
       "      <td>Dancer</td>\n",
       "      <td>africa</td>\n",
       "    </tr>\n",
       "  </tbody>\n",
       "</table>\n",
       "</div>"
      ],
      "text/plain": [
       "        fname     lname                     prof        loc\n",
       "88     Sherri    Sutton            Social worker         us\n",
       "324      Ruth    Harmon                   Artist  australia\n",
       "391      Emma     Olson                    Pilot    ireland\n",
       "258  Margaret   Burgess            Social worker     africa\n",
       "306     Karen  Clements                   Farmer  australia\n",
       "241      Edna     Hoyle      Electrical engineer     africa\n",
       "1       Paige      Chen                  Teacher         uk\n",
       "219   Rebecca     Heath  Environmental scientist     africa\n",
       "361     Holly       Fox                Physicist  australia\n",
       "274  Lawrence     Miles                   Dancer     africa"
      ]
     },
     "execution_count": 5,
     "metadata": {},
     "output_type": "execute_result"
    }
   ],
   "source": [
    "df1=df.sort_values(by=\"age\",ascending=False)[[\"fname\",\"lname\",\"prof\",\"loc\"]].head(10)\n",
    "df1"
   ]
  },
  {
   "cell_type": "markdown",
   "id": "c122d24d",
   "metadata": {},
   "source": [
    "### 4. Age minimum 5 employees fname,lname,prof,loc"
   ]
  },
  {
   "cell_type": "code",
   "execution_count": 6,
   "id": "8461666a",
   "metadata": {},
   "outputs": [
    {
     "data": {
      "text/html": [
       "<div>\n",
       "<style scoped>\n",
       "    .dataframe tbody tr th:only-of-type {\n",
       "        vertical-align: middle;\n",
       "    }\n",
       "\n",
       "    .dataframe tbody tr th {\n",
       "        vertical-align: top;\n",
       "    }\n",
       "\n",
       "    .dataframe thead th {\n",
       "        text-align: right;\n",
       "    }\n",
       "</style>\n",
       "<table border=\"1\" class=\"dataframe\">\n",
       "  <thead>\n",
       "    <tr style=\"text-align: right;\">\n",
       "      <th></th>\n",
       "      <th>fname</th>\n",
       "      <th>lname</th>\n",
       "      <th>prof</th>\n",
       "      <th>loc</th>\n",
       "    </tr>\n",
       "  </thead>\n",
       "  <tbody>\n",
       "    <tr>\n",
       "      <th>175</th>\n",
       "      <td>Kristin</td>\n",
       "      <td>Alexander</td>\n",
       "      <td>Coach</td>\n",
       "      <td>china</td>\n",
       "    </tr>\n",
       "    <tr>\n",
       "      <th>289</th>\n",
       "      <td>Gail</td>\n",
       "      <td>Whitehead</td>\n",
       "      <td>Nurse</td>\n",
       "      <td>australia</td>\n",
       "    </tr>\n",
       "    <tr>\n",
       "      <th>348</th>\n",
       "      <td>Russell</td>\n",
       "      <td>Dalton</td>\n",
       "      <td>Civil engineer</td>\n",
       "      <td>australia</td>\n",
       "    </tr>\n",
       "    <tr>\n",
       "      <th>291</th>\n",
       "      <td>Donna</td>\n",
       "      <td>Rice</td>\n",
       "      <td>Social worker</td>\n",
       "      <td>australia</td>\n",
       "    </tr>\n",
       "    <tr>\n",
       "      <th>51</th>\n",
       "      <td>Shirley</td>\n",
       "      <td>Merritt</td>\n",
       "      <td>Reporter</td>\n",
       "      <td>uk</td>\n",
       "    </tr>\n",
       "  </tbody>\n",
       "</table>\n",
       "</div>"
      ],
      "text/plain": [
       "       fname      lname            prof        loc\n",
       "175  Kristin  Alexander           Coach      china\n",
       "289     Gail  Whitehead           Nurse  australia\n",
       "348  Russell     Dalton  Civil engineer  australia\n",
       "291    Donna       Rice   Social worker  australia\n",
       "51   Shirley    Merritt        Reporter         uk"
      ]
     },
     "execution_count": 6,
     "metadata": {},
     "output_type": "execute_result"
    }
   ],
   "source": [
    "df1=df.sort_values(by=\"age\")[[\"fname\",\"lname\",\"prof\",\"loc\"]].head(5)\n",
    "df1"
   ]
  },
  {
   "cell_type": "markdown",
   "id": "d13a1b9d",
   "metadata": {},
   "source": [
    "### 5. Each location count [count desc order]"
   ]
  },
  {
   "cell_type": "code",
   "execution_count": 7,
   "id": "a2306cef",
   "metadata": {},
   "outputs": [
    {
     "data": {
      "text/plain": [
       "loc\n",
       "australia    104\n",
       "africa        89\n",
       "us            78\n",
       "ireland       77\n",
       "china         56\n",
       "uk            37\n",
       "india         21\n",
       "Name: loc, dtype: int64"
      ]
     },
     "execution_count": 7,
     "metadata": {},
     "output_type": "execute_result"
    }
   ],
   "source": [
    "df1=df.groupby(by=\"loc\")[\"loc\"].count().sort_values(ascending=False)\n",
    "df1"
   ]
  },
  {
   "cell_type": "markdown",
   "id": "68c9d4cb",
   "metadata": {},
   "source": [
    "### 6. Full data"
   ]
  },
  {
   "cell_type": "code",
   "execution_count": 8,
   "id": "d7f9e2a9",
   "metadata": {},
   "outputs": [
    {
     "data": {
      "text/html": [
       "<div>\n",
       "<style scoped>\n",
       "    .dataframe tbody tr th:only-of-type {\n",
       "        vertical-align: middle;\n",
       "    }\n",
       "\n",
       "    .dataframe tbody tr th {\n",
       "        vertical-align: top;\n",
       "    }\n",
       "\n",
       "    .dataframe thead th {\n",
       "        text-align: right;\n",
       "    }\n",
       "</style>\n",
       "<table border=\"1\" class=\"dataframe\">\n",
       "  <thead>\n",
       "    <tr style=\"text-align: right;\">\n",
       "      <th></th>\n",
       "      <th>id</th>\n",
       "      <th>fname</th>\n",
       "      <th>lname</th>\n",
       "      <th>age</th>\n",
       "      <th>prof</th>\n",
       "      <th>loc</th>\n",
       "    </tr>\n",
       "  </thead>\n",
       "  <tbody>\n",
       "    <tr>\n",
       "      <th>5</th>\n",
       "      <td>4000006</td>\n",
       "      <td>Patrick</td>\n",
       "      <td>Song</td>\n",
       "      <td>42</td>\n",
       "      <td>Veterinarian</td>\n",
       "      <td>australia</td>\n",
       "    </tr>\n",
       "    <tr>\n",
       "      <th>284</th>\n",
       "      <td>4000285</td>\n",
       "      <td>Donna</td>\n",
       "      <td>Lehman</td>\n",
       "      <td>71</td>\n",
       "      <td>Social worker</td>\n",
       "      <td>australia</td>\n",
       "    </tr>\n",
       "    <tr>\n",
       "      <th>285</th>\n",
       "      <td>4000286</td>\n",
       "      <td>Catherine</td>\n",
       "      <td>Sherrill</td>\n",
       "      <td>48</td>\n",
       "      <td>Nurse</td>\n",
       "      <td>australia</td>\n",
       "    </tr>\n",
       "    <tr>\n",
       "      <th>286</th>\n",
       "      <td>4000287</td>\n",
       "      <td>Lester</td>\n",
       "      <td>Cash</td>\n",
       "      <td>30</td>\n",
       "      <td>Firefighter</td>\n",
       "      <td>australia</td>\n",
       "    </tr>\n",
       "    <tr>\n",
       "      <th>287</th>\n",
       "      <td>4000288</td>\n",
       "      <td>Jacob</td>\n",
       "      <td>Pittman</td>\n",
       "      <td>34</td>\n",
       "      <td>Economist</td>\n",
       "      <td>australia</td>\n",
       "    </tr>\n",
       "    <tr>\n",
       "      <th>...</th>\n",
       "      <td>...</td>\n",
       "      <td>...</td>\n",
       "      <td>...</td>\n",
       "      <td>...</td>\n",
       "      <td>...</td>\n",
       "      <td>...</td>\n",
       "    </tr>\n",
       "    <tr>\n",
       "      <th>382</th>\n",
       "      <td>4000383</td>\n",
       "      <td>Arnold</td>\n",
       "      <td>Burke</td>\n",
       "      <td>70</td>\n",
       "      <td>Reporter</td>\n",
       "      <td>australia</td>\n",
       "    </tr>\n",
       "    <tr>\n",
       "      <th>383</th>\n",
       "      <td>4000384</td>\n",
       "      <td>Melanie</td>\n",
       "      <td>Ritchie</td>\n",
       "      <td>36</td>\n",
       "      <td>Financial analyst</td>\n",
       "      <td>australia</td>\n",
       "    </tr>\n",
       "    <tr>\n",
       "      <th>384</th>\n",
       "      <td>4000385</td>\n",
       "      <td>Ronald</td>\n",
       "      <td>Odom</td>\n",
       "      <td>49</td>\n",
       "      <td>Psychologist</td>\n",
       "      <td>australia</td>\n",
       "    </tr>\n",
       "    <tr>\n",
       "      <th>385</th>\n",
       "      <td>4000386</td>\n",
       "      <td>Gene</td>\n",
       "      <td>Pearce</td>\n",
       "      <td>30</td>\n",
       "      <td>Architect</td>\n",
       "      <td>australia</td>\n",
       "    </tr>\n",
       "    <tr>\n",
       "      <th>386</th>\n",
       "      <td>4000387</td>\n",
       "      <td>Peter</td>\n",
       "      <td>Rosenberg</td>\n",
       "      <td>60</td>\n",
       "      <td>Politician</td>\n",
       "      <td>australia</td>\n",
       "    </tr>\n",
       "  </tbody>\n",
       "</table>\n",
       "<p>104 rows × 6 columns</p>\n",
       "</div>"
      ],
      "text/plain": [
       "          id      fname      lname  age               prof        loc\n",
       "5    4000006    Patrick       Song   42       Veterinarian  australia\n",
       "284  4000285      Donna     Lehman   71      Social worker  australia\n",
       "285  4000286  Catherine   Sherrill   48              Nurse  australia\n",
       "286  4000287     Lester       Cash   30        Firefighter  australia\n",
       "287  4000288      Jacob    Pittman   34          Economist  australia\n",
       "..       ...        ...        ...  ...                ...        ...\n",
       "382  4000383     Arnold      Burke   70           Reporter  australia\n",
       "383  4000384    Melanie    Ritchie   36  Financial analyst  australia\n",
       "384  4000385     Ronald       Odom   49       Psychologist  australia\n",
       "385  4000386       Gene     Pearce   30          Architect  australia\n",
       "386  4000387      Peter  Rosenberg   60         Politician  australia\n",
       "\n",
       "[104 rows x 6 columns]"
      ]
     },
     "execution_count": 8,
     "metadata": {},
     "output_type": "execute_result"
    }
   ],
   "source": [
    "df1=df.loc[df[\"loc\"]==\"australia\"]\n",
    "df1"
   ]
  },
  {
   "cell_type": "markdown",
   "id": "c5558f25",
   "metadata": {},
   "source": [
    "### 7. Each age group count [age desc order]"
   ]
  },
  {
   "cell_type": "code",
   "execution_count": 9,
   "id": "d73cef64",
   "metadata": {},
   "outputs": [
    {
     "data": {
      "text/plain": [
       "age\n",
       "75     2\n",
       "74    12\n",
       "73    13\n",
       "72    10\n",
       "71     6\n",
       "70    15\n",
       "69    10\n",
       "68     3\n",
       "67    16\n",
       "66    11\n",
       "65    11\n",
       "64    13\n",
       "63     9\n",
       "62     8\n",
       "61     9\n",
       "60     4\n",
       "59    14\n",
       "58     9\n",
       "57     6\n",
       "56     7\n",
       "55     7\n",
       "54    12\n",
       "53     7\n",
       "52    10\n",
       "51    11\n",
       "50     9\n",
       "49     4\n",
       "48     5\n",
       "47     5\n",
       "46     3\n",
       "45    10\n",
       "44     9\n",
       "43     9\n",
       "42     8\n",
       "41     6\n",
       "40    10\n",
       "39     9\n",
       "38     8\n",
       "37    11\n",
       "36    11\n",
       "35    12\n",
       "34    13\n",
       "33     7\n",
       "32     7\n",
       "31    10\n",
       "30     6\n",
       "29     3\n",
       "28    10\n",
       "27    10\n",
       "26     8\n",
       "25     6\n",
       "24     4\n",
       "23     4\n",
       "22     5\n",
       "21     6\n",
       "Name: age, dtype: int64"
      ]
     },
     "execution_count": 9,
     "metadata": {},
     "output_type": "execute_result"
    }
   ],
   "source": [
    "df1=df.groupby(by=\"age\")[\"age\"].count().sort_index(ascending=False)\n",
    "df1"
   ]
  },
  {
   "cell_type": "markdown",
   "id": "5838719b",
   "metadata": {},
   "source": [
    "### 8. Each profession count [count desc order]"
   ]
  },
  {
   "cell_type": "code",
   "execution_count": 10,
   "id": "dc62b121",
   "metadata": {},
   "outputs": [
    {
     "data": {
      "text/plain": [
       "prof\n",
       "Childcare worker                   17\n",
       "Photographer                       15\n",
       "Musician                           15\n",
       "Loan officer                       14\n",
       "Pilot                              13\n",
       "Veterinarian                       13\n",
       "Doctor                             13\n",
       "Computer support specialist        12\n",
       "Actor                              12\n",
       "Civil engineer                     11\n",
       "Politician                         11\n",
       "Statistician                       11\n",
       "Electrical engineer                11\n",
       "Carpenter                          10\n",
       "Environmental scientist            10\n",
       "Social worker                      10\n",
       "Lawyer                             10\n",
       "Economist                          10\n",
       "Human resources assistant          10\n",
       "Nurse                               9\n",
       "Recreation and fitness worker       9\n",
       "Accountant                          9\n",
       "Firefighter                         9\n",
       "Athlete                             9\n",
       "Engineering technician              9\n",
       "Agricultural and food scientist     9\n",
       "Designer                            9\n",
       "Dancer                              9\n",
       "Coach                               9\n",
       "Farmer                              8\n",
       "Electrician                         8\n",
       "Librarian                           8\n",
       "Therapist                           8\n",
       "Architect                           8\n",
       "Pharmacist                          8\n",
       "Physicist                           8\n",
       "Artist                              8\n",
       "Secretary                           8\n",
       "Reporter                            8\n",
       "Police officer                      7\n",
       "Computer hardware engineer          7\n",
       "Computer software engineer          7\n",
       "Real estate agent                   6\n",
       "Automotive mechanic                 6\n",
       "Chemist                             6\n",
       "Judge                               6\n",
       "Psychologist                        5\n",
       "Teacher                             5\n",
       "Writer                              5\n",
       "Financial analyst                   4\n",
       "africa                              1\n",
       "Name: prof, dtype: int64"
      ]
     },
     "execution_count": 10,
     "metadata": {},
     "output_type": "execute_result"
    }
   ],
   "source": [
    "df1=df.groupby(by=\"prof\")[\"prof\"].count().sort_values(ascending=False)\n",
    "df1"
   ]
  },
  {
   "cell_type": "markdown",
   "id": "cc4771e5",
   "metadata": {},
   "source": [
    "### 9. India work"
   ]
  },
  {
   "cell_type": "code",
   "execution_count": 11,
   "id": "a5a9fb4a",
   "metadata": {},
   "outputs": [
    {
     "data": {
      "text/html": [
       "<div>\n",
       "<style scoped>\n",
       "    .dataframe tbody tr th:only-of-type {\n",
       "        vertical-align: middle;\n",
       "    }\n",
       "\n",
       "    .dataframe tbody tr th {\n",
       "        vertical-align: top;\n",
       "    }\n",
       "\n",
       "    .dataframe thead th {\n",
       "        text-align: right;\n",
       "    }\n",
       "</style>\n",
       "<table border=\"1\" class=\"dataframe\">\n",
       "  <thead>\n",
       "    <tr style=\"text-align: right;\">\n",
       "      <th></th>\n",
       "      <th>id</th>\n",
       "      <th>fname</th>\n",
       "      <th>lname</th>\n",
       "      <th>age</th>\n",
       "      <th>prof</th>\n",
       "      <th>loc</th>\n",
       "    </tr>\n",
       "  </thead>\n",
       "  <tbody>\n",
       "    <tr>\n",
       "      <th>0</th>\n",
       "      <td>4000001</td>\n",
       "      <td>Kristina</td>\n",
       "      <td>Chung</td>\n",
       "      <td>55</td>\n",
       "      <td>Pilot</td>\n",
       "      <td>india</td>\n",
       "    </tr>\n",
       "    <tr>\n",
       "      <th>7</th>\n",
       "      <td>4000008</td>\n",
       "      <td>Hazel</td>\n",
       "      <td>Bender</td>\n",
       "      <td>63</td>\n",
       "      <td>Carpenter</td>\n",
       "      <td>india</td>\n",
       "    </tr>\n",
       "    <tr>\n",
       "      <th>8</th>\n",
       "      <td>4000009</td>\n",
       "      <td>Malcolm</td>\n",
       "      <td>Wagner</td>\n",
       "      <td>39</td>\n",
       "      <td>Artist</td>\n",
       "      <td>india</td>\n",
       "    </tr>\n",
       "    <tr>\n",
       "      <th>9</th>\n",
       "      <td>4000010</td>\n",
       "      <td>Dolores</td>\n",
       "      <td>McLaughlin</td>\n",
       "      <td>60</td>\n",
       "      <td>Writer</td>\n",
       "      <td>india</td>\n",
       "    </tr>\n",
       "  </tbody>\n",
       "</table>\n",
       "</div>"
      ],
      "text/plain": [
       "        id     fname       lname  age       prof    loc\n",
       "0  4000001  Kristina       Chung   55      Pilot  india\n",
       "7  4000008     Hazel      Bender   63  Carpenter  india\n",
       "8  4000009   Malcolm      Wagner   39     Artist  india\n",
       "9  4000010   Dolores  McLaughlin   60     Writer  india"
      ]
     },
     "execution_count": 11,
     "metadata": {},
     "output_type": "execute_result"
    }
   ],
   "source": [
    "df1=df.loc[df[\"loc\"]==\"india\"]\n",
    "df1.head(4)"
   ]
  },
  {
   "cell_type": "markdown",
   "id": "3a951f50",
   "metadata": {},
   "source": [
    "###### A. Row count"
   ]
  },
  {
   "cell_type": "code",
   "execution_count": 12,
   "id": "c5d3da0d",
   "metadata": {
    "scrolled": true
   },
   "outputs": [
    {
     "data": {
      "text/plain": [
       "id       21\n",
       "fname    21\n",
       "lname    21\n",
       "age      21\n",
       "prof     21\n",
       "loc      21\n",
       "dtype: int64"
      ]
     },
     "execution_count": 12,
     "metadata": {},
     "output_type": "execute_result"
    }
   ],
   "source": [
    "df1.count()"
   ]
  },
  {
   "cell_type": "markdown",
   "id": "1016ddbe",
   "metadata": {},
   "source": [
    "###### B. Each profession count [count desc order]"
   ]
  },
  {
   "cell_type": "code",
   "execution_count": 13,
   "id": "606992ef",
   "metadata": {},
   "outputs": [
    {
     "data": {
      "text/plain": [
       "prof\n",
       "Carpenter                      3\n",
       "Musician                       3\n",
       "Writer                         2\n",
       "Accountant                     1\n",
       "Artist                         1\n",
       "Childcare worker               1\n",
       "Computer support specialist    1\n",
       "Dancer                         1\n",
       "Doctor                         1\n",
       "Engineering technician         1\n",
       "Environmental scientist        1\n",
       "Financial analyst              1\n",
       "Lawyer                         1\n",
       "Pharmacist                     1\n",
       "Pilot                          1\n",
       "Therapist                      1\n",
       "Name: prof, dtype: int64"
      ]
     },
     "execution_count": 13,
     "metadata": {},
     "output_type": "execute_result"
    }
   ],
   "source": [
    "df2=df1.groupby(by=\"prof\")[\"prof\"].count().sort_values(ascending=False)\n",
    "df2"
   ]
  },
  {
   "cell_type": "markdown",
   "id": "6a3a9bc4",
   "metadata": {},
   "source": [
    "###### C. Age mxm 3 employees fname,lname,age,prof"
   ]
  },
  {
   "cell_type": "code",
   "execution_count": 14,
   "id": "715e1eea",
   "metadata": {},
   "outputs": [
    {
     "data": {
      "text/html": [
       "<div>\n",
       "<style scoped>\n",
       "    .dataframe tbody tr th:only-of-type {\n",
       "        vertical-align: middle;\n",
       "    }\n",
       "\n",
       "    .dataframe tbody tr th {\n",
       "        vertical-align: top;\n",
       "    }\n",
       "\n",
       "    .dataframe thead th {\n",
       "        text-align: right;\n",
       "    }\n",
       "</style>\n",
       "<table border=\"1\" class=\"dataframe\">\n",
       "  <thead>\n",
       "    <tr style=\"text-align: right;\">\n",
       "      <th></th>\n",
       "      <th>fname</th>\n",
       "      <th>lname</th>\n",
       "      <th>age</th>\n",
       "      <th>prof</th>\n",
       "    </tr>\n",
       "  </thead>\n",
       "  <tbody>\n",
       "    <tr>\n",
       "      <th>16</th>\n",
       "      <td>Neal</td>\n",
       "      <td>Lawrence</td>\n",
       "      <td>72</td>\n",
       "      <td>Computer support specialist</td>\n",
       "    </tr>\n",
       "    <tr>\n",
       "      <th>19</th>\n",
       "      <td>Crystal</td>\n",
       "      <td>Powers</td>\n",
       "      <td>67</td>\n",
       "      <td>Engineering technician</td>\n",
       "    </tr>\n",
       "    <tr>\n",
       "      <th>21</th>\n",
       "      <td>Eric</td>\n",
       "      <td>Steele</td>\n",
       "      <td>66</td>\n",
       "      <td>Doctor</td>\n",
       "    </tr>\n",
       "  </tbody>\n",
       "</table>\n",
       "</div>"
      ],
      "text/plain": [
       "      fname     lname  age                         prof\n",
       "16     Neal  Lawrence   72  Computer support specialist\n",
       "19  Crystal    Powers   67       Engineering technician\n",
       "21     Eric    Steele   66                       Doctor"
      ]
     },
     "execution_count": 14,
     "metadata": {},
     "output_type": "execute_result"
    }
   ],
   "source": [
    "df2=df1.sort_values(by=\"age\",ascending=False)[[\"fname\",\"lname\",\"age\",\"prof\"]].head(3)\n",
    "df2"
   ]
  },
  {
   "cell_type": "markdown",
   "id": "52c6f91c",
   "metadata": {},
   "source": [
    "###### D. Age minimum 3 employees fname,lname,age,prof"
   ]
  },
  {
   "cell_type": "code",
   "execution_count": 15,
   "id": "60cbb919",
   "metadata": {},
   "outputs": [
    {
     "data": {
      "text/html": [
       "<div>\n",
       "<style scoped>\n",
       "    .dataframe tbody tr th:only-of-type {\n",
       "        vertical-align: middle;\n",
       "    }\n",
       "\n",
       "    .dataframe tbody tr th {\n",
       "        vertical-align: top;\n",
       "    }\n",
       "\n",
       "    .dataframe thead th {\n",
       "        text-align: right;\n",
       "    }\n",
       "</style>\n",
       "<table border=\"1\" class=\"dataframe\">\n",
       "  <thead>\n",
       "    <tr style=\"text-align: right;\">\n",
       "      <th></th>\n",
       "      <th>fname</th>\n",
       "      <th>lname</th>\n",
       "      <th>age</th>\n",
       "      <th>prof</th>\n",
       "    </tr>\n",
       "  </thead>\n",
       "  <tbody>\n",
       "    <tr>\n",
       "      <th>11</th>\n",
       "      <td>Sandy</td>\n",
       "      <td>Raynor</td>\n",
       "      <td>26</td>\n",
       "      <td>Writer</td>\n",
       "    </tr>\n",
       "    <tr>\n",
       "      <th>25</th>\n",
       "      <td>Marian</td>\n",
       "      <td>Solomon</td>\n",
       "      <td>27</td>\n",
       "      <td>Lawyer</td>\n",
       "    </tr>\n",
       "    <tr>\n",
       "      <th>23</th>\n",
       "      <td>Franklin</td>\n",
       "      <td>Vick</td>\n",
       "      <td>28</td>\n",
       "      <td>Dancer</td>\n",
       "    </tr>\n",
       "  </tbody>\n",
       "</table>\n",
       "</div>"
      ],
      "text/plain": [
       "       fname    lname  age    prof\n",
       "11     Sandy   Raynor   26  Writer\n",
       "25    Marian  Solomon   27  Lawyer\n",
       "23  Franklin     Vick   28  Dancer"
      ]
     },
     "execution_count": 15,
     "metadata": {},
     "output_type": "execute_result"
    }
   ],
   "source": [
    "df2=df1.sort_values(by=\"age\")[[\"fname\",\"lname\",\"age\",\"prof\"]].head(3)\n",
    "df2"
   ]
  },
  {
   "cell_type": "markdown",
   "id": "c13169c7",
   "metadata": {},
   "source": [
    "###### E. age above 40 full data"
   ]
  },
  {
   "cell_type": "code",
   "execution_count": 16,
   "id": "10e117ff",
   "metadata": {},
   "outputs": [
    {
     "data": {
      "text/html": [
       "<div>\n",
       "<style scoped>\n",
       "    .dataframe tbody tr th:only-of-type {\n",
       "        vertical-align: middle;\n",
       "    }\n",
       "\n",
       "    .dataframe tbody tr th {\n",
       "        vertical-align: top;\n",
       "    }\n",
       "\n",
       "    .dataframe thead th {\n",
       "        text-align: right;\n",
       "    }\n",
       "</style>\n",
       "<table border=\"1\" class=\"dataframe\">\n",
       "  <thead>\n",
       "    <tr style=\"text-align: right;\">\n",
       "      <th></th>\n",
       "      <th>id</th>\n",
       "      <th>fname</th>\n",
       "      <th>lname</th>\n",
       "      <th>age</th>\n",
       "      <th>prof</th>\n",
       "      <th>loc</th>\n",
       "    </tr>\n",
       "  </thead>\n",
       "  <tbody>\n",
       "    <tr>\n",
       "      <th>0</th>\n",
       "      <td>4000001</td>\n",
       "      <td>Kristina</td>\n",
       "      <td>Chung</td>\n",
       "      <td>55</td>\n",
       "      <td>Pilot</td>\n",
       "      <td>india</td>\n",
       "    </tr>\n",
       "    <tr>\n",
       "      <th>7</th>\n",
       "      <td>4000008</td>\n",
       "      <td>Hazel</td>\n",
       "      <td>Bender</td>\n",
       "      <td>63</td>\n",
       "      <td>Carpenter</td>\n",
       "      <td>india</td>\n",
       "    </tr>\n",
       "    <tr>\n",
       "      <th>9</th>\n",
       "      <td>4000010</td>\n",
       "      <td>Dolores</td>\n",
       "      <td>McLaughlin</td>\n",
       "      <td>60</td>\n",
       "      <td>Writer</td>\n",
       "      <td>india</td>\n",
       "    </tr>\n",
       "    <tr>\n",
       "      <th>10</th>\n",
       "      <td>4000011</td>\n",
       "      <td>Francis</td>\n",
       "      <td>McNamara</td>\n",
       "      <td>47</td>\n",
       "      <td>Therapist</td>\n",
       "      <td>india</td>\n",
       "    </tr>\n",
       "    <tr>\n",
       "      <th>12</th>\n",
       "      <td>4000013</td>\n",
       "      <td>Marion</td>\n",
       "      <td>Moon</td>\n",
       "      <td>41</td>\n",
       "      <td>Carpenter</td>\n",
       "      <td>india</td>\n",
       "    </tr>\n",
       "    <tr>\n",
       "      <th>13</th>\n",
       "      <td>4000014</td>\n",
       "      <td>Beth</td>\n",
       "      <td>Woodard</td>\n",
       "      <td>65</td>\n",
       "      <td>Musician</td>\n",
       "      <td>india</td>\n",
       "    </tr>\n",
       "    <tr>\n",
       "      <th>14</th>\n",
       "      <td>4000015</td>\n",
       "      <td>Julia</td>\n",
       "      <td>Desai</td>\n",
       "      <td>49</td>\n",
       "      <td>Musician</td>\n",
       "      <td>india</td>\n",
       "    </tr>\n",
       "    <tr>\n",
       "      <th>15</th>\n",
       "      <td>4000016</td>\n",
       "      <td>Jerome</td>\n",
       "      <td>Wallace</td>\n",
       "      <td>52</td>\n",
       "      <td>Pharmacist</td>\n",
       "      <td>india</td>\n",
       "    </tr>\n",
       "    <tr>\n",
       "      <th>16</th>\n",
       "      <td>4000017</td>\n",
       "      <td>Neal</td>\n",
       "      <td>Lawrence</td>\n",
       "      <td>72</td>\n",
       "      <td>Computer support specialist</td>\n",
       "      <td>india</td>\n",
       "    </tr>\n",
       "    <tr>\n",
       "      <th>17</th>\n",
       "      <td>4000018</td>\n",
       "      <td>Jean</td>\n",
       "      <td>Griffin</td>\n",
       "      <td>45</td>\n",
       "      <td>Childcare worker</td>\n",
       "      <td>india</td>\n",
       "    </tr>\n",
       "    <tr>\n",
       "      <th>18</th>\n",
       "      <td>4000019</td>\n",
       "      <td>Kristine</td>\n",
       "      <td>Dougherty</td>\n",
       "      <td>63</td>\n",
       "      <td>Financial analyst</td>\n",
       "      <td>india</td>\n",
       "    </tr>\n",
       "    <tr>\n",
       "      <th>19</th>\n",
       "      <td>4000020</td>\n",
       "      <td>Crystal</td>\n",
       "      <td>Powers</td>\n",
       "      <td>67</td>\n",
       "      <td>Engineering technician</td>\n",
       "      <td>india</td>\n",
       "    </tr>\n",
       "    <tr>\n",
       "      <th>21</th>\n",
       "      <td>4000022</td>\n",
       "      <td>Eric</td>\n",
       "      <td>Steele</td>\n",
       "      <td>66</td>\n",
       "      <td>Doctor</td>\n",
       "      <td>india</td>\n",
       "    </tr>\n",
       "    <tr>\n",
       "      <th>22</th>\n",
       "      <td>4000023</td>\n",
       "      <td>Wesley</td>\n",
       "      <td>Teague</td>\n",
       "      <td>42</td>\n",
       "      <td>Carpenter</td>\n",
       "      <td>india</td>\n",
       "    </tr>\n",
       "    <tr>\n",
       "      <th>24</th>\n",
       "      <td>4000025</td>\n",
       "      <td>Claire</td>\n",
       "      <td>Gallagher</td>\n",
       "      <td>42</td>\n",
       "      <td>Musician</td>\n",
       "      <td>india</td>\n",
       "    </tr>\n",
       "    <tr>\n",
       "      <th>26</th>\n",
       "      <td>4000027</td>\n",
       "      <td>Marcia</td>\n",
       "      <td>Walsh</td>\n",
       "      <td>64</td>\n",
       "      <td>Accountant</td>\n",
       "      <td>india</td>\n",
       "    </tr>\n",
       "  </tbody>\n",
       "</table>\n",
       "</div>"
      ],
      "text/plain": [
       "         id     fname       lname  age                         prof    loc\n",
       "0   4000001  Kristina       Chung   55                        Pilot  india\n",
       "7   4000008     Hazel      Bender   63                    Carpenter  india\n",
       "9   4000010   Dolores  McLaughlin   60                       Writer  india\n",
       "10  4000011   Francis    McNamara   47                    Therapist  india\n",
       "12  4000013    Marion        Moon   41                    Carpenter  india\n",
       "13  4000014      Beth     Woodard   65                     Musician  india\n",
       "14  4000015     Julia       Desai   49                     Musician  india\n",
       "15  4000016    Jerome     Wallace   52                   Pharmacist  india\n",
       "16  4000017      Neal    Lawrence   72  Computer support specialist  india\n",
       "17  4000018      Jean     Griffin   45             Childcare worker  india\n",
       "18  4000019  Kristine   Dougherty   63            Financial analyst  india\n",
       "19  4000020   Crystal      Powers   67       Engineering technician  india\n",
       "21  4000022      Eric      Steele   66                       Doctor  india\n",
       "22  4000023    Wesley      Teague   42                    Carpenter  india\n",
       "24  4000025    Claire   Gallagher   42                     Musician  india\n",
       "26  4000027    Marcia       Walsh   64                   Accountant  india"
      ]
     },
     "execution_count": 16,
     "metadata": {},
     "output_type": "execute_result"
    }
   ],
   "source": [
    "df2=df1.loc[df[\"age\"]>40]\n",
    "df2"
   ]
  },
  {
   "cell_type": "markdown",
   "id": "6a5fe0cd",
   "metadata": {},
   "source": [
    "###### F. age range 30 to 40 [profession count]"
   ]
  },
  {
   "cell_type": "code",
   "execution_count": 17,
   "id": "c0e141b0",
   "metadata": {},
   "outputs": [
    {
     "data": {
      "text/plain": [
       "prof\n",
       "Artist                     1\n",
       "Environmental scientist    1\n",
       "Name: prof, dtype: int64"
      ]
     },
     "execution_count": 17,
     "metadata": {},
     "output_type": "execute_result"
    }
   ],
   "source": [
    "df2=df1.loc[(df1.age>=30)&(df1.age<=40) ].groupby(by=\"prof\")[\"prof\"].count()\n",
    "df2"
   ]
  },
  {
   "cell_type": "markdown",
   "id": "1bc6c3b2",
   "metadata": {},
   "source": [
    "### 10. us work"
   ]
  },
  {
   "cell_type": "code",
   "execution_count": 18,
   "id": "7ade5e5c",
   "metadata": {},
   "outputs": [
    {
     "data": {
      "text/html": [
       "<div>\n",
       "<style scoped>\n",
       "    .dataframe tbody tr th:only-of-type {\n",
       "        vertical-align: middle;\n",
       "    }\n",
       "\n",
       "    .dataframe tbody tr th {\n",
       "        vertical-align: top;\n",
       "    }\n",
       "\n",
       "    .dataframe thead th {\n",
       "        text-align: right;\n",
       "    }\n",
       "</style>\n",
       "<table border=\"1\" class=\"dataframe\">\n",
       "  <thead>\n",
       "    <tr style=\"text-align: right;\">\n",
       "      <th></th>\n",
       "      <th>id</th>\n",
       "      <th>fname</th>\n",
       "      <th>lname</th>\n",
       "      <th>age</th>\n",
       "      <th>prof</th>\n",
       "      <th>loc</th>\n",
       "    </tr>\n",
       "  </thead>\n",
       "  <tbody>\n",
       "    <tr>\n",
       "      <th>2</th>\n",
       "      <td>4000003</td>\n",
       "      <td>Sherri</td>\n",
       "      <td>Melton</td>\n",
       "      <td>34</td>\n",
       "      <td>Firefighter</td>\n",
       "      <td>us</td>\n",
       "    </tr>\n",
       "    <tr>\n",
       "      <th>63</th>\n",
       "      <td>4000064</td>\n",
       "      <td>Calvin</td>\n",
       "      <td>Diaz</td>\n",
       "      <td>65</td>\n",
       "      <td>Athlete</td>\n",
       "      <td>us</td>\n",
       "    </tr>\n",
       "    <tr>\n",
       "      <th>64</th>\n",
       "      <td>4000065</td>\n",
       "      <td>Eugene</td>\n",
       "      <td>Graham</td>\n",
       "      <td>52</td>\n",
       "      <td>Police officer</td>\n",
       "      <td>us</td>\n",
       "    </tr>\n",
       "    <tr>\n",
       "      <th>65</th>\n",
       "      <td>4000066</td>\n",
       "      <td>Vickie</td>\n",
       "      <td>Watkins</td>\n",
       "      <td>55</td>\n",
       "      <td>Computer support specialist</td>\n",
       "      <td>us</td>\n",
       "    </tr>\n",
       "    <tr>\n",
       "      <th>66</th>\n",
       "      <td>4000067</td>\n",
       "      <td>Luis</td>\n",
       "      <td>Hinton</td>\n",
       "      <td>69</td>\n",
       "      <td>Childcare worker</td>\n",
       "      <td>us</td>\n",
       "    </tr>\n",
       "  </tbody>\n",
       "</table>\n",
       "</div>"
      ],
      "text/plain": [
       "         id   fname    lname  age                         prof loc\n",
       "2   4000003  Sherri   Melton   34                  Firefighter  us\n",
       "63  4000064  Calvin     Diaz   65                      Athlete  us\n",
       "64  4000065  Eugene   Graham   52               Police officer  us\n",
       "65  4000066  Vickie  Watkins   55  Computer support specialist  us\n",
       "66  4000067    Luis   Hinton   69             Childcare worker  us"
      ]
     },
     "execution_count": 18,
     "metadata": {},
     "output_type": "execute_result"
    }
   ],
   "source": [
    "df1=df.loc[df[\"loc\"]==\"us\"]\n",
    "df1.head(5)"
   ]
  },
  {
   "cell_type": "markdown",
   "id": "8a40f115",
   "metadata": {},
   "source": [
    "###### A. Row count"
   ]
  },
  {
   "cell_type": "code",
   "execution_count": 19,
   "id": "43617612",
   "metadata": {},
   "outputs": [
    {
     "data": {
      "text/plain": [
       "id       78\n",
       "fname    78\n",
       "lname    78\n",
       "age      78\n",
       "prof     78\n",
       "loc      78\n",
       "dtype: int64"
      ]
     },
     "execution_count": 19,
     "metadata": {},
     "output_type": "execute_result"
    }
   ],
   "source": [
    "df1.count()"
   ]
  },
  {
   "cell_type": "markdown",
   "id": "58c7b6dd",
   "metadata": {},
   "source": [
    "###### B. Each age group count"
   ]
  },
  {
   "cell_type": "code",
   "execution_count": 20,
   "id": "53437b2e",
   "metadata": {},
   "outputs": [
    {
     "data": {
      "text/plain": [
       "age\n",
       "24    2\n",
       "25    3\n",
       "26    2\n",
       "27    2\n",
       "29    1\n",
       "30    1\n",
       "31    2\n",
       "32    2\n",
       "33    1\n",
       "34    4\n",
       "35    2\n",
       "36    1\n",
       "37    2\n",
       "38    1\n",
       "39    2\n",
       "41    1\n",
       "42    1\n",
       "44    3\n",
       "45    3\n",
       "46    1\n",
       "47    1\n",
       "48    1\n",
       "51    2\n",
       "52    3\n",
       "53    1\n",
       "54    4\n",
       "55    1\n",
       "58    1\n",
       "59    1\n",
       "61    3\n",
       "62    2\n",
       "63    1\n",
       "64    1\n",
       "65    2\n",
       "66    1\n",
       "67    2\n",
       "68    1\n",
       "69    3\n",
       "70    2\n",
       "71    1\n",
       "72    2\n",
       "73    4\n",
       "75    1\n",
       "Name: age, dtype: int64"
      ]
     },
     "execution_count": 20,
     "metadata": {},
     "output_type": "execute_result"
    }
   ],
   "source": [
    "df2=df1.groupby(by=\"age\")[\"age\"].count()\n",
    "df2"
   ]
  },
  {
   "cell_type": "markdown",
   "id": "755746e1",
   "metadata": {},
   "source": [
    "###### C. Each profession count [count desc]"
   ]
  },
  {
   "cell_type": "code",
   "execution_count": 21,
   "id": "f94e333d",
   "metadata": {},
   "outputs": [
    {
     "data": {
      "text/plain": [
       "prof\n",
       "Photographer                       5\n",
       "Childcare worker                   4\n",
       "Computer support specialist        4\n",
       "Musician                           4\n",
       "Loan officer                       4\n",
       "Veterinarian                       3\n",
       "Engineering technician             3\n",
       "Statistician                       3\n",
       "Recreation and fitness worker      3\n",
       "Agricultural and food scientist    3\n",
       "Real estate agent                  2\n",
       "Police officer                     2\n",
       "Pharmacist                         2\n",
       "Nurse                              2\n",
       "Lawyer                             2\n",
       "Firefighter                        2\n",
       "Actor                              2\n",
       "Human resources assistant          2\n",
       "Artist                             2\n",
       "Dancer                             2\n",
       "Athlete                            2\n",
       "Civil engineer                     2\n",
       "Electrician                        2\n",
       "Politician                         1\n",
       "Teacher                            1\n",
       "Architect                          1\n",
       "Social worker                      1\n",
       "Secretary                          1\n",
       "Psychologist                       1\n",
       "Environmental scientist            1\n",
       "Automotive mechanic                1\n",
       "Carpenter                          1\n",
       "Coach                              1\n",
       "Designer                           1\n",
       "Librarian                          1\n",
       "Doctor                             1\n",
       "Judge                              1\n",
       "Economist                          1\n",
       "Physicist                          1\n",
       "Name: prof, dtype: int64"
      ]
     },
     "execution_count": 21,
     "metadata": {},
     "output_type": "execute_result"
    }
   ],
   "source": [
    "df2=df1.groupby(by=\"prof\")[\"prof\"].count().sort_values(ascending=False)\n",
    "df2"
   ]
  },
  {
   "cell_type": "markdown",
   "id": "d1ed1d30",
   "metadata": {},
   "source": [
    "###### D. Civil engineer dept and age above 30"
   ]
  },
  {
   "cell_type": "code",
   "execution_count": 22,
   "id": "726f7529",
   "metadata": {},
   "outputs": [
    {
     "data": {
      "text/html": [
       "<div>\n",
       "<style scoped>\n",
       "    .dataframe tbody tr th:only-of-type {\n",
       "        vertical-align: middle;\n",
       "    }\n",
       "\n",
       "    .dataframe tbody tr th {\n",
       "        vertical-align: top;\n",
       "    }\n",
       "\n",
       "    .dataframe thead th {\n",
       "        text-align: right;\n",
       "    }\n",
       "</style>\n",
       "<table border=\"1\" class=\"dataframe\">\n",
       "  <thead>\n",
       "    <tr style=\"text-align: right;\">\n",
       "      <th></th>\n",
       "      <th>id</th>\n",
       "      <th>fname</th>\n",
       "      <th>lname</th>\n",
       "      <th>age</th>\n",
       "      <th>prof</th>\n",
       "      <th>loc</th>\n",
       "    </tr>\n",
       "  </thead>\n",
       "  <tbody>\n",
       "    <tr>\n",
       "      <th>82</th>\n",
       "      <td>4000083</td>\n",
       "      <td>Faye</td>\n",
       "      <td>Sparks</td>\n",
       "      <td>61</td>\n",
       "      <td>Civil engineer</td>\n",
       "      <td>us</td>\n",
       "    </tr>\n",
       "    <tr>\n",
       "      <th>131</th>\n",
       "      <td>4000132</td>\n",
       "      <td>Jessica</td>\n",
       "      <td>Hester</td>\n",
       "      <td>72</td>\n",
       "      <td>Civil engineer</td>\n",
       "      <td>us</td>\n",
       "    </tr>\n",
       "  </tbody>\n",
       "</table>\n",
       "</div>"
      ],
      "text/plain": [
       "          id    fname   lname  age            prof loc\n",
       "82   4000083     Faye  Sparks   61  Civil engineer  us\n",
       "131  4000132  Jessica  Hester   72  Civil engineer  us"
      ]
     },
     "execution_count": 22,
     "metadata": {},
     "output_type": "execute_result"
    }
   ],
   "source": [
    "df2=df1.loc[(df1[\"prof\"]==\"Civil engineer\")&(df1[\"age\"]>30)]\n",
    "df2"
   ]
  },
  {
   "cell_type": "code",
   "execution_count": null,
   "id": "b1c48e8a",
   "metadata": {},
   "outputs": [],
   "source": []
  }
 ],
 "metadata": {
  "kernelspec": {
   "display_name": "Python 3 (ipykernel)",
   "language": "python",
   "name": "python3"
  },
  "language_info": {
   "codemirror_mode": {
    "name": "ipython",
    "version": 3
   },
   "file_extension": ".py",
   "mimetype": "text/x-python",
   "name": "python",
   "nbconvert_exporter": "python",
   "pygments_lexer": "ipython3",
   "version": "3.10.9"
  }
 },
 "nbformat": 4,
 "nbformat_minor": 5
}
